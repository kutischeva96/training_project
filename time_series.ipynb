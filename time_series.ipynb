{
 "cells": [
  {
   "cell_type": "markdown",
   "metadata": {},
   "source": [
    "# Проект: Временные ряды"
   ]
  },
  {
   "cell_type": "markdown",
   "metadata": {
    "toc": true
   },
   "source": [
    "<h1>Содержание<span class=\"tocSkip\"></span></h1>\n",
    "<div class=\"toc\"><ul class=\"toc-item\"><li><span><a href=\"#Подготовка\" data-toc-modified-id=\"Подготовка-1\"><span class=\"toc-item-num\">1&nbsp;&nbsp;</span>Подготовка</a></span></li><li><span><a href=\"#Анализ\" data-toc-modified-id=\"Анализ-2\"><span class=\"toc-item-num\">2&nbsp;&nbsp;</span>Анализ</a></span></li><li><span><a href=\"#Обучение\" data-toc-modified-id=\"Обучение-3\"><span class=\"toc-item-num\">3&nbsp;&nbsp;</span>Обучение</a></span></li><li><span><a href=\"#Тестирование\" data-toc-modified-id=\"Тестирование-4\"><span class=\"toc-item-num\">4&nbsp;&nbsp;</span>Тестирование</a></span></li><li><span><a href=\"#Выводы:\" data-toc-modified-id=\"Выводы:-5\"><span class=\"toc-item-num\">5&nbsp;&nbsp;</span>Выводы:</a></span></li><li><span><a href=\"#Чек-лист-проверки\" data-toc-modified-id=\"Чек-лист-проверки-6\"><span class=\"toc-item-num\">6&nbsp;&nbsp;</span>Чек-лист проверки</a></span></li></ul></div>"
   ]
  },
  {
   "cell_type": "markdown",
   "metadata": {},
   "source": [
    "#  Прогнозирование заказов такси"
   ]
  },
  {
   "cell_type": "markdown",
   "metadata": {},
   "source": [
    "Компания «Чётенькое такси» собрала исторические данные о заказах такси в аэропортах. Чтобы привлекать больше водителей в период пиковой нагрузки, нужно спрогнозировать количество заказов такси на следующий час. Постройте модель для такого предсказания.\n",
    "\n",
    "Значение метрики *RMSE* на тестовой выборке должно быть не больше 48.\n",
    "\n",
    "Вам нужно:\n",
    "\n",
    "1. Загрузить данные и выполнить их ресемплирование по одному часу.\n",
    "2. Проанализировать данные.\n",
    "3. Обучить разные модели с различными гиперпараметрами. Сделать тестовую выборку размером 10% от исходных данных.\n",
    "4. Проверить данные на тестовой выборке и сделать выводы.\n",
    "\n",
    "\n",
    "Данные лежат в файле `taxi.csv`. Количество заказов находится в столбце `num_orders` (от англ. *number of orders*, «число заказов»)."
   ]
  },
  {
   "cell_type": "markdown",
   "metadata": {},
   "source": [
    "*Цель проекта:*\n",
    "Построить модель, которая пожет прогнозировать количество заказов такси на следующий час."
   ]
  },
  {
   "cell_type": "markdown",
   "metadata": {},
   "source": [
    "*Задачи:*\n",
    "- загрузить датафрейм;\n",
    "- исследовательский анализ данных;\n",
    "- добавление новых признаков;\n",
    "- обучение моделей;\n",
    "- предсказание на тестовых данных;\n",
    "- итоговые выводы."
   ]
  },
  {
   "cell_type": "markdown",
   "metadata": {},
   "source": [
    "**Описание данных:**\n",
    "- datetime - дата\n",
    "- num_orders - количество заказов"
   ]
  },
  {
   "cell_type": "markdown",
   "metadata": {},
   "source": [
    "## Подготовка"
   ]
  },
  {
   "cell_type": "code",
   "execution_count": 1,
   "metadata": {},
   "outputs": [],
   "source": [
    "import pandas as pd\n",
    "from statsmodels.tsa.seasonal import seasonal_decompose\n",
    "import matplotlib.pyplot as plt\n",
    "from sklearn.model_selection import train_test_split\n",
    "import seaborn as sns\n",
    "from sklearn.tree import DecisionTreeRegressor\n",
    "from sklearn.metrics import mean_squared_error\n",
    "from catboost import CatBoostRegressor\n",
    "from sklearn.model_selection import TimeSeriesSplit, GridSearchCV\n",
    "from sklearn.pipeline import Pipeline\n",
    "from sklearn.dummy import DummyRegressor\n",
    "from sklearn.neighbors import KNeighborsRegressor\n",
    "from statsmodels.graphics.tsaplots import plot_acf"
   ]
  },
  {
   "cell_type": "code",
   "execution_count": 2,
   "metadata": {},
   "outputs": [],
   "source": [
    "data = pd.read_csv('/datasets/taxi.csv', index_col=[0], parse_dates=[0])"
   ]
  },
  {
   "cell_type": "code",
   "execution_count": 3,
   "metadata": {},
   "outputs": [
    {
     "data": {
      "text/html": [
       "<div>\n",
       "<style scoped>\n",
       "    .dataframe tbody tr th:only-of-type {\n",
       "        vertical-align: middle;\n",
       "    }\n",
       "\n",
       "    .dataframe tbody tr th {\n",
       "        vertical-align: top;\n",
       "    }\n",
       "\n",
       "    .dataframe thead th {\n",
       "        text-align: right;\n",
       "    }\n",
       "</style>\n",
       "<table border=\"1\" class=\"dataframe\">\n",
       "  <thead>\n",
       "    <tr style=\"text-align: right;\">\n",
       "      <th></th>\n",
       "      <th>num_orders</th>\n",
       "    </tr>\n",
       "    <tr>\n",
       "      <th>datetime</th>\n",
       "      <th></th>\n",
       "    </tr>\n",
       "  </thead>\n",
       "  <tbody>\n",
       "    <tr>\n",
       "      <th>2018-03-01 00:00:00</th>\n",
       "      <td>9</td>\n",
       "    </tr>\n",
       "    <tr>\n",
       "      <th>2018-03-01 00:10:00</th>\n",
       "      <td>14</td>\n",
       "    </tr>\n",
       "    <tr>\n",
       "      <th>2018-03-01 00:20:00</th>\n",
       "      <td>28</td>\n",
       "    </tr>\n",
       "    <tr>\n",
       "      <th>2018-03-01 00:30:00</th>\n",
       "      <td>20</td>\n",
       "    </tr>\n",
       "    <tr>\n",
       "      <th>2018-03-01 00:40:00</th>\n",
       "      <td>32</td>\n",
       "    </tr>\n",
       "    <tr>\n",
       "      <th>2018-03-01 00:50:00</th>\n",
       "      <td>21</td>\n",
       "    </tr>\n",
       "    <tr>\n",
       "      <th>2018-03-01 01:00:00</th>\n",
       "      <td>7</td>\n",
       "    </tr>\n",
       "    <tr>\n",
       "      <th>2018-03-01 01:10:00</th>\n",
       "      <td>5</td>\n",
       "    </tr>\n",
       "    <tr>\n",
       "      <th>2018-03-01 01:20:00</th>\n",
       "      <td>17</td>\n",
       "    </tr>\n",
       "    <tr>\n",
       "      <th>2018-03-01 01:30:00</th>\n",
       "      <td>12</td>\n",
       "    </tr>\n",
       "  </tbody>\n",
       "</table>\n",
       "</div>"
      ],
      "text/plain": [
       "                     num_orders\n",
       "datetime                       \n",
       "2018-03-01 00:00:00           9\n",
       "2018-03-01 00:10:00          14\n",
       "2018-03-01 00:20:00          28\n",
       "2018-03-01 00:30:00          20\n",
       "2018-03-01 00:40:00          32\n",
       "2018-03-01 00:50:00          21\n",
       "2018-03-01 01:00:00           7\n",
       "2018-03-01 01:10:00           5\n",
       "2018-03-01 01:20:00          17\n",
       "2018-03-01 01:30:00          12"
      ]
     },
     "execution_count": 3,
     "metadata": {},
     "output_type": "execute_result"
    }
   ],
   "source": [
    "data.head(10)"
   ]
  },
  {
   "cell_type": "code",
   "execution_count": 4,
   "metadata": {},
   "outputs": [],
   "source": [
    "data.sort_index(inplace=True)\n"
   ]
  },
  {
   "cell_type": "code",
   "execution_count": 5,
   "metadata": {},
   "outputs": [
    {
     "name": "stdout",
     "output_type": "stream",
     "text": [
      "<class 'pandas.core.frame.DataFrame'>\n",
      "DatetimeIndex: 26496 entries, 2018-03-01 00:00:00 to 2018-08-31 23:50:00\n",
      "Data columns (total 1 columns):\n",
      " #   Column      Non-Null Count  Dtype\n",
      "---  ------      --------------  -----\n",
      " 0   num_orders  26496 non-null  int64\n",
      "dtypes: int64(1)\n",
      "memory usage: 414.0 KB\n"
     ]
    }
   ],
   "source": [
    "data.info()"
   ]
  },
  {
   "cell_type": "code",
   "execution_count": 6,
   "metadata": {},
   "outputs": [],
   "source": [
    "data = data.resample('1H').sum()"
   ]
  },
  {
   "cell_type": "code",
   "execution_count": 7,
   "metadata": {},
   "outputs": [
    {
     "data": {
      "text/html": [
       "<div>\n",
       "<style scoped>\n",
       "    .dataframe tbody tr th:only-of-type {\n",
       "        vertical-align: middle;\n",
       "    }\n",
       "\n",
       "    .dataframe tbody tr th {\n",
       "        vertical-align: top;\n",
       "    }\n",
       "\n",
       "    .dataframe thead th {\n",
       "        text-align: right;\n",
       "    }\n",
       "</style>\n",
       "<table border=\"1\" class=\"dataframe\">\n",
       "  <thead>\n",
       "    <tr style=\"text-align: right;\">\n",
       "      <th></th>\n",
       "      <th>num_orders</th>\n",
       "    </tr>\n",
       "    <tr>\n",
       "      <th>datetime</th>\n",
       "      <th></th>\n",
       "    </tr>\n",
       "  </thead>\n",
       "  <tbody>\n",
       "    <tr>\n",
       "      <th>2018-03-01 00:00:00</th>\n",
       "      <td>124</td>\n",
       "    </tr>\n",
       "    <tr>\n",
       "      <th>2018-03-01 01:00:00</th>\n",
       "      <td>85</td>\n",
       "    </tr>\n",
       "    <tr>\n",
       "      <th>2018-03-01 02:00:00</th>\n",
       "      <td>71</td>\n",
       "    </tr>\n",
       "    <tr>\n",
       "      <th>2018-03-01 03:00:00</th>\n",
       "      <td>66</td>\n",
       "    </tr>\n",
       "    <tr>\n",
       "      <th>2018-03-01 04:00:00</th>\n",
       "      <td>43</td>\n",
       "    </tr>\n",
       "    <tr>\n",
       "      <th>2018-03-01 05:00:00</th>\n",
       "      <td>6</td>\n",
       "    </tr>\n",
       "    <tr>\n",
       "      <th>2018-03-01 06:00:00</th>\n",
       "      <td>12</td>\n",
       "    </tr>\n",
       "    <tr>\n",
       "      <th>2018-03-01 07:00:00</th>\n",
       "      <td>15</td>\n",
       "    </tr>\n",
       "    <tr>\n",
       "      <th>2018-03-01 08:00:00</th>\n",
       "      <td>34</td>\n",
       "    </tr>\n",
       "    <tr>\n",
       "      <th>2018-03-01 09:00:00</th>\n",
       "      <td>69</td>\n",
       "    </tr>\n",
       "  </tbody>\n",
       "</table>\n",
       "</div>"
      ],
      "text/plain": [
       "                     num_orders\n",
       "datetime                       \n",
       "2018-03-01 00:00:00         124\n",
       "2018-03-01 01:00:00          85\n",
       "2018-03-01 02:00:00          71\n",
       "2018-03-01 03:00:00          66\n",
       "2018-03-01 04:00:00          43\n",
       "2018-03-01 05:00:00           6\n",
       "2018-03-01 06:00:00          12\n",
       "2018-03-01 07:00:00          15\n",
       "2018-03-01 08:00:00          34\n",
       "2018-03-01 09:00:00          69"
      ]
     },
     "execution_count": 7,
     "metadata": {},
     "output_type": "execute_result"
    }
   ],
   "source": [
    "data.head(10)"
   ]
  },
  {
   "cell_type": "markdown",
   "metadata": {},
   "source": [
    "Данные были загружены в датафрейм pandas. Выполнено ресемплирование по одному часу. Данные в выборке предоставлены с 01.03.2018 по 31.08.2018 (6 месяцев)."
   ]
  },
  {
   "cell_type": "markdown",
   "metadata": {},
   "source": [
    "## Анализ"
   ]
  },
  {
   "cell_type": "code",
   "execution_count": 8,
   "metadata": {},
   "outputs": [
    {
     "data": {
      "image/png": "[encoded data removed]",
      "text/plain": [
       "<Figure size 576x432 with 1 Axes>"
      ]
     },
     "metadata": {},
     "output_type": "display_data"
    }
   ],
   "source": [
    "sns.set(rc={'figure.figsize':(8,6)})\n",
    "\n",
    "data.plot()\n",
    "plt.xlabel('Дата')\n",
    "plt.ylabel('Количество записей')\n",
    "plt.title('Распределение заказов по датам', size=17)\n",
    "plt.show()"
   ]
  },
  {
   "cell_type": "code",
   "execution_count": 9,
   "metadata": {},
   "outputs": [
    {
     "data": {
      "image/png": "[encoded data removed]",
      "text/plain": [
       "<Figure size 576x432 with 1 Axes>"
      ]
     },
     "metadata": {},
     "output_type": "display_data"
    }
   ],
   "source": [
    "data.rolling(24).mean().plot()\n",
    "plt.xlabel('Дата')\n",
    "plt.ylabel('Количество записей')\n",
    "plt.title('Скользящее среднее за сутки', size=17)\n",
    "plt.show()"
   ]
  },
  {
   "cell_type": "markdown",
   "metadata": {},
   "source": [
    "По графикам видно, что заказы распределены по дням неравномерно."
   ]
  },
  {
   "cell_type": "code",
   "execution_count": 10,
   "metadata": {},
   "outputs": [
    {
     "data": {
      "image/png": "[encoded data removed]",
      "text/plain": [
       "<Figure size 432x576 with 3 Axes>"
      ]
     },
     "metadata": {},
     "output_type": "display_data"
    }
   ],
   "source": [
    "decomposed = seasonal_decompose(data) \n",
    "\n",
    "plt.figure(figsize=(6, 8))\n",
    "plt.subplot(311)\n",
    " \n",
    "decomposed.trend.plot(ax=plt.gca())\n",
    "plt.title('Trend')\n",
    "plt.ylabel('Количество записей')\n",
    "plt.subplot(312)\n",
    "decomposed.seasonal.plot(ax=plt.gca())\n",
    "plt.title('Seasonality')\n",
    "plt.ylabel('Количество записей')\n",
    "plt.subplot(313)\n",
    "decomposed.resid.plot(ax=plt.gca()) \n",
    "plt.title('Residuals')\n",
    "plt.ylabel('Количество записей')\n",
    "plt.tight_layout()"
   ]
  },
  {
   "cell_type": "markdown",
   "metadata": {},
   "source": [
    "На графике тренда видно, что количество заказов растет по месяцам, увеличивая скорость роста в летние месяцы."
   ]
  },
  {
   "cell_type": "code",
   "execution_count": 11,
   "metadata": {},
   "outputs": [
    {
     "data": {
      "image/png": "[encoded data removed]",
      "text/plain": [
       "<Figure size 576x432 with 1 Axes>"
      ]
     },
     "metadata": {},
     "output_type": "display_data"
    }
   ],
   "source": [
    "decomposed.seasonal['2018-03-01':'2018-03-02'].plot()\n",
    "plt.xlabel('Время')\n",
    "plt.ylabel('Количество записей')\n",
    "plt.title('График сезонности', size=17)\n",
    "plt.show()"
   ]
  },
  {
   "cell_type": "markdown",
   "metadata": {},
   "source": [
    "Наблюдается пик заказов в 00:00 и резкий спад в 06:00."
   ]
  },
  {
   "cell_type": "code",
   "execution_count": 12,
   "metadata": {},
   "outputs": [],
   "source": [
    "data['dayofweek'] = data.index.dayofweek"
   ]
  },
  {
   "cell_type": "code",
   "execution_count": 13,
   "metadata": {},
   "outputs": [],
   "source": [
    "data['hour'] = data.index.hour"
   ]
  },
  {
   "cell_type": "code",
   "execution_count": 14,
   "metadata": {},
   "outputs": [
    {
     "data": {
      "image/png": "[encoded data removed]",
      "text/plain": [
       "<Figure size 720x504 with 1 Axes>"
      ]
     },
     "metadata": {},
     "output_type": "display_data"
    }
   ],
   "source": [
    "sns.set(rc={'figure.figsize':(10,7)})\n",
    "for i in range(7):\n",
    "    data.loc[data['dayofweek'] == i].groupby('hour')['num_orders'].median().plot()\n",
    "    plt.legend(['Monday', 'Tuesday', 'Wednesday', 'Thursday', 'Friday', 'Saturday', 'Sunday'])\n",
    "plt.xlabel('Время')\n",
    "plt.ylabel('Количество записей')\n",
    "plt.title('Медианное количество записей по дням недели', size=17)\n",
    "plt.show()"
   ]
  },
  {
   "cell_type": "markdown",
   "metadata": {},
   "source": [
    "Заметны небольшие различия в заказах по дням недели. Например, большое количество заказов в 22 часа по пятницам, больше всего заказов с полуночи до 2 часов по понедельникам и субботам, в 10 часов чаще заказывают такси по понедельникам и пятницам."
   ]
  },
  {
   "cell_type": "code",
   "execution_count": 15,
   "metadata": {},
   "outputs": [
    {
     "data": {
      "image/png": "[encoded data removed]",
      "text/plain": [
       "<Figure size 576x432 with 1 Axes>"
      ]
     },
     "metadata": {},
     "output_type": "display_data"
    }
   ],
   "source": [
    "sns.set(rc={'figure.figsize':(8,6)})\n",
    "seasonal_decompose(data['num_orders'].resample('1D').sum()).seasonal['2018-07-01':'2018-07-31'].plot()\n",
    "plt.xlabel('Дата')\n",
    "plt.ylabel('Количество записей')\n",
    "plt.title('График сезонности по дням', size=17)\n",
    "plt.show()"
   ]
  },
  {
   "cell_type": "markdown",
   "metadata": {},
   "source": [
    "Больше всего заказов в понедельник и пятницу, меньше всего во вторник."
   ]
  },
  {
   "cell_type": "markdown",
   "metadata": {},
   "source": [
    "## Обучение"
   ]
  },
  {
   "cell_type": "code",
   "execution_count": 16,
   "metadata": {},
   "outputs": [],
   "source": [
    "RANDOM_STATE = 1"
   ]
  },
  {
   "cell_type": "markdown",
   "metadata": {},
   "source": [
    "Добавим новые признаки в датафрейм (день недели и час добавлены ранее): \n",
    "- скользящее среднее за последние 2 недели,\n",
    "- количество заказов в это время за последние 5 дней."
   ]
  },
  {
   "cell_type": "code",
   "execution_count": 17,
   "metadata": {},
   "outputs": [],
   "source": [
    "def make_features(data, max_lag, rolling_mean_size):\n",
    "    \n",
    "    for lag in range(24, max_lag*24 + 1, 24):\n",
    "        data['lag_{}'.format(lag)] = data['num_orders'].shift(lag)\n",
    "\n",
    "\n",
    "    data['rolling_mean'] = data['num_orders'].shift().rolling(rolling_mean_size).mean()\n",
    "    "
   ]
  },
  {
   "cell_type": "code",
   "execution_count": 18,
   "metadata": {},
   "outputs": [],
   "source": [
    "make_features(data, 5, 24 * 14)"
   ]
  },
  {
   "cell_type": "code",
   "execution_count": 19,
   "metadata": {},
   "outputs": [
    {
     "data": {
      "text/plain": [
       "Text(0.5, 1.0, 'Автокорреляция')"
      ]
     },
     "execution_count": 19,
     "metadata": {},
     "output_type": "execute_result"
    },
    {
     "data": {
      "image/png": "[encoded data removed]",
      "text/plain": [
       "<Figure size 864x432 with 1 Axes>"
      ]
     },
     "metadata": {},
     "output_type": "display_data"
    }
   ],
   "source": [
    "plt.figure(figsize=(12, 6))\n",
    "plt.subplot(211)\n",
    "plot_acf(data['num_orders'], lags=120, ax=plt.gca())\n",
    "plt.title('Автокорреляция')"
   ]
  },
  {
   "cell_type": "code",
   "execution_count": 20,
   "metadata": {},
   "outputs": [],
   "source": [
    "data = data.dropna()"
   ]
  },
  {
   "cell_type": "code",
   "execution_count": 21,
   "metadata": {},
   "outputs": [
    {
     "data": {
      "text/html": [
       "<div>\n",
       "<style scoped>\n",
       "    .dataframe tbody tr th:only-of-type {\n",
       "        vertical-align: middle;\n",
       "    }\n",
       "\n",
       "    .dataframe tbody tr th {\n",
       "        vertical-align: top;\n",
       "    }\n",
       "\n",
       "    .dataframe thead th {\n",
       "        text-align: right;\n",
       "    }\n",
       "</style>\n",
       "<table border=\"1\" class=\"dataframe\">\n",
       "  <thead>\n",
       "    <tr style=\"text-align: right;\">\n",
       "      <th></th>\n",
       "      <th>num_orders</th>\n",
       "      <th>dayofweek</th>\n",
       "      <th>hour</th>\n",
       "      <th>lag_24</th>\n",
       "      <th>lag_48</th>\n",
       "      <th>lag_72</th>\n",
       "      <th>lag_96</th>\n",
       "      <th>lag_120</th>\n",
       "      <th>rolling_mean</th>\n",
       "    </tr>\n",
       "    <tr>\n",
       "      <th>datetime</th>\n",
       "      <th></th>\n",
       "      <th></th>\n",
       "      <th></th>\n",
       "      <th></th>\n",
       "      <th></th>\n",
       "      <th></th>\n",
       "      <th></th>\n",
       "      <th></th>\n",
       "      <th></th>\n",
       "    </tr>\n",
       "  </thead>\n",
       "  <tbody>\n",
       "    <tr>\n",
       "      <th>2018-03-15 00:00:00</th>\n",
       "      <td>123</td>\n",
       "      <td>3</td>\n",
       "      <td>0</td>\n",
       "      <td>84.0</td>\n",
       "      <td>91.0</td>\n",
       "      <td>102.0</td>\n",
       "      <td>81.0</td>\n",
       "      <td>117.0</td>\n",
       "      <td>56.491071</td>\n",
       "    </tr>\n",
       "    <tr>\n",
       "      <th>2018-03-15 01:00:00</th>\n",
       "      <td>85</td>\n",
       "      <td>3</td>\n",
       "      <td>1</td>\n",
       "      <td>72.0</td>\n",
       "      <td>88.0</td>\n",
       "      <td>153.0</td>\n",
       "      <td>83.0</td>\n",
       "      <td>78.0</td>\n",
       "      <td>56.488095</td>\n",
       "    </tr>\n",
       "    <tr>\n",
       "      <th>2018-03-15 02:00:00</th>\n",
       "      <td>55</td>\n",
       "      <td>3</td>\n",
       "      <td>2</td>\n",
       "      <td>39.0</td>\n",
       "      <td>58.0</td>\n",
       "      <td>57.0</td>\n",
       "      <td>36.0</td>\n",
       "      <td>24.0</td>\n",
       "      <td>56.488095</td>\n",
       "    </tr>\n",
       "    <tr>\n",
       "      <th>2018-03-15 03:00:00</th>\n",
       "      <td>42</td>\n",
       "      <td>3</td>\n",
       "      <td>3</td>\n",
       "      <td>57.0</td>\n",
       "      <td>63.0</td>\n",
       "      <td>51.0</td>\n",
       "      <td>49.0</td>\n",
       "      <td>44.0</td>\n",
       "      <td>56.440476</td>\n",
       "    </tr>\n",
       "    <tr>\n",
       "      <th>2018-03-15 04:00:00</th>\n",
       "      <td>15</td>\n",
       "      <td>3</td>\n",
       "      <td>4</td>\n",
       "      <td>21.0</td>\n",
       "      <td>42.0</td>\n",
       "      <td>49.0</td>\n",
       "      <td>30.0</td>\n",
       "      <td>46.0</td>\n",
       "      <td>56.369048</td>\n",
       "    </tr>\n",
       "  </tbody>\n",
       "</table>\n",
       "</div>"
      ],
      "text/plain": [
       "                     num_orders  dayofweek  hour  lag_24  lag_48  lag_72  \\\n",
       "datetime                                                                   \n",
       "2018-03-15 00:00:00         123          3     0    84.0    91.0   102.0   \n",
       "2018-03-15 01:00:00          85          3     1    72.0    88.0   153.0   \n",
       "2018-03-15 02:00:00          55          3     2    39.0    58.0    57.0   \n",
       "2018-03-15 03:00:00          42          3     3    57.0    63.0    51.0   \n",
       "2018-03-15 04:00:00          15          3     4    21.0    42.0    49.0   \n",
       "\n",
       "                     lag_96  lag_120  rolling_mean  \n",
       "datetime                                            \n",
       "2018-03-15 00:00:00    81.0    117.0     56.491071  \n",
       "2018-03-15 01:00:00    83.0     78.0     56.488095  \n",
       "2018-03-15 02:00:00    36.0     24.0     56.488095  \n",
       "2018-03-15 03:00:00    49.0     44.0     56.440476  \n",
       "2018-03-15 04:00:00    30.0     46.0     56.369048  "
      ]
     },
     "execution_count": 21,
     "metadata": {},
     "output_type": "execute_result"
    }
   ],
   "source": [
    "data.head()"
   ]
  },
  {
   "cell_type": "code",
   "execution_count": 22,
   "metadata": {},
   "outputs": [],
   "source": [
    "train, test = train_test_split(data, shuffle=False, test_size=0.1)"
   ]
  },
  {
   "cell_type": "markdown",
   "metadata": {},
   "source": [
    "Для обучение выбраны модели: CatBoostRegressor(), DecisionTreeRegressor(), KNeighborsRegressor(). Предварительная обработка данных не требуется."
   ]
  },
  {
   "cell_type": "code",
   "execution_count": 23,
   "metadata": {},
   "outputs": [],
   "source": [
    "pipe = Pipeline([\n",
    "    ('model', CatBoostRegressor())\n",
    "])"
   ]
  },
  {
   "cell_type": "code",
   "execution_count": 24,
   "metadata": {},
   "outputs": [],
   "source": [
    "params = [\n",
    "   \n",
    "       {'model':  [CatBoostRegressor(verbose=1000, random_state=RANDOM_STATE)],\n",
    "        'model__iterations': [700, 1200],\n",
    "        'model__learning_rate': [0.08, 0.17]},\n",
    "    \n",
    "        {'model':  [DecisionTreeRegressor(random_state=RANDOM_STATE)],\n",
    "         'model__max_depth': range(6, 10)},\n",
    "    \n",
    "        {'model': [KNeighborsRegressor()],\n",
    "         'model__n_neighbors': range(8,12),\n",
    "         'model__weights': ['uniform', 'distance']}\n",
    "]\n",
    "\n"
   ]
  },
  {
   "cell_type": "code",
   "execution_count": 25,
   "metadata": {},
   "outputs": [
    {
     "name": "stdout",
     "output_type": "stream",
     "text": [
      "0:\tlearn: 29.0027451\ttotal: 47.6ms\tremaining: 33.3s\n",
      "699:\tlearn: 4.1404333\ttotal: 788ms\tremaining: 0us\n",
      "0:\tlearn: 32.0580924\ttotal: 1.97ms\tremaining: 1.38s\n",
      "699:\tlearn: 8.1156857\ttotal: 916ms\tremaining: 0us\n",
      "0:\tlearn: 32.9726826\ttotal: 1.91ms\tremaining: 1.33s\n",
      "699:\tlearn: 10.5355218\ttotal: 1.03s\tremaining: 0us\n",
      "0:\tlearn: 27.7799196\ttotal: 1.25ms\tremaining: 872ms\n",
      "699:\tlearn: 1.2629676\ttotal: 771ms\tremaining: 0us\n",
      "0:\tlearn: 30.6763979\ttotal: 1.54ms\tremaining: 1.08s\n",
      "699:\tlearn: 4.1262337\ttotal: 924ms\tremaining: 0us\n",
      "0:\tlearn: 31.5316960\ttotal: 1.74ms\tremaining: 1.22s\n",
      "699:\tlearn: 6.3792404\ttotal: 1.02s\tremaining: 0us\n",
      "0:\tlearn: 29.0027451\ttotal: 1.34ms\tremaining: 1.6s\n",
      "1000:\tlearn: 2.6469952\ttotal: 1.07s\tremaining: 214ms\n",
      "1199:\tlearn: 2.0191276\ttotal: 1.29s\tremaining: 0us\n",
      "0:\tlearn: 32.0580924\ttotal: 1.65ms\tremaining: 1.97s\n",
      "1000:\tlearn: 6.2116482\ttotal: 1.33s\tremaining: 265ms\n",
      "1199:\tlearn: 5.2244942\ttotal: 1.59s\tremaining: 0us\n",
      "0:\tlearn: 32.9726826\ttotal: 1.74ms\tremaining: 2.09s\n",
      "1000:\tlearn: 8.4372681\ttotal: 1.52s\tremaining: 302ms\n",
      "1199:\tlearn: 7.3460186\ttotal: 1.81s\tremaining: 0us\n",
      "0:\tlearn: 27.7799196\ttotal: 1.29ms\tremaining: 1.55s\n",
      "1000:\tlearn: 0.5187576\ttotal: 1.09s\tremaining: 217ms\n",
      "1199:\tlearn: 0.3122509\ttotal: 1.3s\tremaining: 0us\n",
      "0:\tlearn: 30.6763979\ttotal: 1.6ms\tremaining: 1.92s\n",
      "1000:\tlearn: 2.5281169\ttotal: 1.34s\tremaining: 267ms\n",
      "1199:\tlearn: 1.8586973\ttotal: 1.61s\tremaining: 0us\n",
      "0:\tlearn: 31.5316960\ttotal: 1.65ms\tremaining: 1.98s\n",
      "1000:\tlearn: 4.5393490\ttotal: 1.48s\tremaining: 295ms\n",
      "1199:\tlearn: 3.6906449\ttotal: 1.81s\tremaining: 0us\n",
      "0:\tlearn: 37.4569041\ttotal: 2.35ms\tremaining: 1.64s\n",
      "699:\tlearn: 12.6007431\ttotal: 1.2s\tremaining: 0us\n"
     ]
    },
    {
     "data": {
      "text/plain": [
       "GridSearchCV(cv=TimeSeriesSplit(gap=0, max_train_size=None, n_splits=3, test_size=None),\n",
       "             estimator=Pipeline(steps=[('model',\n",
       "                                        <catboost.core.CatBoostRegressor object at 0x7fcc064be4f0>)]),\n",
       "             n_jobs=-1,\n",
       "             param_grid=[{'model': [<catboost.core.CatBoostRegressor object at 0x7fcc064be970>],\n",
       "                          'model__iterations': [700, 1200],\n",
       "                          'model__learning_rate': [0.08, 0.17]},\n",
       "                         {'model': [DecisionTreeRegressor(random_state=1)],\n",
       "                          'model__max_depth': range(6, 10)},\n",
       "                         {'model': [KNeighborsRegressor()],\n",
       "                          'model__n_neighbors': range(8, 12),\n",
       "                          'model__weights': ['uniform', 'distance']}],\n",
       "             scoring='neg_root_mean_squared_error')"
      ]
     },
     "execution_count": 25,
     "metadata": {},
     "output_type": "execute_result"
    }
   ],
   "source": [
    "grid_search = GridSearchCV(\n",
    "    pipe, \n",
    "    params, \n",
    "    cv=TimeSeriesSplit(3),\n",
    "    scoring='neg_root_mean_squared_error',\n",
    "    n_jobs=-1\n",
    ")\n",
    "grid_search.fit(train.drop('num_orders', axis=1), train['num_orders'])"
   ]
  },
  {
   "cell_type": "code",
   "execution_count": 26,
   "metadata": {},
   "outputs": [
    {
     "data": {
      "text/plain": [
       "Pipeline(steps=[('model',\n",
       "                 <catboost.core.CatBoostRegressor object at 0x7fcc064cf6a0>)])"
      ]
     },
     "execution_count": 26,
     "metadata": {},
     "output_type": "execute_result"
    }
   ],
   "source": [
    "grid_search.best_estimator_"
   ]
  },
  {
   "cell_type": "code",
   "execution_count": 27,
   "metadata": {},
   "outputs": [
    {
     "data": {
      "text/plain": [
       "-26.640043216133034"
      ]
     },
     "execution_count": 27,
     "metadata": {},
     "output_type": "execute_result"
    }
   ],
   "source": [
    "grid_search.best_score_"
   ]
  },
  {
   "cell_type": "code",
   "execution_count": 28,
   "metadata": {},
   "outputs": [
    {
     "data": {
      "text/html": [
       "<div>\n",
       "<style scoped>\n",
       "    .dataframe tbody tr th:only-of-type {\n",
       "        vertical-align: middle;\n",
       "    }\n",
       "\n",
       "    .dataframe tbody tr th {\n",
       "        vertical-align: top;\n",
       "    }\n",
       "\n",
       "    .dataframe thead th {\n",
       "        text-align: right;\n",
       "    }\n",
       "</style>\n",
       "<table border=\"1\" class=\"dataframe\">\n",
       "  <thead>\n",
       "    <tr style=\"text-align: right;\">\n",
       "      <th></th>\n",
       "      <th>mean_fit_time</th>\n",
       "      <th>mean_score_time</th>\n",
       "      <th>params</th>\n",
       "      <th>mean_test_score</th>\n",
       "      <th>rank_test_score</th>\n",
       "    </tr>\n",
       "  </thead>\n",
       "  <tbody>\n",
       "    <tr>\n",
       "      <th>0</th>\n",
       "      <td>1.804088</td>\n",
       "      <td>0.002616</td>\n",
       "      <td>{'model': &lt;catboost.core.CatBoostRegressor obj...</td>\n",
       "      <td>-26.640043</td>\n",
       "      <td>1</td>\n",
       "    </tr>\n",
       "    <tr>\n",
       "      <th>1</th>\n",
       "      <td>1.800833</td>\n",
       "      <td>0.002435</td>\n",
       "      <td>{'model': &lt;catboost.core.CatBoostRegressor obj...</td>\n",
       "      <td>-27.032029</td>\n",
       "      <td>10</td>\n",
       "    </tr>\n",
       "    <tr>\n",
       "      <th>2</th>\n",
       "      <td>2.689180</td>\n",
       "      <td>0.002825</td>\n",
       "      <td>{'model': &lt;catboost.core.CatBoostRegressor obj...</td>\n",
       "      <td>-27.237473</td>\n",
       "      <td>11</td>\n",
       "    </tr>\n",
       "    <tr>\n",
       "      <th>3</th>\n",
       "      <td>2.590864</td>\n",
       "      <td>0.002853</td>\n",
       "      <td>{'model': &lt;catboost.core.CatBoostRegressor obj...</td>\n",
       "      <td>-27.311663</td>\n",
       "      <td>12</td>\n",
       "    </tr>\n",
       "    <tr>\n",
       "      <th>4</th>\n",
       "      <td>0.006762</td>\n",
       "      <td>0.001587</td>\n",
       "      <td>{'model': DecisionTreeRegressor(random_state=1...</td>\n",
       "      <td>-28.764024</td>\n",
       "      <td>13</td>\n",
       "    </tr>\n",
       "    <tr>\n",
       "      <th>5</th>\n",
       "      <td>0.007097</td>\n",
       "      <td>0.001514</td>\n",
       "      <td>{'model': DecisionTreeRegressor(random_state=1...</td>\n",
       "      <td>-29.845361</td>\n",
       "      <td>14</td>\n",
       "    </tr>\n",
       "    <tr>\n",
       "      <th>6</th>\n",
       "      <td>0.007599</td>\n",
       "      <td>0.001555</td>\n",
       "      <td>{'model': DecisionTreeRegressor(random_state=1...</td>\n",
       "      <td>-31.488479</td>\n",
       "      <td>15</td>\n",
       "    </tr>\n",
       "    <tr>\n",
       "      <th>7</th>\n",
       "      <td>0.008736</td>\n",
       "      <td>0.001650</td>\n",
       "      <td>{'model': DecisionTreeRegressor(random_state=1...</td>\n",
       "      <td>-33.060052</td>\n",
       "      <td>16</td>\n",
       "    </tr>\n",
       "    <tr>\n",
       "      <th>8</th>\n",
       "      <td>0.003623</td>\n",
       "      <td>0.013003</td>\n",
       "      <td>{'model': KNeighborsRegressor(), 'model__n_nei...</td>\n",
       "      <td>-27.031403</td>\n",
       "      <td>9</td>\n",
       "    </tr>\n",
       "    <tr>\n",
       "      <th>9</th>\n",
       "      <td>0.003593</td>\n",
       "      <td>0.013003</td>\n",
       "      <td>{'model': KNeighborsRegressor(), 'model__n_nei...</td>\n",
       "      <td>-27.020910</td>\n",
       "      <td>8</td>\n",
       "    </tr>\n",
       "    <tr>\n",
       "      <th>10</th>\n",
       "      <td>0.003538</td>\n",
       "      <td>0.013390</td>\n",
       "      <td>{'model': KNeighborsRegressor(), 'model__n_nei...</td>\n",
       "      <td>-26.949646</td>\n",
       "      <td>7</td>\n",
       "    </tr>\n",
       "    <tr>\n",
       "      <th>11</th>\n",
       "      <td>0.003647</td>\n",
       "      <td>0.013695</td>\n",
       "      <td>{'model': KNeighborsRegressor(), 'model__n_nei...</td>\n",
       "      <td>-26.930655</td>\n",
       "      <td>6</td>\n",
       "    </tr>\n",
       "    <tr>\n",
       "      <th>12</th>\n",
       "      <td>0.003601</td>\n",
       "      <td>0.013799</td>\n",
       "      <td>{'model': KNeighborsRegressor(), 'model__n_nei...</td>\n",
       "      <td>-26.896856</td>\n",
       "      <td>5</td>\n",
       "    </tr>\n",
       "    <tr>\n",
       "      <th>13</th>\n",
       "      <td>0.003655</td>\n",
       "      <td>0.014213</td>\n",
       "      <td>{'model': KNeighborsRegressor(), 'model__n_nei...</td>\n",
       "      <td>-26.870204</td>\n",
       "      <td>4</td>\n",
       "    </tr>\n",
       "    <tr>\n",
       "      <th>14</th>\n",
       "      <td>0.003534</td>\n",
       "      <td>0.014180</td>\n",
       "      <td>{'model': KNeighborsRegressor(), 'model__n_nei...</td>\n",
       "      <td>-26.729425</td>\n",
       "      <td>3</td>\n",
       "    </tr>\n",
       "    <tr>\n",
       "      <th>15</th>\n",
       "      <td>0.003599</td>\n",
       "      <td>0.014317</td>\n",
       "      <td>{'model': KNeighborsRegressor(), 'model__n_nei...</td>\n",
       "      <td>-26.709426</td>\n",
       "      <td>2</td>\n",
       "    </tr>\n",
       "  </tbody>\n",
       "</table>\n",
       "</div>"
      ],
      "text/plain": [
       "    mean_fit_time  mean_score_time  \\\n",
       "0        1.804088         0.002616   \n",
       "1        1.800833         0.002435   \n",
       "2        2.689180         0.002825   \n",
       "3        2.590864         0.002853   \n",
       "4        0.006762         0.001587   \n",
       "5        0.007097         0.001514   \n",
       "6        0.007599         0.001555   \n",
       "7        0.008736         0.001650   \n",
       "8        0.003623         0.013003   \n",
       "9        0.003593         0.013003   \n",
       "10       0.003538         0.013390   \n",
       "11       0.003647         0.013695   \n",
       "12       0.003601         0.013799   \n",
       "13       0.003655         0.014213   \n",
       "14       0.003534         0.014180   \n",
       "15       0.003599         0.014317   \n",
       "\n",
       "                                               params  mean_test_score  \\\n",
       "0   {'model': <catboost.core.CatBoostRegressor obj...       -26.640043   \n",
       "1   {'model': <catboost.core.CatBoostRegressor obj...       -27.032029   \n",
       "2   {'model': <catboost.core.CatBoostRegressor obj...       -27.237473   \n",
       "3   {'model': <catboost.core.CatBoostRegressor obj...       -27.311663   \n",
       "4   {'model': DecisionTreeRegressor(random_state=1...       -28.764024   \n",
       "5   {'model': DecisionTreeRegressor(random_state=1...       -29.845361   \n",
       "6   {'model': DecisionTreeRegressor(random_state=1...       -31.488479   \n",
       "7   {'model': DecisionTreeRegressor(random_state=1...       -33.060052   \n",
       "8   {'model': KNeighborsRegressor(), 'model__n_nei...       -27.031403   \n",
       "9   {'model': KNeighborsRegressor(), 'model__n_nei...       -27.020910   \n",
       "10  {'model': KNeighborsRegressor(), 'model__n_nei...       -26.949646   \n",
       "11  {'model': KNeighborsRegressor(), 'model__n_nei...       -26.930655   \n",
       "12  {'model': KNeighborsRegressor(), 'model__n_nei...       -26.896856   \n",
       "13  {'model': KNeighborsRegressor(), 'model__n_nei...       -26.870204   \n",
       "14  {'model': KNeighborsRegressor(), 'model__n_nei...       -26.729425   \n",
       "15  {'model': KNeighborsRegressor(), 'model__n_nei...       -26.709426   \n",
       "\n",
       "    rank_test_score  \n",
       "0                 1  \n",
       "1                10  \n",
       "2                11  \n",
       "3                12  \n",
       "4                13  \n",
       "5                14  \n",
       "6                15  \n",
       "7                16  \n",
       "8                 9  \n",
       "9                 8  \n",
       "10                7  \n",
       "11                6  \n",
       "12                5  \n",
       "13                4  \n",
       "14                3  \n",
       "15                2  "
      ]
     },
     "execution_count": 28,
     "metadata": {},
     "output_type": "execute_result"
    }
   ],
   "source": [
    "pd.DataFrame(grid_search.cv_results_)[['mean_fit_time', 'mean_score_time', 'params', 'mean_test_score', 'rank_test_score']]"
   ]
  },
  {
   "cell_type": "markdown",
   "metadata": {},
   "source": [
    "По результатам кросс-валидации лучшей выбрана модель CatBoostRegressor(iterations=700, learning_rate=0.08). Оценка RMSE модели на кросс-валидации 26.6"
   ]
  },
  {
   "cell_type": "markdown",
   "metadata": {},
   "source": [
    "## Тестирование"
   ]
  },
  {
   "cell_type": "markdown",
   "metadata": {},
   "source": [
    "Для проверки работы выбранной модели обучим DummyRegressor. "
   ]
  },
  {
   "cell_type": "code",
   "execution_count": 29,
   "metadata": {},
   "outputs": [],
   "source": [
    "dr = DummyRegressor(strategy='median')"
   ]
  },
  {
   "cell_type": "code",
   "execution_count": 30,
   "metadata": {},
   "outputs": [
    {
     "data": {
      "text/plain": [
       "DummyRegressor(strategy='median')"
      ]
     },
     "execution_count": 30,
     "metadata": {},
     "output_type": "execute_result"
    }
   ],
   "source": [
    "dr.fit(train.drop('num_orders', axis=1), train['num_orders'])"
   ]
  },
  {
   "cell_type": "code",
   "execution_count": 31,
   "metadata": {},
   "outputs": [
    {
     "data": {
      "text/plain": [
       "87.38704193436928"
      ]
     },
     "execution_count": 31,
     "metadata": {},
     "output_type": "execute_result"
    }
   ],
   "source": [
    "mean_squared_error(test['num_orders'], dr.predict(test.drop('num_orders', axis=1)), squared=False)"
   ]
  },
  {
   "cell_type": "code",
   "execution_count": 32,
   "metadata": {},
   "outputs": [
    {
     "name": "stdout",
     "output_type": "stream",
     "text": [
      "RMSE: 59.28993648695747\n"
     ]
    }
   ],
   "source": [
    "pred_previous = test['num_orders'].shift(fill_value=train['num_orders'].iloc[-1])\n",
    "print(\"RMSE:\", mean_squared_error(test['num_orders'], pred_previous, squared=False))"
   ]
  },
  {
   "cell_type": "markdown",
   "metadata": {},
   "source": [
    "При подстановке предыдущего значения оценка RMSE 59.3. При оценке DummyRegressor(strategy='median) - 87.4"
   ]
  },
  {
   "cell_type": "code",
   "execution_count": 33,
   "metadata": {
    "scrolled": true
   },
   "outputs": [
    {
     "name": "stdout",
     "output_type": "stream",
     "text": [
      "0:\tlearn: 37.4569041\ttotal: 1.96ms\tremaining: 1.37s\n",
      "699:\tlearn: 12.6007431\ttotal: 1.17s\tremaining: 0us\n"
     ]
    },
    {
     "data": {
      "text/plain": [
       "Pipeline(steps=[('model',\n",
       "                 <catboost.core.CatBoostRegressor object at 0x7fcc064cf6a0>)])"
      ]
     },
     "execution_count": 33,
     "metadata": {},
     "output_type": "execute_result"
    }
   ],
   "source": [
    "grid_search.best_estimator_.fit(train.drop('num_orders', axis=1), train['num_orders'])"
   ]
  },
  {
   "cell_type": "code",
   "execution_count": 34,
   "metadata": {},
   "outputs": [
    {
     "data": {
      "text/plain": [
       "38.869068817825664"
      ]
     },
     "execution_count": 34,
     "metadata": {},
     "output_type": "execute_result"
    }
   ],
   "source": [
    "mean_squared_error(test['num_orders'], grid_search.best_estimator_.predict(test.drop('num_orders', axis=1)), squared=False)"
   ]
  },
  {
   "cell_type": "markdown",
   "metadata": {},
   "source": [
    "Оценка модели на тестовых данных 38.8. Данный результат заметно лучше, чем предсказание медианного значения. Однако хуже, чем оценка модели на кросс-валидации. Подобную разницу можно связать с тем, что скорость роста количества заказов в августе больше, чем в остальные месяца. Модель обучена на данных, которые отличаются от тестовых, из-за чего на тестовых данных оценка качества ниже."
   ]
  },
  {
   "cell_type": "markdown",
   "metadata": {},
   "source": [
    "## Выводы:"
   ]
  },
  {
   "cell_type": "markdown",
   "metadata": {},
   "source": [
    "Получена выборка с данными о количестве заказов такси в аэропортах с 01.03.2018 по 31.08.2018 (6 месяцев). Данные были загружены в датафрейм pandas. Выполнено ресемплирование по одному часу. \n",
    "\n",
    "Выполнен анализ графиков:\n",
    "- количество заказов растет по месяцам, увеличивая скорость роста в летние месяцы,\n",
    "- наблюдается пик заказов в 00:00 и резкий спад в 06:00,\n",
    "- количество заказов зависит от дня недели. Например, большое количество заказов в 22 часа по пятницам, больше всего заказов с полуночи до 2 часов по понедельникам и субботам, в 10 часов чаще заказывают такси по понедельникам и пятницам.\n",
    "\n",
    "В датафрейм добавлены признаки: \n",
    "- номер месяца, \n",
    "- день недели,\n",
    "- час,\n",
    "- скользящее среднее за последние 2 недели,\n",
    "- количество заказов в это время за последние 5 дней.\n",
    "\n",
    "Обучены модели: CatBoostRegressor(), DecisionTreeRegressor(), KNeighborsRegressor(), выполнен подбор параметров. По результатам кросс-валидации лучшей выбрана модель CatBoostRegressor(iterations=700, learning_rate=0.08). Оценка RMSE модели на кросс-валидации 24.8.\n",
    "\n",
    "Оценка модели на тестовых данных 38.8. Данный результат заметно лучше, чем предсказание медианного значения. Однако хуже, чем оценка модели на кросс-валидации. Подобную разницу можно связать с тем, что скорость роста количества заказов в августе больше, чем в остальные месяца. Модель обучена на данных, которые отличаются от тестовых, из-за чего на тестовых данных оценка качества ниже."
   ]
  }
 ],
 "metadata": {
  "ExecuteTimeLog": [
   {
    "duration": 369,
    "start_time": "2024-03-11T16:33:57.840Z"
   },
   {
    "duration": 131,
    "start_time": "2024-03-11T16:34:35.726Z"
   },
   {
    "duration": 17,
    "start_time": "2024-03-11T16:34:42.746Z"
   },
   {
    "duration": 92,
    "start_time": "2024-03-11T17:12:42.491Z"
   },
   {
    "duration": 50,
    "start_time": "2024-03-11T17:12:50.484Z"
   },
   {
    "duration": 8,
    "start_time": "2024-03-11T17:12:51.191Z"
   },
   {
    "duration": 10,
    "start_time": "2024-03-11T17:12:53.011Z"
   },
   {
    "duration": 47,
    "start_time": "2024-03-11T17:15:36.039Z"
   },
   {
    "duration": 5,
    "start_time": "2024-03-11T17:15:36.845Z"
   },
   {
    "duration": 8,
    "start_time": "2024-03-11T17:15:37.329Z"
   },
   {
    "duration": 5,
    "start_time": "2024-03-11T17:17:06.951Z"
   },
   {
    "duration": 6,
    "start_time": "2024-03-11T17:17:12.518Z"
   },
   {
    "duration": 18,
    "start_time": "2024-03-11T17:17:38.526Z"
   },
   {
    "duration": 991,
    "start_time": "2024-03-11T17:18:56.262Z"
   },
   {
    "duration": 830,
    "start_time": "2024-03-11T17:19:00.382Z"
   },
   {
    "duration": 238,
    "start_time": "2024-03-11T17:21:30.032Z"
   },
   {
    "duration": 235,
    "start_time": "2024-03-11T17:21:46.206Z"
   },
   {
    "duration": 263,
    "start_time": "2024-03-11T17:22:52.341Z"
   },
   {
    "duration": 176,
    "start_time": "2024-03-11T17:23:02.437Z"
   },
   {
    "duration": 1590,
    "start_time": "2024-03-11T17:24:39.673Z"
   },
   {
    "duration": 358,
    "start_time": "2024-03-11T17:25:18.162Z"
   },
   {
    "duration": 1514,
    "start_time": "2024-03-13T17:22:26.494Z"
   },
   {
    "duration": 143,
    "start_time": "2024-03-13T17:22:28.010Z"
   },
   {
    "duration": 4,
    "start_time": "2024-03-13T17:22:28.154Z"
   },
   {
    "duration": 13,
    "start_time": "2024-03-13T17:22:28.159Z"
   },
   {
    "duration": 8,
    "start_time": "2024-03-13T17:22:28.173Z"
   },
   {
    "duration": 12,
    "start_time": "2024-03-13T17:22:28.183Z"
   },
   {
    "duration": 244,
    "start_time": "2024-03-13T17:22:28.198Z"
   },
   {
    "duration": 237,
    "start_time": "2024-03-13T17:22:28.443Z"
   },
   {
    "duration": 820,
    "start_time": "2024-03-13T17:22:28.682Z"
   },
   {
    "duration": 167,
    "start_time": "2024-03-13T17:22:29.505Z"
   },
   {
    "duration": 320,
    "start_time": "2024-03-13T17:22:29.674Z"
   },
   {
    "duration": 114,
    "start_time": "2024-03-13T17:22:29.996Z"
   },
   {
    "duration": 0,
    "start_time": "2024-03-13T17:22:30.112Z"
   },
   {
    "duration": 0,
    "start_time": "2024-03-13T17:22:30.113Z"
   },
   {
    "duration": 0,
    "start_time": "2024-03-13T17:22:30.114Z"
   },
   {
    "duration": 0,
    "start_time": "2024-03-13T17:22:30.115Z"
   },
   {
    "duration": 255,
    "start_time": "2024-03-13T17:24:43.218Z"
   },
   {
    "duration": 132,
    "start_time": "2024-03-13T17:29:23.686Z"
   },
   {
    "duration": 240,
    "start_time": "2024-03-13T17:29:55.570Z"
   },
   {
    "duration": 168,
    "start_time": "2024-03-13T17:30:04.160Z"
   },
   {
    "duration": 1424,
    "start_time": "2024-03-13T17:30:19.254Z"
   },
   {
    "duration": 49,
    "start_time": "2024-03-13T17:30:20.680Z"
   },
   {
    "duration": 3,
    "start_time": "2024-03-13T17:30:20.731Z"
   },
   {
    "duration": 12,
    "start_time": "2024-03-13T17:30:20.736Z"
   },
   {
    "duration": 11,
    "start_time": "2024-03-13T17:30:20.750Z"
   },
   {
    "duration": 19,
    "start_time": "2024-03-13T17:30:20.763Z"
   },
   {
    "duration": 235,
    "start_time": "2024-03-13T17:30:20.783Z"
   },
   {
    "duration": 222,
    "start_time": "2024-03-13T17:30:21.019Z"
   },
   {
    "duration": 735,
    "start_time": "2024-03-13T17:30:21.243Z"
   },
   {
    "duration": 157,
    "start_time": "2024-03-13T17:30:21.980Z"
   },
   {
    "duration": 159,
    "start_time": "2024-03-13T17:30:22.139Z"
   },
   {
    "duration": 110,
    "start_time": "2024-03-13T17:30:22.300Z"
   },
   {
    "duration": 0,
    "start_time": "2024-03-13T17:30:22.412Z"
   },
   {
    "duration": 0,
    "start_time": "2024-03-13T17:30:22.413Z"
   },
   {
    "duration": 0,
    "start_time": "2024-03-13T17:30:22.414Z"
   },
   {
    "duration": 0,
    "start_time": "2024-03-13T17:30:22.415Z"
   },
   {
    "duration": 4,
    "start_time": "2024-03-13T17:31:16.709Z"
   },
   {
    "duration": 10,
    "start_time": "2024-03-13T17:31:25.283Z"
   },
   {
    "duration": 1620,
    "start_time": "2024-03-13T17:34:29.247Z"
   },
   {
    "duration": 1682,
    "start_time": "2024-03-13T17:35:07.470Z"
   },
   {
    "duration": 1547,
    "start_time": "2024-03-13T17:35:17.427Z"
   },
   {
    "duration": 11,
    "start_time": "2024-03-13T17:35:40.690Z"
   },
   {
    "duration": 10,
    "start_time": "2024-03-13T17:35:52.269Z"
   },
   {
    "duration": 230,
    "start_time": "2024-03-13T17:36:03.768Z"
   },
   {
    "duration": 4,
    "start_time": "2024-03-13T17:36:56.636Z"
   },
   {
    "duration": 9,
    "start_time": "2024-03-13T17:37:06.400Z"
   },
   {
    "duration": 127,
    "start_time": "2024-03-13T17:37:46.017Z"
   },
   {
    "duration": 116,
    "start_time": "2024-03-13T17:37:53.906Z"
   },
   {
    "duration": 111,
    "start_time": "2024-03-13T17:38:05.826Z"
   },
   {
    "duration": 180,
    "start_time": "2024-03-13T17:38:55.011Z"
   },
   {
    "duration": 255,
    "start_time": "2024-03-13T17:40:48.395Z"
   },
   {
    "duration": 271,
    "start_time": "2024-03-13T17:42:45.348Z"
   },
   {
    "duration": 10,
    "start_time": "2024-03-13T17:44:43.840Z"
   },
   {
    "duration": 58,
    "start_time": "2024-03-13T17:45:02.660Z"
   },
   {
    "duration": 403,
    "start_time": "2024-03-13T17:45:07.910Z"
   },
   {
    "duration": 301,
    "start_time": "2024-03-13T17:45:16.736Z"
   },
   {
    "duration": 297,
    "start_time": "2024-03-13T17:45:23.720Z"
   },
   {
    "duration": 300,
    "start_time": "2024-03-13T17:49:06.633Z"
   },
   {
    "duration": 3,
    "start_time": "2024-03-13T17:50:22.555Z"
   },
   {
    "duration": 73,
    "start_time": "2024-03-13T17:55:11.816Z"
   },
   {
    "duration": 93,
    "start_time": "2024-03-13T17:55:33.484Z"
   },
   {
    "duration": 6731,
    "start_time": "2024-03-13T17:55:39.217Z"
   },
   {
    "duration": 8,
    "start_time": "2024-03-13T17:56:34.131Z"
   },
   {
    "duration": 16,
    "start_time": "2024-03-13T17:58:44.335Z"
   },
   {
    "duration": 3,
    "start_time": "2024-03-13T17:59:05.558Z"
   },
   {
    "duration": 3,
    "start_time": "2024-03-13T17:59:10.560Z"
   },
   {
    "duration": 3,
    "start_time": "2024-03-13T17:59:14.557Z"
   },
   {
    "duration": 9,
    "start_time": "2024-03-13T17:59:16.241Z"
   },
   {
    "duration": 2348,
    "start_time": "2024-03-13T18:00:07.807Z"
   },
   {
    "duration": 3,
    "start_time": "2024-03-13T18:01:01.805Z"
   },
   {
    "duration": 2302,
    "start_time": "2024-03-13T18:01:03.476Z"
   },
   {
    "duration": 2,
    "start_time": "2024-03-13T18:01:37.263Z"
   },
   {
    "duration": 5355,
    "start_time": "2024-03-13T18:01:39.554Z"
   },
   {
    "duration": 6,
    "start_time": "2024-03-13T18:02:29.394Z"
   },
   {
    "duration": 2457,
    "start_time": "2024-03-13T18:04:41.068Z"
   },
   {
    "duration": 19,
    "start_time": "2024-03-13T18:10:30.455Z"
   },
   {
    "duration": 2433,
    "start_time": "2024-03-13T18:10:36.777Z"
   },
   {
    "duration": 6,
    "start_time": "2024-03-13T18:10:49.945Z"
   },
   {
    "duration": 2,
    "start_time": "2024-03-13T18:10:51.054Z"
   },
   {
    "duration": 5258,
    "start_time": "2024-03-13T18:10:52.578Z"
   },
   {
    "duration": 7,
    "start_time": "2024-03-13T18:11:11.010Z"
   },
   {
    "duration": 3,
    "start_time": "2024-03-13T18:13:53.608Z"
   },
   {
    "duration": 5218,
    "start_time": "2024-03-13T18:13:54.380Z"
   },
   {
    "duration": 7,
    "start_time": "2024-03-13T18:14:12.670Z"
   },
   {
    "duration": 3,
    "start_time": "2024-03-13T18:17:44.506Z"
   },
   {
    "duration": 5385,
    "start_time": "2024-03-13T18:17:45.233Z"
   },
   {
    "duration": 7,
    "start_time": "2024-03-13T18:18:06.534Z"
   },
   {
    "duration": 3,
    "start_time": "2024-03-13T18:18:31.280Z"
   },
   {
    "duration": 5397,
    "start_time": "2024-03-13T18:18:32.095Z"
   },
   {
    "duration": 7,
    "start_time": "2024-03-13T18:18:37.604Z"
   },
   {
    "duration": 3,
    "start_time": "2024-03-13T18:19:00.630Z"
   },
   {
    "duration": 4919,
    "start_time": "2024-03-13T18:19:01.439Z"
   },
   {
    "duration": 10,
    "start_time": "2024-03-13T18:19:06.360Z"
   },
   {
    "duration": 7793,
    "start_time": "2024-03-15T02:55:38.742Z"
   },
   {
    "duration": 127,
    "start_time": "2024-03-15T02:55:46.536Z"
   },
   {
    "duration": 16,
    "start_time": "2024-03-15T02:56:03.349Z"
   },
   {
    "duration": 9,
    "start_time": "2024-03-15T02:56:04.155Z"
   },
   {
    "duration": 768,
    "start_time": "2024-03-15T02:56:15.847Z"
   },
   {
    "duration": 4,
    "start_time": "2024-03-15T02:56:27.281Z"
   },
   {
    "duration": 7,
    "start_time": "2024-03-15T02:56:28.000Z"
   },
   {
    "duration": 5,
    "start_time": "2024-03-15T02:56:38.265Z"
   },
   {
    "duration": 7,
    "start_time": "2024-03-15T02:56:38.816Z"
   },
   {
    "duration": 125,
    "start_time": "2024-03-15T02:56:48.329Z"
   },
   {
    "duration": 6,
    "start_time": "2024-03-15T02:57:02.671Z"
   },
   {
    "duration": 716,
    "start_time": "2024-03-15T02:57:18.827Z"
   },
   {
    "duration": 48,
    "start_time": "2024-03-15T08:52:26.728Z"
   },
   {
    "duration": 7894,
    "start_time": "2024-03-15T08:52:33.250Z"
   },
   {
    "duration": 120,
    "start_time": "2024-03-15T08:52:41.146Z"
   },
   {
    "duration": 3,
    "start_time": "2024-03-15T08:52:41.268Z"
   },
   {
    "duration": 20,
    "start_time": "2024-03-15T08:52:41.272Z"
   },
   {
    "duration": 8,
    "start_time": "2024-03-15T08:52:41.294Z"
   },
   {
    "duration": 11,
    "start_time": "2024-03-15T08:52:41.303Z"
   },
   {
    "duration": 216,
    "start_time": "2024-03-15T08:52:41.315Z"
   },
   {
    "duration": 318,
    "start_time": "2024-03-15T08:52:41.533Z"
   },
   {
    "duration": 749,
    "start_time": "2024-03-15T08:52:41.854Z"
   },
   {
    "duration": 170,
    "start_time": "2024-03-15T08:52:42.605Z"
   },
   {
    "duration": 4,
    "start_time": "2024-03-15T08:52:42.777Z"
   },
   {
    "duration": 7,
    "start_time": "2024-03-15T08:52:42.783Z"
   },
   {
    "duration": 331,
    "start_time": "2024-03-15T08:52:42.792Z"
   },
   {
    "duration": 5,
    "start_time": "2024-03-15T08:52:43.126Z"
   },
   {
    "duration": 22,
    "start_time": "2024-03-15T08:52:43.132Z"
   },
   {
    "duration": 8,
    "start_time": "2024-03-15T08:52:43.155Z"
   },
   {
    "duration": 13,
    "start_time": "2024-03-15T08:52:43.165Z"
   },
   {
    "duration": 7,
    "start_time": "2024-03-15T08:52:43.180Z"
   },
   {
    "duration": 10,
    "start_time": "2024-03-15T08:52:43.188Z"
   },
   {
    "duration": 5773,
    "start_time": "2024-03-15T08:52:43.200Z"
   },
   {
    "duration": 7,
    "start_time": "2024-03-15T08:52:48.975Z"
   },
   {
    "duration": 3,
    "start_time": "2024-03-15T08:55:07.812Z"
   },
   {
    "duration": 3,
    "start_time": "2024-03-15T08:55:09.426Z"
   },
   {
    "duration": 9856,
    "start_time": "2024-03-15T08:55:13.208Z"
   },
   {
    "duration": 7,
    "start_time": "2024-03-15T08:55:30.372Z"
   },
   {
    "duration": 125,
    "start_time": "2024-03-15T08:59:03.773Z"
   },
   {
    "duration": 4,
    "start_time": "2024-03-15T08:59:12.659Z"
   },
   {
    "duration": 10391,
    "start_time": "2024-03-15T08:59:14.111Z"
   },
   {
    "duration": 7,
    "start_time": "2024-03-15T08:59:37.126Z"
   },
   {
    "duration": 2,
    "start_time": "2024-03-15T09:02:43.872Z"
   },
   {
    "duration": 3,
    "start_time": "2024-03-15T09:04:22.928Z"
   },
   {
    "duration": 85,
    "start_time": "2024-03-15T09:04:23.537Z"
   },
   {
    "duration": 10618,
    "start_time": "2024-03-15T09:04:24.967Z"
   },
   {
    "duration": 8,
    "start_time": "2024-03-15T09:04:39.754Z"
   },
   {
    "duration": 65,
    "start_time": "2024-03-15T09:05:26.461Z"
   },
   {
    "duration": 10033,
    "start_time": "2024-03-15T09:05:27.278Z"
   },
   {
    "duration": 7,
    "start_time": "2024-03-15T09:05:37.313Z"
   },
   {
    "duration": 11,
    "start_time": "2024-03-15T09:06:58.343Z"
   },
   {
    "duration": 9899,
    "start_time": "2024-03-15T09:06:58.912Z"
   },
   {
    "duration": 7,
    "start_time": "2024-03-15T09:07:08.813Z"
   },
   {
    "duration": 3,
    "start_time": "2024-03-15T09:07:46.334Z"
   },
   {
    "duration": 17705,
    "start_time": "2024-03-15T09:07:47.034Z"
   },
   {
    "duration": 8,
    "start_time": "2024-03-15T09:08:04.740Z"
   },
   {
    "duration": 4,
    "start_time": "2024-03-15T09:08:43.456Z"
   },
   {
    "duration": 28912,
    "start_time": "2024-03-15T09:08:50.813Z"
   },
   {
    "duration": 9,
    "start_time": "2024-03-15T09:09:19.727Z"
   },
   {
    "duration": 4,
    "start_time": "2024-03-15T09:13:57.802Z"
   },
   {
    "duration": 19778,
    "start_time": "2024-03-15T09:13:59.262Z"
   },
   {
    "duration": 9,
    "start_time": "2024-03-15T09:14:19.042Z"
   },
   {
    "duration": 5,
    "start_time": "2024-03-15T09:16:03.674Z"
   },
   {
    "duration": 20104,
    "start_time": "2024-03-15T09:16:04.441Z"
   },
   {
    "duration": 9,
    "start_time": "2024-03-15T09:16:24.548Z"
   },
   {
    "duration": 4,
    "start_time": "2024-03-15T09:18:08.236Z"
   },
   {
    "duration": 7,
    "start_time": "2024-03-15T09:18:30.277Z"
   },
   {
    "duration": 71,
    "start_time": "2024-03-15T09:19:43.086Z"
   },
   {
    "duration": 7,
    "start_time": "2024-03-15T09:20:07.630Z"
   },
   {
    "duration": 6,
    "start_time": "2024-03-15T09:20:37.509Z"
   },
   {
    "duration": 15,
    "start_time": "2024-03-15T09:21:55.035Z"
   },
   {
    "duration": 4,
    "start_time": "2024-03-15T09:24:26.799Z"
   },
   {
    "duration": 3,
    "start_time": "2024-03-15T09:27:09.015Z"
   },
   {
    "duration": 68,
    "start_time": "2024-03-15T09:30:30.906Z"
   },
   {
    "duration": 3,
    "start_time": "2024-03-15T09:30:37.527Z"
   },
   {
    "duration": 13,
    "start_time": "2024-03-15T09:30:41.583Z"
   },
   {
    "duration": 4,
    "start_time": "2024-03-15T09:31:03.456Z"
   },
   {
    "duration": 19249,
    "start_time": "2024-03-15T09:31:07.237Z"
   },
   {
    "duration": 13,
    "start_time": "2024-03-15T09:31:34.242Z"
   },
   {
    "duration": 4,
    "start_time": "2024-03-15T09:31:55.461Z"
   },
   {
    "duration": 4,
    "start_time": "2024-03-15T09:32:08.323Z"
   },
   {
    "duration": 7,
    "start_time": "2024-03-15T09:32:24.121Z"
   },
   {
    "duration": 3,
    "start_time": "2024-03-15T09:34:58.426Z"
   },
   {
    "duration": 3,
    "start_time": "2024-03-15T09:35:17.544Z"
   },
   {
    "duration": 7,
    "start_time": "2024-03-15T09:35:20.733Z"
   },
   {
    "duration": 5,
    "start_time": "2024-03-15T09:35:22.361Z"
   },
   {
    "duration": 5,
    "start_time": "2024-03-15T09:35:23.397Z"
   },
   {
    "duration": 2,
    "start_time": "2024-03-15T09:35:27.524Z"
   },
   {
    "duration": 4,
    "start_time": "2024-03-15T09:35:28.883Z"
   },
   {
    "duration": 25811,
    "start_time": "2024-03-15T09:35:32.490Z"
   },
   {
    "duration": 13,
    "start_time": "2024-03-15T09:36:02.521Z"
   },
   {
    "duration": 4,
    "start_time": "2024-03-15T09:36:09.231Z"
   },
   {
    "duration": 3,
    "start_time": "2024-03-15T09:36:15.835Z"
   },
   {
    "duration": 8,
    "start_time": "2024-03-15T09:36:23.900Z"
   },
   {
    "duration": 3,
    "start_time": "2024-03-15T09:38:55.909Z"
   },
   {
    "duration": 1357,
    "start_time": "2024-03-15T09:39:05.829Z"
   },
   {
    "duration": 7,
    "start_time": "2024-03-15T09:39:25.828Z"
   },
   {
    "duration": 2,
    "start_time": "2024-03-15T09:40:01.936Z"
   },
   {
    "duration": 10,
    "start_time": "2024-03-15T09:40:03.234Z"
   },
   {
    "duration": 11,
    "start_time": "2024-03-15T09:40:04.539Z"
   },
   {
    "duration": 14,
    "start_time": "2024-03-15T09:40:20.352Z"
   },
   {
    "duration": 3,
    "start_time": "2024-03-15T09:40:33.466Z"
   },
   {
    "duration": 10,
    "start_time": "2024-03-15T09:40:35.141Z"
   },
   {
    "duration": 11,
    "start_time": "2024-03-15T09:40:35.906Z"
   },
   {
    "duration": 5,
    "start_time": "2024-03-15T09:41:05.866Z"
   },
   {
    "duration": 9,
    "start_time": "2024-03-15T09:41:12.871Z"
   },
   {
    "duration": 11,
    "start_time": "2024-03-15T09:41:13.543Z"
   },
   {
    "duration": 3,
    "start_time": "2024-03-15T09:41:43.101Z"
   },
   {
    "duration": 1396,
    "start_time": "2024-03-15T09:41:43.669Z"
   },
   {
    "duration": 6,
    "start_time": "2024-03-15T09:41:45.067Z"
   },
   {
    "duration": 3,
    "start_time": "2024-03-15T09:41:53.901Z"
   },
   {
    "duration": 2505,
    "start_time": "2024-03-15T09:41:54.833Z"
   },
   {
    "duration": 7,
    "start_time": "2024-03-15T09:42:00.956Z"
   },
   {
    "duration": 4,
    "start_time": "2024-03-15T09:42:10.099Z"
   },
   {
    "duration": 5,
    "start_time": "2024-03-15T09:42:10.901Z"
   },
   {
    "duration": 2,
    "start_time": "2024-03-15T09:42:21.285Z"
   },
   {
    "duration": 2558,
    "start_time": "2024-03-15T09:42:21.988Z"
   },
   {
    "duration": 8,
    "start_time": "2024-03-15T09:42:25.685Z"
   },
   {
    "duration": 6,
    "start_time": "2024-03-15T09:42:53.408Z"
   },
   {
    "duration": 4,
    "start_time": "2024-03-15T09:42:54.011Z"
   },
   {
    "duration": 9,
    "start_time": "2024-03-15T09:42:55.834Z"
   },
   {
    "duration": 2,
    "start_time": "2024-03-15T09:43:00.815Z"
   },
   {
    "duration": 3112,
    "start_time": "2024-03-15T09:43:01.471Z"
   },
   {
    "duration": 11,
    "start_time": "2024-03-15T09:43:08.915Z"
   },
   {
    "duration": 10,
    "start_time": "2024-03-15T09:43:45.935Z"
   },
   {
    "duration": 5,
    "start_time": "2024-03-15T09:43:46.404Z"
   },
   {
    "duration": 8,
    "start_time": "2024-03-15T09:43:46.922Z"
   },
   {
    "duration": 3,
    "start_time": "2024-03-15T09:43:57.758Z"
   },
   {
    "duration": 3540,
    "start_time": "2024-03-15T09:43:58.477Z"
   },
   {
    "duration": 13,
    "start_time": "2024-03-15T09:44:05.234Z"
   },
   {
    "duration": 3,
    "start_time": "2024-03-15T09:44:18.559Z"
   },
   {
    "duration": 1887,
    "start_time": "2024-03-15T09:44:19.295Z"
   },
   {
    "duration": 12,
    "start_time": "2024-03-15T09:44:23.918Z"
   },
   {
    "duration": 3,
    "start_time": "2024-03-15T09:44:31.106Z"
   },
   {
    "duration": 3288,
    "start_time": "2024-03-15T09:44:33.003Z"
   },
   {
    "duration": 7,
    "start_time": "2024-03-15T09:44:36.292Z"
   },
   {
    "duration": 6,
    "start_time": "2024-03-15T09:44:43.616Z"
   },
   {
    "duration": 1930,
    "start_time": "2024-03-15T09:44:44.247Z"
   },
   {
    "duration": 6,
    "start_time": "2024-03-15T09:44:46.179Z"
   },
   {
    "duration": 4,
    "start_time": "2024-03-15T09:46:32.606Z"
   },
   {
    "duration": 5,
    "start_time": "2024-03-15T09:46:33.672Z"
   },
   {
    "duration": 4,
    "start_time": "2024-03-15T09:46:34.212Z"
   },
   {
    "duration": 6,
    "start_time": "2024-03-15T09:46:34.746Z"
   },
   {
    "duration": 4,
    "start_time": "2024-03-15T09:46:41.821Z"
   },
   {
    "duration": 3312,
    "start_time": "2024-03-15T09:46:42.503Z"
   },
   {
    "duration": 8,
    "start_time": "2024-03-15T09:46:47.206Z"
   },
   {
    "duration": 4,
    "start_time": "2024-03-15T09:48:06.180Z"
   },
   {
    "duration": 7,
    "start_time": "2024-03-15T09:48:06.698Z"
   },
   {
    "duration": 5,
    "start_time": "2024-03-15T09:48:07.189Z"
   },
   {
    "duration": 6,
    "start_time": "2024-03-15T09:48:09.149Z"
   },
   {
    "duration": 3799,
    "start_time": "2024-03-15T09:48:13.599Z"
   },
   {
    "duration": 8,
    "start_time": "2024-03-15T09:48:20.504Z"
   },
   {
    "duration": 17,
    "start_time": "2024-03-15T09:50:35.437Z"
   },
   {
    "duration": 7,
    "start_time": "2024-03-15T09:50:38.145Z"
   },
   {
    "duration": 3,
    "start_time": "2024-03-15T09:50:50.342Z"
   },
   {
    "duration": 1248,
    "start_time": "2024-03-15T09:50:53.321Z"
   },
   {
    "duration": 10,
    "start_time": "2024-03-15T09:50:56.037Z"
   },
   {
    "duration": 2,
    "start_time": "2024-03-15T09:51:11.868Z"
   },
   {
    "duration": 2092,
    "start_time": "2024-03-15T09:51:12.322Z"
   },
   {
    "duration": 8,
    "start_time": "2024-03-15T09:51:15.401Z"
   },
   {
    "duration": 9291,
    "start_time": "2024-03-15T16:50:11.915Z"
   },
   {
    "duration": 146,
    "start_time": "2024-03-15T16:50:21.208Z"
   },
   {
    "duration": 3,
    "start_time": "2024-03-15T16:50:21.357Z"
   },
   {
    "duration": 28,
    "start_time": "2024-03-15T16:50:21.364Z"
   },
   {
    "duration": 15,
    "start_time": "2024-03-15T16:50:21.394Z"
   },
   {
    "duration": 13,
    "start_time": "2024-03-15T16:50:21.411Z"
   },
   {
    "duration": 294,
    "start_time": "2024-03-15T16:50:21.425Z"
   },
   {
    "duration": 324,
    "start_time": "2024-03-15T16:50:21.721Z"
   },
   {
    "duration": 857,
    "start_time": "2024-03-15T16:50:22.047Z"
   },
   {
    "duration": 170,
    "start_time": "2024-03-15T16:50:22.907Z"
   },
   {
    "duration": 12,
    "start_time": "2024-03-15T16:50:23.086Z"
   },
   {
    "duration": 7,
    "start_time": "2024-03-15T16:50:23.100Z"
   },
   {
    "duration": 376,
    "start_time": "2024-03-15T16:50:23.109Z"
   },
   {
    "duration": 2,
    "start_time": "2024-03-15T16:50:29.637Z"
   },
   {
    "duration": 4,
    "start_time": "2024-03-15T16:50:32.330Z"
   },
   {
    "duration": 14,
    "start_time": "2024-03-15T16:50:34.977Z"
   },
   {
    "duration": 16,
    "start_time": "2024-03-15T16:50:43.053Z"
   },
   {
    "duration": 26,
    "start_time": "2024-03-15T16:51:06.171Z"
   },
   {
    "duration": 8,
    "start_time": "2024-03-15T16:52:56.491Z"
   },
   {
    "duration": 8,
    "start_time": "2024-03-15T16:52:57.009Z"
   },
   {
    "duration": 8,
    "start_time": "2024-03-15T16:52:59.992Z"
   },
   {
    "duration": 4,
    "start_time": "2024-03-15T16:53:00.721Z"
   },
   {
    "duration": 4,
    "start_time": "2024-03-15T16:53:14.875Z"
   },
   {
    "duration": 1919,
    "start_time": "2024-03-15T16:53:15.952Z"
   },
   {
    "duration": 13,
    "start_time": "2024-03-15T16:53:22.571Z"
   },
   {
    "duration": 12,
    "start_time": "2024-03-15T16:53:36.275Z"
   },
   {
    "duration": 2300,
    "start_time": "2024-03-15T16:53:37.016Z"
   },
   {
    "duration": 7,
    "start_time": "2024-03-15T16:53:39.318Z"
   },
   {
    "duration": 3,
    "start_time": "2024-03-15T16:53:49.757Z"
   },
   {
    "duration": 2749,
    "start_time": "2024-03-15T16:53:50.590Z"
   },
   {
    "duration": 7,
    "start_time": "2024-03-15T16:53:53.341Z"
   },
   {
    "duration": 4,
    "start_time": "2024-03-15T16:54:00.081Z"
   },
   {
    "duration": 2490,
    "start_time": "2024-03-15T16:54:00.709Z"
   },
   {
    "duration": 7,
    "start_time": "2024-03-15T16:54:03.200Z"
   },
   {
    "duration": 4,
    "start_time": "2024-03-15T17:01:43.692Z"
   },
   {
    "duration": 3790,
    "start_time": "2024-03-15T17:01:44.603Z"
   },
   {
    "duration": 8,
    "start_time": "2024-03-15T17:01:53.604Z"
   },
   {
    "duration": 168,
    "start_time": "2024-03-15T17:02:35.936Z"
   },
   {
    "duration": 4,
    "start_time": "2024-03-15T17:03:46.590Z"
   },
   {
    "duration": 4337,
    "start_time": "2024-03-15T17:03:48.689Z"
   },
   {
    "duration": 3,
    "start_time": "2024-03-15T17:05:23.122Z"
   },
   {
    "duration": 2797,
    "start_time": "2024-03-15T17:05:26.238Z"
   },
   {
    "duration": 8,
    "start_time": "2024-03-15T17:05:34.242Z"
   },
   {
    "duration": 3,
    "start_time": "2024-03-15T17:05:44.967Z"
   },
   {
    "duration": 2683,
    "start_time": "2024-03-15T17:05:50.572Z"
   },
   {
    "duration": 11,
    "start_time": "2024-03-15T17:05:57.565Z"
   },
   {
    "duration": 97,
    "start_time": "2024-03-15T17:12:34.549Z"
   },
   {
    "duration": 109,
    "start_time": "2024-03-15T17:12:47.373Z"
   },
   {
    "duration": 97,
    "start_time": "2024-03-15T17:16:21.991Z"
   },
   {
    "duration": 11,
    "start_time": "2024-03-15T17:18:36.522Z"
   },
   {
    "duration": 10,
    "start_time": "2024-03-15T17:19:03.885Z"
   },
   {
    "duration": 9,
    "start_time": "2024-03-15T17:19:09.877Z"
   },
   {
    "duration": 1246,
    "start_time": "2024-03-15T17:19:12.384Z"
   },
   {
    "duration": 3,
    "start_time": "2024-03-15T17:20:29.461Z"
   },
   {
    "duration": 11,
    "start_time": "2024-03-15T17:20:32.250Z"
   },
   {
    "duration": 3,
    "start_time": "2024-03-15T17:20:48.923Z"
   },
   {
    "duration": 1315,
    "start_time": "2024-03-15T17:20:49.831Z"
   },
   {
    "duration": 2,
    "start_time": "2024-03-15T17:22:47.412Z"
   },
   {
    "duration": 1274,
    "start_time": "2024-03-15T17:22:48.339Z"
   },
   {
    "duration": 3983,
    "start_time": "2024-03-15T17:23:35.912Z"
   },
   {
    "duration": 3,
    "start_time": "2024-03-15T17:24:08.303Z"
   },
   {
    "duration": 4629,
    "start_time": "2024-03-15T17:24:08.930Z"
   },
   {
    "duration": 3,
    "start_time": "2024-03-15T17:25:14.831Z"
   },
   {
    "duration": 5631,
    "start_time": "2024-03-15T17:25:16.855Z"
   },
   {
    "duration": 3,
    "start_time": "2024-03-15T17:25:32.939Z"
   },
   {
    "duration": 5675,
    "start_time": "2024-03-15T17:25:33.822Z"
   },
   {
    "duration": 3,
    "start_time": "2024-03-15T17:26:09.933Z"
   },
   {
    "duration": 17,
    "start_time": "2024-03-15T17:26:10.573Z"
   },
   {
    "duration": 10,
    "start_time": "2024-03-15T17:26:17.376Z"
   },
   {
    "duration": 4,
    "start_time": "2024-03-15T17:26:19.508Z"
   },
   {
    "duration": 3,
    "start_time": "2024-03-15T17:26:28.285Z"
   },
   {
    "duration": 6210,
    "start_time": "2024-03-15T17:26:29.117Z"
   },
   {
    "duration": 2969,
    "start_time": "2024-03-15T17:26:50.225Z"
   },
   {
    "duration": 8,
    "start_time": "2024-03-15T17:26:59.517Z"
   },
   {
    "duration": 4,
    "start_time": "2024-03-15T17:35:04.999Z"
   },
   {
    "duration": 6,
    "start_time": "2024-03-15T17:35:05.602Z"
   },
   {
    "duration": 6,
    "start_time": "2024-03-15T17:35:09.357Z"
   },
   {
    "duration": 4,
    "start_time": "2024-03-15T17:35:09.863Z"
   },
   {
    "duration": 3,
    "start_time": "2024-03-15T17:35:18.567Z"
   },
   {
    "duration": 2991,
    "start_time": "2024-03-15T17:35:22.802Z"
   },
   {
    "duration": 8,
    "start_time": "2024-03-15T17:35:37.249Z"
   },
   {
    "duration": 9,
    "start_time": "2024-03-15T17:35:48.487Z"
   },
   {
    "duration": 5,
    "start_time": "2024-03-15T17:35:48.991Z"
   },
   {
    "duration": 5,
    "start_time": "2024-03-15T17:35:49.603Z"
   },
   {
    "duration": 3,
    "start_time": "2024-03-15T17:36:07.906Z"
   },
   {
    "duration": 2956,
    "start_time": "2024-03-15T17:36:10.768Z"
   },
   {
    "duration": 8,
    "start_time": "2024-03-15T17:36:22.099Z"
   },
   {
    "duration": 8,
    "start_time": "2024-03-15T17:37:02.088Z"
   },
   {
    "duration": 6,
    "start_time": "2024-03-15T17:37:02.563Z"
   },
   {
    "duration": 5,
    "start_time": "2024-03-15T17:37:03.135Z"
   },
   {
    "duration": 4,
    "start_time": "2024-03-15T17:37:11.118Z"
   },
   {
    "duration": 2827,
    "start_time": "2024-03-15T17:37:11.660Z"
   },
   {
    "duration": 8,
    "start_time": "2024-03-15T17:37:20.147Z"
   },
   {
    "duration": 6,
    "start_time": "2024-03-15T17:45:31.854Z"
   },
   {
    "duration": 7,
    "start_time": "2024-03-15T17:45:32.303Z"
   },
   {
    "duration": 4,
    "start_time": "2024-03-15T17:45:32.985Z"
   },
   {
    "duration": 3,
    "start_time": "2024-03-15T17:45:36.560Z"
   },
   {
    "duration": 4,
    "start_time": "2024-03-15T17:45:53.485Z"
   },
   {
    "duration": 33807,
    "start_time": "2024-03-15T17:45:59.923Z"
   },
   {
    "duration": 18,
    "start_time": "2024-03-15T17:46:47.512Z"
   },
   {
    "duration": 3,
    "start_time": "2024-03-15T17:46:57.441Z"
   },
   {
    "duration": 4,
    "start_time": "2024-03-15T17:47:04.114Z"
   },
   {
    "duration": 33520,
    "start_time": "2024-03-15T17:47:17.202Z"
   },
   {
    "duration": 2659,
    "start_time": "2024-03-15T17:48:00.868Z"
   },
   {
    "duration": 7,
    "start_time": "2024-03-15T17:48:11.758Z"
   },
   {
    "duration": 5,
    "start_time": "2024-03-15T17:48:45.370Z"
   },
   {
    "duration": 31881,
    "start_time": "2024-03-15T17:48:49.234Z"
   },
   {
    "duration": 16,
    "start_time": "2024-03-15T17:49:26.781Z"
   },
   {
    "duration": 2096,
    "start_time": "2024-03-15T17:49:39.280Z"
   },
   {
    "duration": 6,
    "start_time": "2024-03-15T17:49:46.324Z"
   },
   {
    "duration": 14,
    "start_time": "2024-03-15T17:50:14.872Z"
   },
   {
    "duration": 4,
    "start_time": "2024-03-15T17:50:44.112Z"
   },
   {
    "duration": 33254,
    "start_time": "2024-03-15T17:50:47.509Z"
   },
   {
    "duration": 23,
    "start_time": "2024-03-15T17:51:20.764Z"
   },
   {
    "duration": 8,
    "start_time": "2024-03-15T17:51:40.194Z"
   },
   {
    "duration": 2598,
    "start_time": "2024-03-15T17:51:54.864Z"
   },
   {
    "duration": 9,
    "start_time": "2024-03-15T17:52:09.677Z"
   },
   {
    "duration": 7,
    "start_time": "2024-03-15T17:52:13.098Z"
   },
   {
    "duration": 8,
    "start_time": "2024-03-15T17:52:42.271Z"
   },
   {
    "duration": 2607,
    "start_time": "2024-03-15T17:53:01.182Z"
   },
   {
    "duration": 7,
    "start_time": "2024-03-15T17:53:07.862Z"
   },
   {
    "duration": 3,
    "start_time": "2024-03-15T17:53:16.056Z"
   },
   {
    "duration": 2419,
    "start_time": "2024-03-15T17:53:17.108Z"
   },
   {
    "duration": 7,
    "start_time": "2024-03-15T17:53:21.247Z"
   },
   {
    "duration": 4,
    "start_time": "2024-03-15T17:53:44.025Z"
   },
   {
    "duration": 5,
    "start_time": "2024-03-15T17:53:44.624Z"
   },
   {
    "duration": 14,
    "start_time": "2024-03-15T17:53:46.375Z"
   },
   {
    "duration": 5,
    "start_time": "2024-03-15T17:53:47.298Z"
   },
   {
    "duration": 3,
    "start_time": "2024-03-15T17:53:54.506Z"
   },
   {
    "duration": 2467,
    "start_time": "2024-03-15T17:53:55.178Z"
   },
   {
    "duration": 7,
    "start_time": "2024-03-15T17:54:03.302Z"
   },
   {
    "duration": 10,
    "start_time": "2024-03-15T17:54:21.877Z"
   },
   {
    "duration": 6,
    "start_time": "2024-03-15T17:54:22.766Z"
   },
   {
    "duration": 4,
    "start_time": "2024-03-15T17:54:23.439Z"
   },
   {
    "duration": 11,
    "start_time": "2024-03-15T17:54:57.629Z"
   },
   {
    "duration": 54,
    "start_time": "2024-03-15T17:55:11.187Z"
   },
   {
    "duration": 3,
    "start_time": "2024-03-15T17:55:11.849Z"
   },
   {
    "duration": 9,
    "start_time": "2024-03-15T17:55:16.181Z"
   },
   {
    "duration": 6,
    "start_time": "2024-03-15T17:55:23.183Z"
   },
   {
    "duration": 5,
    "start_time": "2024-03-15T17:55:23.650Z"
   },
   {
    "duration": 4,
    "start_time": "2024-03-15T17:55:27.231Z"
   },
   {
    "duration": 6,
    "start_time": "2024-03-15T17:55:28.689Z"
   },
   {
    "duration": 6,
    "start_time": "2024-03-15T17:55:29.393Z"
   },
   {
    "duration": 24,
    "start_time": "2024-03-15T17:55:39.231Z"
   },
   {
    "duration": 5,
    "start_time": "2024-03-15T17:56:44.181Z"
   },
   {
    "duration": 2380,
    "start_time": "2024-03-15T17:56:45.705Z"
   },
   {
    "duration": 7,
    "start_time": "2024-03-15T17:56:53.016Z"
   },
   {
    "duration": 17,
    "start_time": "2024-03-15T17:56:56.167Z"
   },
   {
    "duration": 8,
    "start_time": "2024-03-15T17:57:22.376Z"
   },
   {
    "duration": 2377,
    "start_time": "2024-03-15T17:57:22.942Z"
   },
   {
    "duration": 8,
    "start_time": "2024-03-15T17:57:30.139Z"
   },
   {
    "duration": 3,
    "start_time": "2024-03-15T17:57:39.027Z"
   },
   {
    "duration": 918,
    "start_time": "2024-03-15T17:57:39.729Z"
   },
   {
    "duration": 11,
    "start_time": "2024-03-15T17:57:47.976Z"
   },
   {
    "duration": 2,
    "start_time": "2024-03-15T17:57:56.168Z"
   },
   {
    "duration": 845,
    "start_time": "2024-03-15T17:57:56.719Z"
   },
   {
    "duration": 9,
    "start_time": "2024-03-15T17:58:10.334Z"
   },
   {
    "duration": 3,
    "start_time": "2024-03-15T17:58:17.113Z"
   },
   {
    "duration": 1046,
    "start_time": "2024-03-15T17:58:17.688Z"
   },
   {
    "duration": 15,
    "start_time": "2024-03-15T17:58:23.366Z"
   },
   {
    "duration": 3,
    "start_time": "2024-03-15T17:58:30.027Z"
   },
   {
    "duration": 1814,
    "start_time": "2024-03-15T17:58:30.558Z"
   },
   {
    "duration": 7,
    "start_time": "2024-03-15T17:58:36.929Z"
   },
   {
    "duration": 3,
    "start_time": "2024-03-15T17:58:54.895Z"
   },
   {
    "duration": 2750,
    "start_time": "2024-03-15T17:58:56.208Z"
   },
   {
    "duration": 7,
    "start_time": "2024-03-15T17:59:03.750Z"
   },
   {
    "duration": 2,
    "start_time": "2024-03-15T17:59:12.598Z"
   },
   {
    "duration": 2800,
    "start_time": "2024-03-15T17:59:13.314Z"
   },
   {
    "duration": 7,
    "start_time": "2024-03-15T17:59:20.647Z"
   },
   {
    "duration": 3,
    "start_time": "2024-03-15T17:59:30.142Z"
   },
   {
    "duration": 2426,
    "start_time": "2024-03-15T17:59:30.372Z"
   },
   {
    "duration": 7,
    "start_time": "2024-03-15T17:59:37.737Z"
   },
   {
    "duration": 5,
    "start_time": "2024-03-15T17:59:52.581Z"
   },
   {
    "duration": 2144,
    "start_time": "2024-03-15T17:59:53.110Z"
   },
   {
    "duration": 16,
    "start_time": "2024-03-15T17:59:59.665Z"
   },
   {
    "duration": 9,
    "start_time": "2024-03-15T18:00:09.878Z"
   },
   {
    "duration": 1245,
    "start_time": "2024-03-15T18:00:10.492Z"
   },
   {
    "duration": 8,
    "start_time": "2024-03-15T18:00:16.657Z"
   },
   {
    "duration": 3,
    "start_time": "2024-03-15T18:00:27.468Z"
   },
   {
    "duration": 1797,
    "start_time": "2024-03-15T18:00:30.270Z"
   },
   {
    "duration": 8,
    "start_time": "2024-03-15T18:00:35.927Z"
   },
   {
    "duration": 3,
    "start_time": "2024-03-15T18:00:45.889Z"
   },
   {
    "duration": 2017,
    "start_time": "2024-03-15T18:00:46.422Z"
   },
   {
    "duration": 7,
    "start_time": "2024-03-15T18:00:52.606Z"
   },
   {
    "duration": 3,
    "start_time": "2024-03-15T18:01:00.963Z"
   },
   {
    "duration": 2055,
    "start_time": "2024-03-15T18:01:01.582Z"
   },
   {
    "duration": 11,
    "start_time": "2024-03-15T18:01:08.371Z"
   },
   {
    "duration": 3,
    "start_time": "2024-03-15T18:01:18.739Z"
   },
   {
    "duration": 2090,
    "start_time": "2024-03-15T18:01:19.323Z"
   },
   {
    "duration": 7,
    "start_time": "2024-03-15T18:01:25.288Z"
   },
   {
    "duration": 49,
    "start_time": "2024-03-15T18:01:52.197Z"
   },
   {
    "duration": 3,
    "start_time": "2024-03-15T18:01:52.663Z"
   },
   {
    "duration": 9,
    "start_time": "2024-03-15T18:01:52.845Z"
   },
   {
    "duration": 7,
    "start_time": "2024-03-15T18:01:53.036Z"
   },
   {
    "duration": 10,
    "start_time": "2024-03-15T18:01:53.205Z"
   },
   {
    "duration": 430,
    "start_time": "2024-03-15T18:01:55.785Z"
   },
   {
    "duration": 374,
    "start_time": "2024-03-15T18:01:56.217Z"
   },
   {
    "duration": 1158,
    "start_time": "2024-03-15T18:01:56.592Z"
   },
   {
    "duration": 218,
    "start_time": "2024-03-15T18:01:57.752Z"
   },
   {
    "duration": 7,
    "start_time": "2024-03-15T18:01:57.974Z"
   },
   {
    "duration": 4,
    "start_time": "2024-03-15T18:01:57.988Z"
   },
   {
    "duration": 352,
    "start_time": "2024-03-15T18:01:57.993Z"
   },
   {
    "duration": 3,
    "start_time": "2024-03-15T18:01:59.955Z"
   },
   {
    "duration": 13,
    "start_time": "2024-03-15T18:02:00.470Z"
   },
   {
    "duration": 9,
    "start_time": "2024-03-15T18:02:01.286Z"
   },
   {
    "duration": 6,
    "start_time": "2024-03-15T18:02:02.493Z"
   },
   {
    "duration": 4,
    "start_time": "2024-03-15T18:02:04.316Z"
   },
   {
    "duration": 3,
    "start_time": "2024-03-15T18:02:13.993Z"
   },
   {
    "duration": 2453,
    "start_time": "2024-03-15T18:02:14.732Z"
   },
   {
    "duration": 7,
    "start_time": "2024-03-15T18:02:21.960Z"
   },
   {
    "duration": 49,
    "start_time": "2024-03-15T18:03:11.063Z"
   },
   {
    "duration": 2,
    "start_time": "2024-03-15T18:03:11.224Z"
   },
   {
    "duration": 10,
    "start_time": "2024-03-15T18:03:11.401Z"
   },
   {
    "duration": 6,
    "start_time": "2024-03-15T18:03:11.566Z"
   },
   {
    "duration": 9,
    "start_time": "2024-03-15T18:03:11.749Z"
   },
   {
    "duration": 456,
    "start_time": "2024-03-15T18:03:12.081Z"
   },
   {
    "duration": 379,
    "start_time": "2024-03-15T18:03:12.538Z"
   },
   {
    "duration": 1139,
    "start_time": "2024-03-15T18:03:12.919Z"
   },
   {
    "duration": 234,
    "start_time": "2024-03-15T18:03:14.060Z"
   },
   {
    "duration": 4,
    "start_time": "2024-03-15T18:03:14.297Z"
   },
   {
    "duration": 20,
    "start_time": "2024-03-15T18:03:14.303Z"
   },
   {
    "duration": 412,
    "start_time": "2024-03-15T18:03:14.324Z"
   },
   {
    "duration": 2,
    "start_time": "2024-03-15T18:03:14.738Z"
   },
   {
    "duration": 3,
    "start_time": "2024-03-15T18:03:17.254Z"
   },
   {
    "duration": 11,
    "start_time": "2024-03-15T18:03:18.525Z"
   },
   {
    "duration": 7,
    "start_time": "2024-03-15T18:03:19.512Z"
   },
   {
    "duration": 5,
    "start_time": "2024-03-15T18:03:22.737Z"
   },
   {
    "duration": 3,
    "start_time": "2024-03-15T18:03:28.340Z"
   },
   {
    "duration": 2677,
    "start_time": "2024-03-15T18:03:28.801Z"
   },
   {
    "duration": 14,
    "start_time": "2024-03-15T18:03:36.169Z"
   },
   {
    "duration": 3,
    "start_time": "2024-03-15T18:03:59.364Z"
   },
   {
    "duration": 3175,
    "start_time": "2024-03-15T18:03:59.817Z"
   },
   {
    "duration": 7,
    "start_time": "2024-03-15T18:04:07.705Z"
   },
   {
    "duration": 68,
    "start_time": "2024-03-15T18:04:51.177Z"
   },
   {
    "duration": 3,
    "start_time": "2024-03-15T18:04:51.365Z"
   },
   {
    "duration": 10,
    "start_time": "2024-03-15T18:04:51.539Z"
   },
   {
    "duration": 7,
    "start_time": "2024-03-15T18:04:51.697Z"
   },
   {
    "duration": 19,
    "start_time": "2024-03-15T18:04:51.872Z"
   },
   {
    "duration": 359,
    "start_time": "2024-03-15T18:04:52.208Z"
   },
   {
    "duration": 362,
    "start_time": "2024-03-15T18:04:52.575Z"
   },
   {
    "duration": 1207,
    "start_time": "2024-03-15T18:04:52.939Z"
   },
   {
    "duration": 230,
    "start_time": "2024-03-15T18:04:54.148Z"
   },
   {
    "duration": 7,
    "start_time": "2024-03-15T18:04:54.381Z"
   },
   {
    "duration": 9,
    "start_time": "2024-03-15T18:04:54.391Z"
   },
   {
    "duration": 352,
    "start_time": "2024-03-15T18:04:54.401Z"
   },
   {
    "duration": 2,
    "start_time": "2024-03-15T18:04:55.337Z"
   },
   {
    "duration": 3,
    "start_time": "2024-03-15T18:04:56.254Z"
   },
   {
    "duration": 14,
    "start_time": "2024-03-15T18:04:56.874Z"
   },
   {
    "duration": 7,
    "start_time": "2024-03-15T18:04:58.314Z"
   },
   {
    "duration": 6,
    "start_time": "2024-03-15T18:04:58.985Z"
   },
   {
    "duration": 4,
    "start_time": "2024-03-15T18:04:59.810Z"
   },
   {
    "duration": 4,
    "start_time": "2024-03-15T18:05:03.249Z"
   },
   {
    "duration": 4,
    "start_time": "2024-03-15T18:05:04.240Z"
   },
   {
    "duration": 37110,
    "start_time": "2024-03-15T18:05:07.728Z"
   },
   {
    "duration": 18,
    "start_time": "2024-03-15T18:05:47.791Z"
   },
   {
    "duration": 4,
    "start_time": "2024-03-15T18:05:58.424Z"
   },
   {
    "duration": 2553,
    "start_time": "2024-03-15T18:06:09.816Z"
   },
   {
    "duration": 8,
    "start_time": "2024-03-15T18:06:22.303Z"
   },
   {
    "duration": 4,
    "start_time": "2024-03-15T18:07:34.495Z"
   },
   {
    "duration": 3,
    "start_time": "2024-03-15T18:07:38.460Z"
   },
   {
    "duration": 33721,
    "start_time": "2024-03-15T18:07:45.349Z"
   },
   {
    "duration": 7,
    "start_time": "2024-03-15T18:08:19.073Z"
   },
   {
    "duration": 34947,
    "start_time": "2024-03-15T18:08:22.467Z"
   },
   {
    "duration": 9,
    "start_time": "2024-03-15T18:08:57.416Z"
   },
   {
    "duration": 13,
    "start_time": "2024-03-15T18:09:12.251Z"
   },
   {
    "duration": 4,
    "start_time": "2024-03-15T18:09:20.326Z"
   },
   {
    "duration": 19,
    "start_time": "2024-03-15T18:09:25.705Z"
   },
   {
    "duration": 20,
    "start_time": "2024-03-15T18:09:28.980Z"
   },
   {
    "duration": 4,
    "start_time": "2024-03-15T18:10:01.749Z"
   },
   {
    "duration": 4,
    "start_time": "2024-03-15T18:10:02.591Z"
   },
   {
    "duration": 37466,
    "start_time": "2024-03-15T18:10:07.558Z"
   },
   {
    "duration": 14,
    "start_time": "2024-03-15T18:10:49.412Z"
   },
   {
    "duration": 4,
    "start_time": "2024-03-15T18:11:41.972Z"
   },
   {
    "duration": 10,
    "start_time": "2024-03-15T18:11:53.181Z"
   },
   {
    "duration": 12,
    "start_time": "2024-03-15T18:25:27.791Z"
   },
   {
    "duration": 1678,
    "start_time": "2024-03-16T16:57:23.879Z"
   },
   {
    "duration": 106,
    "start_time": "2024-03-16T16:57:26.712Z"
   },
   {
    "duration": 53,
    "start_time": "2024-03-16T16:57:35.823Z"
   },
   {
    "duration": 47,
    "start_time": "2024-03-16T17:00:41.002Z"
   },
   {
    "duration": 7,
    "start_time": "2024-03-16T17:00:41.466Z"
   },
   {
    "duration": 3,
    "start_time": "2024-03-16T17:00:41.992Z"
   },
   {
    "duration": 11,
    "start_time": "2024-03-16T17:00:52.455Z"
   },
   {
    "duration": 9,
    "start_time": "2024-03-16T17:00:53.037Z"
   },
   {
    "duration": 7,
    "start_time": "2024-03-16T17:00:53.639Z"
   },
   {
    "duration": 363,
    "start_time": "2024-03-16T17:07:06.986Z"
   },
   {
    "duration": 403,
    "start_time": "2024-03-16T17:07:21.267Z"
   },
   {
    "duration": 311,
    "start_time": "2024-03-16T17:08:38.362Z"
   },
   {
    "duration": 335,
    "start_time": "2024-03-16T17:08:57.040Z"
   },
   {
    "duration": 1064,
    "start_time": "2024-03-16T17:11:53.823Z"
   },
   {
    "duration": 1116,
    "start_time": "2024-03-16T17:12:06.676Z"
   },
   {
    "duration": 194,
    "start_time": "2024-03-16T17:12:18.778Z"
   },
   {
    "duration": 249,
    "start_time": "2024-03-16T17:15:06.882Z"
   },
   {
    "duration": 1172,
    "start_time": "2024-03-16T17:17:57.623Z"
   },
   {
    "duration": 3,
    "start_time": "2024-03-16T17:18:07.398Z"
   },
   {
    "duration": 4,
    "start_time": "2024-03-16T17:18:07.835Z"
   },
   {
    "duration": 388,
    "start_time": "2024-03-16T17:18:08.444Z"
   },
   {
    "duration": 3,
    "start_time": "2024-03-16T17:26:16.309Z"
   },
   {
    "duration": 4,
    "start_time": "2024-03-16T17:26:17.296Z"
   },
   {
    "duration": 9,
    "start_time": "2024-03-16T17:26:19.903Z"
   },
   {
    "duration": 7,
    "start_time": "2024-03-16T17:26:20.439Z"
   },
   {
    "duration": 4,
    "start_time": "2024-03-16T17:26:27.560Z"
   },
   {
    "duration": 3,
    "start_time": "2024-03-16T17:27:27.840Z"
   },
   {
    "duration": 4,
    "start_time": "2024-03-16T17:27:28.503Z"
   },
   {
    "duration": 32049,
    "start_time": "2024-03-16T17:27:36.457Z"
   },
   {
    "duration": 15,
    "start_time": "2024-03-16T17:28:31.613Z"
   },
   {
    "duration": 4,
    "start_time": "2024-03-16T17:28:45.167Z"
   },
   {
    "duration": 1498,
    "start_time": "2024-03-16T17:43:21.746Z"
   },
   {
    "duration": 50,
    "start_time": "2024-03-16T17:43:23.246Z"
   },
   {
    "duration": 11,
    "start_time": "2024-03-16T17:43:23.297Z"
   },
   {
    "duration": 3,
    "start_time": "2024-03-16T17:43:23.309Z"
   },
   {
    "duration": 19,
    "start_time": "2024-03-16T17:43:23.314Z"
   },
   {
    "duration": 11,
    "start_time": "2024-03-16T17:43:23.335Z"
   },
   {
    "duration": 12,
    "start_time": "2024-03-16T17:43:23.348Z"
   },
   {
    "duration": 360,
    "start_time": "2024-03-16T17:43:23.361Z"
   },
   {
    "duration": 341,
    "start_time": "2024-03-16T17:43:23.722Z"
   },
   {
    "duration": 1107,
    "start_time": "2024-03-16T17:43:24.065Z"
   },
   {
    "duration": 209,
    "start_time": "2024-03-16T17:43:25.174Z"
   },
   {
    "duration": 3,
    "start_time": "2024-03-16T17:43:25.385Z"
   },
   {
    "duration": 25,
    "start_time": "2024-03-16T17:43:25.390Z"
   },
   {
    "duration": 374,
    "start_time": "2024-03-16T17:43:25.418Z"
   },
   {
    "duration": 3,
    "start_time": "2024-03-16T17:43:25.793Z"
   },
   {
    "duration": 19,
    "start_time": "2024-03-16T17:43:25.797Z"
   },
   {
    "duration": 12,
    "start_time": "2024-03-16T17:43:25.817Z"
   },
   {
    "duration": 6,
    "start_time": "2024-03-16T17:43:25.831Z"
   },
   {
    "duration": 11,
    "start_time": "2024-03-16T17:43:25.839Z"
   },
   {
    "duration": 9,
    "start_time": "2024-03-16T17:43:25.851Z"
   },
   {
    "duration": 17,
    "start_time": "2024-03-16T17:43:25.861Z"
   },
   {
    "duration": 31681,
    "start_time": "2024-03-16T17:43:25.879Z"
   },
   {
    "duration": 3,
    "start_time": "2024-03-16T17:43:57.562Z"
   },
   {
    "duration": 14,
    "start_time": "2024-03-16T17:43:57.567Z"
   },
   {
    "duration": 41,
    "start_time": "2024-03-16T17:43:57.583Z"
   },
   {
    "duration": 54,
    "start_time": "2024-03-16T17:43:57.626Z"
   },
   {
    "duration": 34,
    "start_time": "2024-03-16T17:43:57.681Z"
   },
   {
    "duration": 2094,
    "start_time": "2024-03-16T17:43:57.717Z"
   },
   {
    "duration": 7,
    "start_time": "2024-03-16T17:43:59.813Z"
   },
   {
    "duration": 3144,
    "start_time": "2024-03-16T18:08:26.356Z"
   },
   {
    "duration": 143,
    "start_time": "2024-03-16T18:08:29.502Z"
   },
   {
    "duration": 11,
    "start_time": "2024-03-16T18:08:29.646Z"
   },
   {
    "duration": 6,
    "start_time": "2024-03-16T18:08:29.658Z"
   },
   {
    "duration": 11,
    "start_time": "2024-03-16T18:08:29.666Z"
   },
   {
    "duration": 8,
    "start_time": "2024-03-16T18:08:29.678Z"
   },
   {
    "duration": 11,
    "start_time": "2024-03-16T18:08:29.688Z"
   },
   {
    "duration": 361,
    "start_time": "2024-03-16T18:08:29.700Z"
   },
   {
    "duration": 424,
    "start_time": "2024-03-16T18:08:30.063Z"
   },
   {
    "duration": 1178,
    "start_time": "2024-03-16T18:08:30.489Z"
   },
   {
    "duration": 240,
    "start_time": "2024-03-16T18:08:31.669Z"
   },
   {
    "duration": 5,
    "start_time": "2024-03-16T18:08:31.911Z"
   },
   {
    "duration": 19,
    "start_time": "2024-03-16T18:08:31.918Z"
   },
   {
    "duration": 360,
    "start_time": "2024-03-16T18:08:31.940Z"
   },
   {
    "duration": 2,
    "start_time": "2024-03-16T18:08:32.302Z"
   },
   {
    "duration": 4,
    "start_time": "2024-03-16T18:08:32.306Z"
   },
   {
    "duration": 22,
    "start_time": "2024-03-16T18:08:32.311Z"
   },
   {
    "duration": 6,
    "start_time": "2024-03-16T18:08:32.335Z"
   },
   {
    "duration": 13,
    "start_time": "2024-03-16T18:08:32.343Z"
   },
   {
    "duration": 1693,
    "start_time": "2024-03-17T16:24:35.255Z"
   },
   {
    "duration": 143,
    "start_time": "2024-03-17T16:24:41.251Z"
   },
   {
    "duration": 10,
    "start_time": "2024-03-17T16:24:44.038Z"
   },
   {
    "duration": 10,
    "start_time": "2024-03-17T16:24:47.417Z"
   },
   {
    "duration": 9,
    "start_time": "2024-03-17T16:24:49.460Z"
   },
   {
    "duration": 7,
    "start_time": "2024-03-17T16:24:50.796Z"
   },
   {
    "duration": 232,
    "start_time": "2024-03-17T16:25:07.978Z"
   },
   {
    "duration": 169,
    "start_time": "2024-03-17T16:25:19.842Z"
   },
   {
    "duration": 246,
    "start_time": "2024-03-17T16:25:34.410Z"
   },
   {
    "duration": 188,
    "start_time": "2024-03-17T16:28:08.060Z"
   },
   {
    "duration": 285,
    "start_time": "2024-03-17T16:28:22.661Z"
   },
   {
    "duration": 3,
    "start_time": "2024-03-17T16:28:56.418Z"
   },
   {
    "duration": 9,
    "start_time": "2024-03-17T16:28:58.925Z"
   },
   {
    "duration": 5,
    "start_time": "2024-03-17T16:29:08.719Z"
   },
   {
    "duration": 12,
    "start_time": "2024-03-17T16:29:09.174Z"
   },
   {
    "duration": 5,
    "start_time": "2024-03-17T16:29:13.956Z"
   },
   {
    "duration": 3,
    "start_time": "2024-03-17T16:29:16.294Z"
   },
   {
    "duration": 114,
    "start_time": "2024-03-17T16:29:16.763Z"
   },
   {
    "duration": 9,
    "start_time": "2024-03-17T16:29:17.876Z"
   },
   {
    "duration": 3,
    "start_time": "2024-03-17T16:29:29.969Z"
   },
   {
    "duration": 4,
    "start_time": "2024-03-17T16:29:33.377Z"
   },
   {
    "duration": 29705,
    "start_time": "2024-03-17T16:29:34.209Z"
   },
   {
    "duration": 4,
    "start_time": "2024-03-17T16:30:03.917Z"
   },
   {
    "duration": 9,
    "start_time": "2024-03-17T16:30:03.922Z"
   },
   {
    "duration": 9,
    "start_time": "2024-03-17T16:30:51.344Z"
   },
   {
    "duration": 16,
    "start_time": "2024-03-17T16:30:52.897Z"
   },
   {
    "duration": 4,
    "start_time": "2024-03-17T16:31:03.817Z"
   },
   {
    "duration": 4,
    "start_time": "2024-03-17T16:31:04.357Z"
   },
   {
    "duration": 4,
    "start_time": "2024-03-17T16:31:09.194Z"
   },
   {
    "duration": 6,
    "start_time": "2024-03-17T16:31:12.010Z"
   },
   {
    "duration": 1465,
    "start_time": "2024-03-17T16:31:24.610Z"
   },
   {
    "duration": 48,
    "start_time": "2024-03-17T16:31:26.077Z"
   },
   {
    "duration": 10,
    "start_time": "2024-03-17T16:31:26.127Z"
   },
   {
    "duration": 8,
    "start_time": "2024-03-17T16:31:26.138Z"
   },
   {
    "duration": 11,
    "start_time": "2024-03-17T16:31:26.148Z"
   },
   {
    "duration": 9,
    "start_time": "2024-03-17T16:31:26.160Z"
   },
   {
    "duration": 7,
    "start_time": "2024-03-17T16:31:26.170Z"
   },
   {
    "duration": 335,
    "start_time": "2024-03-17T16:31:26.181Z"
   },
   {
    "duration": 328,
    "start_time": "2024-03-17T16:31:26.517Z"
   },
   {
    "duration": 1079,
    "start_time": "2024-03-17T16:31:26.847Z"
   },
   {
    "duration": 220,
    "start_time": "2024-03-17T16:31:27.928Z"
   },
   {
    "duration": 4,
    "start_time": "2024-03-17T16:31:28.150Z"
   },
   {
    "duration": 9,
    "start_time": "2024-03-17T16:31:28.155Z"
   },
   {
    "duration": 341,
    "start_time": "2024-03-17T16:31:28.181Z"
   },
   {
    "duration": 127,
    "start_time": "2024-03-17T16:31:28.524Z"
   },
   {
    "duration": 0,
    "start_time": "2024-03-17T16:31:28.653Z"
   },
   {
    "duration": 0,
    "start_time": "2024-03-17T16:31:28.654Z"
   },
   {
    "duration": 0,
    "start_time": "2024-03-17T16:31:28.656Z"
   },
   {
    "duration": 0,
    "start_time": "2024-03-17T16:31:28.657Z"
   },
   {
    "duration": 1,
    "start_time": "2024-03-17T16:31:28.658Z"
   },
   {
    "duration": 0,
    "start_time": "2024-03-17T16:31:28.660Z"
   },
   {
    "duration": 0,
    "start_time": "2024-03-17T16:31:28.661Z"
   },
   {
    "duration": 0,
    "start_time": "2024-03-17T16:31:28.681Z"
   },
   {
    "duration": 0,
    "start_time": "2024-03-17T16:31:28.682Z"
   },
   {
    "duration": 0,
    "start_time": "2024-03-17T16:31:28.683Z"
   },
   {
    "duration": 0,
    "start_time": "2024-03-17T16:31:28.686Z"
   },
   {
    "duration": 0,
    "start_time": "2024-03-17T16:31:28.687Z"
   },
   {
    "duration": 0,
    "start_time": "2024-03-17T16:31:28.688Z"
   },
   {
    "duration": 0,
    "start_time": "2024-03-17T16:31:28.689Z"
   },
   {
    "duration": 0,
    "start_time": "2024-03-17T16:31:28.690Z"
   },
   {
    "duration": 0,
    "start_time": "2024-03-17T16:31:28.691Z"
   },
   {
    "duration": 22,
    "start_time": "2024-03-17T16:33:15.921Z"
   },
   {
    "duration": 4,
    "start_time": "2024-03-17T16:33:42.145Z"
   },
   {
    "duration": 21,
    "start_time": "2024-03-17T16:34:07.101Z"
   },
   {
    "duration": 20,
    "start_time": "2024-03-17T16:35:39.940Z"
   },
   {
    "duration": 306,
    "start_time": "2024-03-17T16:36:17.077Z"
   },
   {
    "duration": 1455,
    "start_time": "2024-03-17T16:36:26.572Z"
   },
   {
    "duration": 52,
    "start_time": "2024-03-17T16:36:28.029Z"
   },
   {
    "duration": 10,
    "start_time": "2024-03-17T16:36:28.083Z"
   },
   {
    "duration": 19,
    "start_time": "2024-03-17T16:36:28.094Z"
   },
   {
    "duration": 19,
    "start_time": "2024-03-17T16:36:28.115Z"
   },
   {
    "duration": 9,
    "start_time": "2024-03-17T16:36:28.135Z"
   },
   {
    "duration": 17,
    "start_time": "2024-03-17T16:36:28.145Z"
   },
   {
    "duration": 334,
    "start_time": "2024-03-17T16:36:28.164Z"
   },
   {
    "duration": 318,
    "start_time": "2024-03-17T16:36:28.500Z"
   },
   {
    "duration": 1052,
    "start_time": "2024-03-17T16:36:28.820Z"
   },
   {
    "duration": 195,
    "start_time": "2024-03-17T16:36:29.873Z"
   },
   {
    "duration": 12,
    "start_time": "2024-03-17T16:36:30.069Z"
   },
   {
    "duration": 15,
    "start_time": "2024-03-17T16:36:30.083Z"
   },
   {
    "duration": 417,
    "start_time": "2024-03-17T16:36:30.101Z"
   },
   {
    "duration": 296,
    "start_time": "2024-03-17T16:36:30.520Z"
   },
   {
    "duration": 2,
    "start_time": "2024-03-17T16:36:30.818Z"
   },
   {
    "duration": 108,
    "start_time": "2024-03-17T16:36:30.822Z"
   },
   {
    "duration": 67,
    "start_time": "2024-03-17T16:36:30.931Z"
   },
   {
    "duration": 59,
    "start_time": "2024-03-17T16:36:31.000Z"
   },
   {
    "duration": 43,
    "start_time": "2024-03-17T16:36:31.061Z"
   },
   {
    "duration": 18,
    "start_time": "2024-03-17T16:36:31.106Z"
   },
   {
    "duration": 28,
    "start_time": "2024-03-17T16:36:31.126Z"
   },
   {
    "duration": 35,
    "start_time": "2024-03-17T16:36:31.156Z"
   },
   {
    "duration": 32822,
    "start_time": "2024-03-17T16:36:31.193Z"
   },
   {
    "duration": 3,
    "start_time": "2024-03-17T16:37:04.017Z"
   },
   {
    "duration": 12,
    "start_time": "2024-03-17T16:37:04.022Z"
   },
   {
    "duration": 2,
    "start_time": "2024-03-17T16:37:04.035Z"
   },
   {
    "duration": 6,
    "start_time": "2024-03-17T16:37:04.039Z"
   },
   {
    "duration": 11,
    "start_time": "2024-03-17T16:37:04.046Z"
   },
   {
    "duration": 2104,
    "start_time": "2024-03-17T16:37:04.058Z"
   },
   {
    "duration": 6,
    "start_time": "2024-03-17T16:37:06.164Z"
   },
   {
    "duration": 3,
    "start_time": "2024-03-17T16:37:29.724Z"
   },
   {
    "duration": 2141,
    "start_time": "2024-03-17T16:37:34.891Z"
   },
   {
    "duration": 7,
    "start_time": "2024-03-17T16:37:39.537Z"
   },
   {
    "duration": 7,
    "start_time": "2024-03-17T16:37:42.932Z"
   },
   {
    "duration": 5,
    "start_time": "2024-03-17T16:38:01.832Z"
   },
   {
    "duration": 2091,
    "start_time": "2024-03-17T16:38:14.455Z"
   },
   {
    "duration": 7,
    "start_time": "2024-03-17T16:38:24.344Z"
   },
   {
    "duration": 22,
    "start_time": "2024-03-17T16:42:47.774Z"
   },
   {
    "duration": 27591,
    "start_time": "2024-03-17T16:43:30.162Z"
   },
   {
    "duration": 4,
    "start_time": "2024-03-17T16:44:12.774Z"
   },
   {
    "duration": 4,
    "start_time": "2024-03-17T16:44:15.292Z"
   },
   {
    "duration": 22,
    "start_time": "2024-03-17T16:44:20.293Z"
   },
   {
    "duration": 12,
    "start_time": "2024-03-17T16:45:02.095Z"
   },
   {
    "duration": 17,
    "start_time": "2024-03-17T16:45:08.654Z"
   },
   {
    "duration": 4,
    "start_time": "2024-03-17T16:45:55.584Z"
   },
   {
    "duration": 27275,
    "start_time": "2024-03-17T16:45:57.923Z"
   },
   {
    "duration": 3,
    "start_time": "2024-03-17T16:46:34.575Z"
   },
   {
    "duration": 4,
    "start_time": "2024-03-17T16:46:35.045Z"
   },
   {
    "duration": 23,
    "start_time": "2024-03-17T16:46:35.918Z"
   },
   {
    "duration": 36,
    "start_time": "2024-03-17T16:47:15.238Z"
   },
   {
    "duration": 4,
    "start_time": "2024-03-17T16:48:44.880Z"
   },
   {
    "duration": 52942,
    "start_time": "2024-03-17T16:48:45.617Z"
   },
   {
    "duration": 23,
    "start_time": "2024-03-17T16:49:57.978Z"
   },
   {
    "duration": 2104,
    "start_time": "2024-03-17T16:50:09.057Z"
   },
   {
    "duration": 7,
    "start_time": "2024-03-17T16:50:11.163Z"
   },
   {
    "duration": 3,
    "start_time": "2024-03-17T16:51:24.867Z"
   },
   {
    "duration": 3,
    "start_time": "2024-03-17T16:52:22.076Z"
   },
   {
    "duration": 2107,
    "start_time": "2024-03-17T16:52:41.398Z"
   },
   {
    "duration": 8,
    "start_time": "2024-03-17T16:52:57.667Z"
   },
   {
    "duration": 4,
    "start_time": "2024-03-17T16:57:30.162Z"
   },
   {
    "duration": 22081,
    "start_time": "2024-03-17T16:57:30.818Z"
   },
   {
    "duration": 19,
    "start_time": "2024-03-17T16:58:00.684Z"
   },
   {
    "duration": 4,
    "start_time": "2024-03-17T16:58:44.982Z"
   },
   {
    "duration": 3,
    "start_time": "2024-03-17T16:59:34.683Z"
   },
   {
    "duration": 29408,
    "start_time": "2024-03-17T16:59:35.128Z"
   },
   {
    "duration": 33,
    "start_time": "2024-03-17T17:00:34.783Z"
   },
   {
    "duration": 23,
    "start_time": "2024-03-17T17:00:43.676Z"
   },
   {
    "duration": 2308,
    "start_time": "2024-03-17T17:00:59.583Z"
   },
   {
    "duration": 7,
    "start_time": "2024-03-17T17:01:03.019Z"
   },
   {
    "duration": 4,
    "start_time": "2024-03-17T17:02:02.234Z"
   },
   {
    "duration": 30008,
    "start_time": "2024-03-17T17:02:03.014Z"
   },
   {
    "duration": 21,
    "start_time": "2024-03-17T17:03:01.775Z"
   },
   {
    "duration": 2109,
    "start_time": "2024-03-17T17:03:13.803Z"
   },
   {
    "duration": 7,
    "start_time": "2024-03-17T17:03:17.177Z"
   },
   {
    "duration": 1449,
    "start_time": "2024-03-17T17:04:18.330Z"
   },
   {
    "duration": 50,
    "start_time": "2024-03-17T17:04:19.781Z"
   },
   {
    "duration": 10,
    "start_time": "2024-03-17T17:04:19.832Z"
   },
   {
    "duration": 15,
    "start_time": "2024-03-17T17:04:19.844Z"
   },
   {
    "duration": 15,
    "start_time": "2024-03-17T17:04:19.861Z"
   },
   {
    "duration": 10,
    "start_time": "2024-03-17T17:04:19.878Z"
   },
   {
    "duration": 9,
    "start_time": "2024-03-17T17:04:19.890Z"
   },
   {
    "duration": 371,
    "start_time": "2024-03-17T17:04:19.901Z"
   },
   {
    "duration": 360,
    "start_time": "2024-03-17T17:04:20.274Z"
   },
   {
    "duration": 1138,
    "start_time": "2024-03-17T17:04:20.636Z"
   },
   {
    "duration": 208,
    "start_time": "2024-03-17T17:04:21.775Z"
   },
   {
    "duration": 4,
    "start_time": "2024-03-17T17:04:21.984Z"
   },
   {
    "duration": 21,
    "start_time": "2024-03-17T17:04:21.990Z"
   },
   {
    "duration": 372,
    "start_time": "2024-03-17T17:04:22.014Z"
   },
   {
    "duration": 289,
    "start_time": "2024-03-17T17:04:22.388Z"
   },
   {
    "duration": 2,
    "start_time": "2024-03-17T17:04:22.681Z"
   },
   {
    "duration": 4,
    "start_time": "2024-03-17T17:04:22.685Z"
   },
   {
    "duration": 11,
    "start_time": "2024-03-17T17:04:22.691Z"
   },
   {
    "duration": 8,
    "start_time": "2024-03-17T17:04:22.703Z"
   },
   {
    "duration": 13,
    "start_time": "2024-03-17T17:04:22.712Z"
   },
   {
    "duration": 15,
    "start_time": "2024-03-17T17:04:22.727Z"
   },
   {
    "duration": 8,
    "start_time": "2024-03-17T17:04:22.743Z"
   },
   {
    "duration": 4,
    "start_time": "2024-03-17T17:04:22.752Z"
   },
   {
    "duration": 31965,
    "start_time": "2024-03-17T17:04:22.758Z"
   },
   {
    "duration": 4,
    "start_time": "2024-03-17T17:04:54.725Z"
   },
   {
    "duration": 19,
    "start_time": "2024-03-17T17:04:54.731Z"
   },
   {
    "duration": 67,
    "start_time": "2024-03-17T17:04:54.751Z"
   },
   {
    "duration": 23,
    "start_time": "2024-03-17T17:04:54.819Z"
   },
   {
    "duration": 15,
    "start_time": "2024-03-17T17:04:54.844Z"
   },
   {
    "duration": 32,
    "start_time": "2024-03-17T17:04:54.861Z"
   },
   {
    "duration": 30,
    "start_time": "2024-03-17T17:04:54.894Z"
   },
   {
    "duration": 12,
    "start_time": "2024-03-17T17:04:54.925Z"
   },
   {
    "duration": 2261,
    "start_time": "2024-03-17T17:04:54.938Z"
   },
   {
    "duration": 7,
    "start_time": "2024-03-17T17:04:57.201Z"
   },
   {
    "duration": 2083,
    "start_time": "2024-03-17T17:04:57.209Z"
   },
   {
    "duration": 7,
    "start_time": "2024-03-17T17:04:59.295Z"
   },
   {
    "duration": 5,
    "start_time": "2024-03-17T17:05:39.753Z"
   },
   {
    "duration": 2321,
    "start_time": "2024-03-17T17:06:00.553Z"
   },
   {
    "duration": 6,
    "start_time": "2024-03-17T17:06:04.688Z"
   },
   {
    "duration": 5,
    "start_time": "2024-03-17T17:06:18.100Z"
   },
   {
    "duration": 2138,
    "start_time": "2024-03-17T17:06:24.268Z"
   },
   {
    "duration": 9,
    "start_time": "2024-03-17T17:06:26.408Z"
   },
   {
    "duration": 3,
    "start_time": "2024-03-17T17:10:49.254Z"
   },
   {
    "duration": 115,
    "start_time": "2024-03-17T17:13:54.622Z"
   },
   {
    "duration": 19,
    "start_time": "2024-03-17T17:14:22.357Z"
   },
   {
    "duration": 12,
    "start_time": "2024-03-17T17:16:00.816Z"
   },
   {
    "duration": 6,
    "start_time": "2024-03-17T17:16:27.419Z"
   },
   {
    "duration": 19,
    "start_time": "2024-03-17T17:16:52.343Z"
   },
   {
    "duration": 18,
    "start_time": "2024-03-17T17:17:09.733Z"
   },
   {
    "duration": 1446,
    "start_time": "2024-03-17T17:20:19.021Z"
   },
   {
    "duration": 48,
    "start_time": "2024-03-17T17:20:20.469Z"
   },
   {
    "duration": 10,
    "start_time": "2024-03-17T17:20:20.519Z"
   },
   {
    "duration": 18,
    "start_time": "2024-03-17T17:20:20.530Z"
   },
   {
    "duration": 22,
    "start_time": "2024-03-17T17:20:20.550Z"
   },
   {
    "duration": 11,
    "start_time": "2024-03-17T17:20:20.573Z"
   },
   {
    "duration": 14,
    "start_time": "2024-03-17T17:20:20.586Z"
   },
   {
    "duration": 354,
    "start_time": "2024-03-17T17:20:20.601Z"
   },
   {
    "duration": 345,
    "start_time": "2024-03-17T17:20:20.957Z"
   },
   {
    "duration": 1089,
    "start_time": "2024-03-17T17:20:21.303Z"
   },
   {
    "duration": 208,
    "start_time": "2024-03-17T17:20:22.395Z"
   },
   {
    "duration": 5,
    "start_time": "2024-03-17T17:20:22.604Z"
   },
   {
    "duration": 4,
    "start_time": "2024-03-17T17:20:22.610Z"
   },
   {
    "duration": 348,
    "start_time": "2024-03-17T17:20:22.618Z"
   },
   {
    "duration": 288,
    "start_time": "2024-03-17T17:20:22.968Z"
   },
   {
    "duration": 3,
    "start_time": "2024-03-17T17:20:23.257Z"
   },
   {
    "duration": 11,
    "start_time": "2024-03-17T17:20:23.261Z"
   },
   {
    "duration": 13,
    "start_time": "2024-03-17T17:20:23.273Z"
   },
   {
    "duration": 6,
    "start_time": "2024-03-17T17:20:23.287Z"
   },
   {
    "duration": 13,
    "start_time": "2024-03-17T17:20:23.294Z"
   },
   {
    "duration": 11,
    "start_time": "2024-03-17T17:20:23.309Z"
   },
   {
    "duration": 4,
    "start_time": "2024-03-17T17:20:23.321Z"
   },
   {
    "duration": 4,
    "start_time": "2024-03-17T17:20:23.327Z"
   },
   {
    "duration": 29827,
    "start_time": "2024-03-17T17:20:23.332Z"
   },
   {
    "duration": 4,
    "start_time": "2024-03-17T17:20:53.161Z"
   },
   {
    "duration": 22,
    "start_time": "2024-03-17T17:20:53.166Z"
   },
   {
    "duration": 25,
    "start_time": "2024-03-17T17:20:53.190Z"
   },
   {
    "duration": 5,
    "start_time": "2024-03-17T17:20:53.217Z"
   },
   {
    "duration": 10,
    "start_time": "2024-03-17T17:20:53.223Z"
   },
   {
    "duration": 9,
    "start_time": "2024-03-17T17:20:53.234Z"
   },
   {
    "duration": 107,
    "start_time": "2024-03-17T17:20:53.245Z"
   },
   {
    "duration": 0,
    "start_time": "2024-03-17T17:20:53.354Z"
   },
   {
    "duration": 0,
    "start_time": "2024-03-17T17:20:53.355Z"
   },
   {
    "duration": 4,
    "start_time": "2024-03-17T17:26:13.649Z"
   },
   {
    "duration": 2168,
    "start_time": "2024-03-17T17:26:16.510Z"
   },
   {
    "duration": 8,
    "start_time": "2024-03-17T17:26:18.680Z"
   },
   {
    "duration": 179,
    "start_time": "2024-03-17T17:27:56.337Z"
   },
   {
    "duration": 2754,
    "start_time": "2024-03-17T17:28:25.229Z"
   },
   {
    "duration": 963,
    "start_time": "2024-03-17T17:30:28.950Z"
   },
   {
    "duration": 785,
    "start_time": "2024-03-17T17:30:51.806Z"
   },
   {
    "duration": 848,
    "start_time": "2024-03-17T17:31:06.872Z"
   },
   {
    "duration": 278,
    "start_time": "2024-03-17T17:32:29.554Z"
   },
   {
    "duration": 1485,
    "start_time": "2024-03-17T17:34:10.567Z"
   },
   {
    "duration": 49,
    "start_time": "2024-03-17T17:34:12.054Z"
   },
   {
    "duration": 10,
    "start_time": "2024-03-17T17:34:12.105Z"
   },
   {
    "duration": 4,
    "start_time": "2024-03-17T17:34:12.117Z"
   },
   {
    "duration": 25,
    "start_time": "2024-03-17T17:34:12.123Z"
   },
   {
    "duration": 24,
    "start_time": "2024-03-17T17:34:12.149Z"
   },
   {
    "duration": 20,
    "start_time": "2024-03-17T17:34:12.174Z"
   },
   {
    "duration": 364,
    "start_time": "2024-03-17T17:34:12.196Z"
   },
   {
    "duration": 338,
    "start_time": "2024-03-17T17:34:12.562Z"
   },
   {
    "duration": 1104,
    "start_time": "2024-03-17T17:34:12.901Z"
   },
   {
    "duration": 203,
    "start_time": "2024-03-17T17:34:14.007Z"
   },
   {
    "duration": 4,
    "start_time": "2024-03-17T17:34:14.212Z"
   },
   {
    "duration": 31,
    "start_time": "2024-03-17T17:34:14.217Z"
   },
   {
    "duration": 359,
    "start_time": "2024-03-17T17:34:14.251Z"
   },
   {
    "duration": 284,
    "start_time": "2024-03-17T17:34:14.611Z"
   },
   {
    "duration": 2,
    "start_time": "2024-03-17T17:34:14.897Z"
   },
   {
    "duration": 24,
    "start_time": "2024-03-17T17:34:14.900Z"
   },
   {
    "duration": 33,
    "start_time": "2024-03-17T17:34:14.925Z"
   },
   {
    "duration": 322,
    "start_time": "2024-03-17T17:34:14.960Z"
   },
   {
    "duration": 6,
    "start_time": "2024-03-17T17:34:15.283Z"
   },
   {
    "duration": 43,
    "start_time": "2024-03-17T17:34:15.291Z"
   },
   {
    "duration": 38,
    "start_time": "2024-03-17T17:34:15.336Z"
   },
   {
    "duration": 24,
    "start_time": "2024-03-17T17:34:15.376Z"
   },
   {
    "duration": 34,
    "start_time": "2024-03-17T17:34:15.401Z"
   },
   {
    "duration": 29339,
    "start_time": "2024-03-17T17:34:15.436Z"
   },
   {
    "duration": 4,
    "start_time": "2024-03-17T17:34:44.776Z"
   },
   {
    "duration": 11,
    "start_time": "2024-03-17T17:34:44.781Z"
   },
   {
    "duration": 21,
    "start_time": "2024-03-17T17:34:44.794Z"
   },
   {
    "duration": 3,
    "start_time": "2024-03-17T17:34:44.816Z"
   },
   {
    "duration": 8,
    "start_time": "2024-03-17T17:34:44.821Z"
   },
   {
    "duration": 8,
    "start_time": "2024-03-17T17:34:44.830Z"
   },
   {
    "duration": 6,
    "start_time": "2024-03-17T17:34:44.839Z"
   },
   {
    "duration": 2106,
    "start_time": "2024-03-17T17:34:44.847Z"
   },
   {
    "duration": 7,
    "start_time": "2024-03-17T17:34:46.955Z"
   },
   {
    "duration": 301,
    "start_time": "2024-03-17T17:34:46.963Z"
   }
  ],
  "kernelspec": {
   "display_name": "Python 3 (ipykernel)",
   "language": "python",
   "name": "python3"
  },
  "language_info": {
   "codemirror_mode": {
    "name": "ipython",
    "version": 3
   },
   "file_extension": ".py",
   "mimetype": "text/x-python",
   "name": "python",
   "nbconvert_exporter": "python",
   "pygments_lexer": "ipython3",
   "version": "3.9.5"
  },
  "toc": {
   "base_numbering": 1,
   "nav_menu": {},
   "number_sections": true,
   "sideBar": true,
   "skip_h1_title": true,
   "title_cell": "Содержание",
   "title_sidebar": "Contents",
   "toc_cell": true,
   "toc_position": {
    "height": "calc(100% - 180px)",
    "left": "10px",
    "top": "150px",
    "width": "384px"
   },
   "toc_section_display": true,
   "toc_window_display": true
  }
 },
 "nbformat": 4,
 "nbformat_minor": 2
}
