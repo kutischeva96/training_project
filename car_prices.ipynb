{
 "cells": [
  {
   "cell_type": "markdown",
   "metadata": {},
   "source": [
    "# Определение стоимости автомобилей"
   ]
  },
  {
   "cell_type": "markdown",
   "metadata": {},
   "source": [
    "Сервис по продаже автомобилей с пробегом «Не бит, не крашен» разрабатывает приложение для привлечения новых клиентов. В нём можно быстро узнать рыночную стоимость своего автомобиля. В вашем распоряжении исторические данные: технические характеристики, комплектации и цены автомобилей. Вам нужно построить модель для определения стоимости. \n",
    "\n",
    "Заказчику важны:\n",
    "\n",
    "- качество предсказания;\n",
    "- скорость предсказания;\n",
    "- время обучения."
   ]
  },
  {
   "cell_type": "markdown",
   "metadata": {},
   "source": [
    "*Цель проекта:*\n",
    "Создать модель, которая позволит быстро и надежно определять рыночную стоимость автомобиля."
   ]
  },
  {
   "cell_type": "markdown",
   "metadata": {},
   "source": [
    "*Задачи:*\n",
    "\n",
    "- загрузить данные;\n",
    "- изучить данные, заполнить пропущенные значения и удалить аномалии;\n",
    "- подготовить выборки для обучения моделей;\n",
    "- обучить несколько моделей и подобрать гиперпараметры;\n",
    "- проанализировать время обучения, время предсказания и качество моделей;\n",
    "- выбрать лучшую модель и проверить ее качество на тестовой выборке."
   ]
  },
  {
   "cell_type": "markdown",
   "metadata": {},
   "source": [
    "**Описание данных:**\n",
    "\n",
    "- DateCrawled — дата скачивания анкеты из базы;\n",
    "- VehicleType — тип автомобильного кузова;\n",
    "- RegistrationYear — год регистрации автомобиля;\n",
    "- Gearbox — тип коробки передач;\n",
    "- Power — мощность (л. с.);\n",
    "- Model — модель автомобиля;\n",
    "- Kilometer — пробег (км);\n",
    "- RegistrationMonth — месяц регистрации автомобиля;\n",
    "- FuelType — тип топлива;\n",
    "- Brand — марка автомобиля;\n",
    "- Repaired — была машина в ремонте или нет;\n",
    "- DateCreated — дата создания анкеты;\n",
    "- NumberOfPictures — количество фотографий автомобиля;\n",
    "- PostalCode — почтовый индекс владельца анкеты (пользователя);\n",
    "- LastSeen — дата последней активности пользователя;\n",
    "- Price — цена (евро) - целевой признак\n"
   ]
  },
  {
   "cell_type": "markdown",
   "metadata": {},
   "source": [
    "## Подготовка данных"
   ]
  },
  {
   "cell_type": "code",
   "execution_count": 1,
   "metadata": {},
   "outputs": [],
   "source": [
    "!pip install phik==0.10.0 -q\n",
    "!pip install scikit-learn==1.3.2 -q\n",
    "\n",
    "import pandas as pd\n",
    "import matplotlib.pyplot as plt\n",
    "import seaborn as sns \n",
    "import numpy as np\n",
    "from sklearn.model_selection import train_test_split\n",
    "from functools import partial\n",
    "from sklearn.compose import ColumnTransformer\n",
    "from sklearn.impute import SimpleImputer\n",
    "from sklearn.pipeline import Pipeline\n",
    "from sklearn.preprocessing import FunctionTransformer, OneHotEncoder, OrdinalEncoder, MinMaxScaler\n",
    "from sklearn.tree import DecisionTreeRegressor\n",
    "from sklearn.metrics import mean_squared_error\n",
    "from catboost import CatBoostRegressor\n",
    "from sklearn.model_selection import GridSearchCV\n",
    "from lightgbm import LGBMRegressor\n",
    "import warnings\n",
    "from sklearn.linear_model import LinearRegression\n",
    "from sklearn.model_selection import cross_validate\n",
    "from sklearn.dummy import DummyRegressor\n",
    "from sklearn.neighbors import KNeighborsRegressor\n",
    "\n",
    "import phik"
   ]
  },
  {
   "cell_type": "code",
   "execution_count": 2,
   "metadata": {},
   "outputs": [
    {
     "data": {
      "text/html": [
       "<div>\n",
       "<style scoped>\n",
       "    .dataframe tbody tr th:only-of-type {\n",
       "        vertical-align: middle;\n",
       "    }\n",
       "\n",
       "    .dataframe tbody tr th {\n",
       "        vertical-align: top;\n",
       "    }\n",
       "\n",
       "    .dataframe thead th {\n",
       "        text-align: right;\n",
       "    }\n",
       "</style>\n",
       "<table border=\"1\" class=\"dataframe\">\n",
       "  <thead>\n",
       "    <tr style=\"text-align: right;\">\n",
       "      <th></th>\n",
       "      <th>DateCrawled</th>\n",
       "      <th>Price</th>\n",
       "      <th>VehicleType</th>\n",
       "      <th>RegistrationYear</th>\n",
       "      <th>Gearbox</th>\n",
       "      <th>Power</th>\n",
       "      <th>Model</th>\n",
       "      <th>Kilometer</th>\n",
       "      <th>RegistrationMonth</th>\n",
       "      <th>FuelType</th>\n",
       "      <th>Brand</th>\n",
       "      <th>Repaired</th>\n",
       "      <th>DateCreated</th>\n",
       "      <th>NumberOfPictures</th>\n",
       "      <th>PostalCode</th>\n",
       "      <th>LastSeen</th>\n",
       "    </tr>\n",
       "  </thead>\n",
       "  <tbody>\n",
       "    <tr>\n",
       "      <th>0</th>\n",
       "      <td>2016-03-24 11:52:17</td>\n",
       "      <td>480</td>\n",
       "      <td>NaN</td>\n",
       "      <td>1993</td>\n",
       "      <td>manual</td>\n",
       "      <td>0</td>\n",
       "      <td>golf</td>\n",
       "      <td>150000</td>\n",
       "      <td>0</td>\n",
       "      <td>petrol</td>\n",
       "      <td>volkswagen</td>\n",
       "      <td>NaN</td>\n",
       "      <td>2016-03-24</td>\n",
       "      <td>0</td>\n",
       "      <td>70435</td>\n",
       "      <td>2016-04-07 03:16:57</td>\n",
       "    </tr>\n",
       "    <tr>\n",
       "      <th>1</th>\n",
       "      <td>2016-03-24 10:58:45</td>\n",
       "      <td>18300</td>\n",
       "      <td>coupe</td>\n",
       "      <td>2011</td>\n",
       "      <td>manual</td>\n",
       "      <td>190</td>\n",
       "      <td>NaN</td>\n",
       "      <td>125000</td>\n",
       "      <td>5</td>\n",
       "      <td>gasoline</td>\n",
       "      <td>audi</td>\n",
       "      <td>yes</td>\n",
       "      <td>2016-03-24</td>\n",
       "      <td>0</td>\n",
       "      <td>66954</td>\n",
       "      <td>2016-04-07 01:46:50</td>\n",
       "    </tr>\n",
       "    <tr>\n",
       "      <th>2</th>\n",
       "      <td>2016-03-14 12:52:21</td>\n",
       "      <td>9800</td>\n",
       "      <td>suv</td>\n",
       "      <td>2004</td>\n",
       "      <td>auto</td>\n",
       "      <td>163</td>\n",
       "      <td>grand</td>\n",
       "      <td>125000</td>\n",
       "      <td>8</td>\n",
       "      <td>gasoline</td>\n",
       "      <td>jeep</td>\n",
       "      <td>NaN</td>\n",
       "      <td>2016-03-14</td>\n",
       "      <td>0</td>\n",
       "      <td>90480</td>\n",
       "      <td>2016-04-05 12:47:46</td>\n",
       "    </tr>\n",
       "    <tr>\n",
       "      <th>3</th>\n",
       "      <td>2016-03-17 16:54:04</td>\n",
       "      <td>1500</td>\n",
       "      <td>small</td>\n",
       "      <td>2001</td>\n",
       "      <td>manual</td>\n",
       "      <td>75</td>\n",
       "      <td>golf</td>\n",
       "      <td>150000</td>\n",
       "      <td>6</td>\n",
       "      <td>petrol</td>\n",
       "      <td>volkswagen</td>\n",
       "      <td>no</td>\n",
       "      <td>2016-03-17</td>\n",
       "      <td>0</td>\n",
       "      <td>91074</td>\n",
       "      <td>2016-03-17 17:40:17</td>\n",
       "    </tr>\n",
       "    <tr>\n",
       "      <th>4</th>\n",
       "      <td>2016-03-31 17:25:20</td>\n",
       "      <td>3600</td>\n",
       "      <td>small</td>\n",
       "      <td>2008</td>\n",
       "      <td>manual</td>\n",
       "      <td>69</td>\n",
       "      <td>fabia</td>\n",
       "      <td>90000</td>\n",
       "      <td>7</td>\n",
       "      <td>gasoline</td>\n",
       "      <td>skoda</td>\n",
       "      <td>no</td>\n",
       "      <td>2016-03-31</td>\n",
       "      <td>0</td>\n",
       "      <td>60437</td>\n",
       "      <td>2016-04-06 10:17:21</td>\n",
       "    </tr>\n",
       "    <tr>\n",
       "      <th>5</th>\n",
       "      <td>2016-04-04 17:36:23</td>\n",
       "      <td>650</td>\n",
       "      <td>sedan</td>\n",
       "      <td>1995</td>\n",
       "      <td>manual</td>\n",
       "      <td>102</td>\n",
       "      <td>3er</td>\n",
       "      <td>150000</td>\n",
       "      <td>10</td>\n",
       "      <td>petrol</td>\n",
       "      <td>bmw</td>\n",
       "      <td>yes</td>\n",
       "      <td>2016-04-04</td>\n",
       "      <td>0</td>\n",
       "      <td>33775</td>\n",
       "      <td>2016-04-06 19:17:07</td>\n",
       "    </tr>\n",
       "    <tr>\n",
       "      <th>6</th>\n",
       "      <td>2016-04-01 20:48:51</td>\n",
       "      <td>2200</td>\n",
       "      <td>convertible</td>\n",
       "      <td>2004</td>\n",
       "      <td>manual</td>\n",
       "      <td>109</td>\n",
       "      <td>2_reihe</td>\n",
       "      <td>150000</td>\n",
       "      <td>8</td>\n",
       "      <td>petrol</td>\n",
       "      <td>peugeot</td>\n",
       "      <td>no</td>\n",
       "      <td>2016-04-01</td>\n",
       "      <td>0</td>\n",
       "      <td>67112</td>\n",
       "      <td>2016-04-05 18:18:39</td>\n",
       "    </tr>\n",
       "    <tr>\n",
       "      <th>7</th>\n",
       "      <td>2016-03-21 18:54:38</td>\n",
       "      <td>0</td>\n",
       "      <td>sedan</td>\n",
       "      <td>1980</td>\n",
       "      <td>manual</td>\n",
       "      <td>50</td>\n",
       "      <td>other</td>\n",
       "      <td>40000</td>\n",
       "      <td>7</td>\n",
       "      <td>petrol</td>\n",
       "      <td>volkswagen</td>\n",
       "      <td>no</td>\n",
       "      <td>2016-03-21</td>\n",
       "      <td>0</td>\n",
       "      <td>19348</td>\n",
       "      <td>2016-03-25 16:47:58</td>\n",
       "    </tr>\n",
       "    <tr>\n",
       "      <th>8</th>\n",
       "      <td>2016-04-04 23:42:13</td>\n",
       "      <td>14500</td>\n",
       "      <td>bus</td>\n",
       "      <td>2014</td>\n",
       "      <td>manual</td>\n",
       "      <td>125</td>\n",
       "      <td>c_max</td>\n",
       "      <td>30000</td>\n",
       "      <td>8</td>\n",
       "      <td>petrol</td>\n",
       "      <td>ford</td>\n",
       "      <td>NaN</td>\n",
       "      <td>2016-04-04</td>\n",
       "      <td>0</td>\n",
       "      <td>94505</td>\n",
       "      <td>2016-04-04 23:42:13</td>\n",
       "    </tr>\n",
       "    <tr>\n",
       "      <th>9</th>\n",
       "      <td>2016-03-17 10:53:50</td>\n",
       "      <td>999</td>\n",
       "      <td>small</td>\n",
       "      <td>1998</td>\n",
       "      <td>manual</td>\n",
       "      <td>101</td>\n",
       "      <td>golf</td>\n",
       "      <td>150000</td>\n",
       "      <td>0</td>\n",
       "      <td>NaN</td>\n",
       "      <td>volkswagen</td>\n",
       "      <td>NaN</td>\n",
       "      <td>2016-03-17</td>\n",
       "      <td>0</td>\n",
       "      <td>27472</td>\n",
       "      <td>2016-03-31 17:17:06</td>\n",
       "    </tr>\n",
       "  </tbody>\n",
       "</table>\n",
       "</div>"
      ],
      "text/plain": [
       "          DateCrawled  Price  VehicleType  RegistrationYear Gearbox  Power  \\\n",
       "0 2016-03-24 11:52:17    480          NaN              1993  manual      0   \n",
       "1 2016-03-24 10:58:45  18300        coupe              2011  manual    190   \n",
       "2 2016-03-14 12:52:21   9800          suv              2004    auto    163   \n",
       "3 2016-03-17 16:54:04   1500        small              2001  manual     75   \n",
       "4 2016-03-31 17:25:20   3600        small              2008  manual     69   \n",
       "5 2016-04-04 17:36:23    650        sedan              1995  manual    102   \n",
       "6 2016-04-01 20:48:51   2200  convertible              2004  manual    109   \n",
       "7 2016-03-21 18:54:38      0        sedan              1980  manual     50   \n",
       "8 2016-04-04 23:42:13  14500          bus              2014  manual    125   \n",
       "9 2016-03-17 10:53:50    999        small              1998  manual    101   \n",
       "\n",
       "     Model  Kilometer  RegistrationMonth  FuelType       Brand Repaired  \\\n",
       "0     golf     150000                  0    petrol  volkswagen      NaN   \n",
       "1      NaN     125000                  5  gasoline        audi      yes   \n",
       "2    grand     125000                  8  gasoline        jeep      NaN   \n",
       "3     golf     150000                  6    petrol  volkswagen       no   \n",
       "4    fabia      90000                  7  gasoline       skoda       no   \n",
       "5      3er     150000                 10    petrol         bmw      yes   \n",
       "6  2_reihe     150000                  8    petrol     peugeot       no   \n",
       "7    other      40000                  7    petrol  volkswagen       no   \n",
       "8    c_max      30000                  8    petrol        ford      NaN   \n",
       "9     golf     150000                  0       NaN  volkswagen      NaN   \n",
       "\n",
       "  DateCreated  NumberOfPictures  PostalCode            LastSeen  \n",
       "0  2016-03-24                 0       70435 2016-04-07 03:16:57  \n",
       "1  2016-03-24                 0       66954 2016-04-07 01:46:50  \n",
       "2  2016-03-14                 0       90480 2016-04-05 12:47:46  \n",
       "3  2016-03-17                 0       91074 2016-03-17 17:40:17  \n",
       "4  2016-03-31                 0       60437 2016-04-06 10:17:21  \n",
       "5  2016-04-04                 0       33775 2016-04-06 19:17:07  \n",
       "6  2016-04-01                 0       67112 2016-04-05 18:18:39  \n",
       "7  2016-03-21                 0       19348 2016-03-25 16:47:58  \n",
       "8  2016-04-04                 0       94505 2016-04-04 23:42:13  \n",
       "9  2016-03-17                 0       27472 2016-03-31 17:17:06  "
      ]
     },
     "execution_count": 2,
     "metadata": {},
     "output_type": "execute_result"
    }
   ],
   "source": [
    "data = pd.read_csv('/datasets/autos.csv', parse_dates=[0, 12, 15])\n",
    "data.head(10)"
   ]
  },
  {
   "cell_type": "code",
   "execution_count": 3,
   "metadata": {},
   "outputs": [
    {
     "name": "stdout",
     "output_type": "stream",
     "text": [
      "<class 'pandas.core.frame.DataFrame'>\n",
      "RangeIndex: 354369 entries, 0 to 354368\n",
      "Data columns (total 16 columns):\n",
      " #   Column             Non-Null Count   Dtype         \n",
      "---  ------             --------------   -----         \n",
      " 0   DateCrawled        354369 non-null  datetime64[ns]\n",
      " 1   Price              354369 non-null  int64         \n",
      " 2   VehicleType        316879 non-null  object        \n",
      " 3   RegistrationYear   354369 non-null  int64         \n",
      " 4   Gearbox            334536 non-null  object        \n",
      " 5   Power              354369 non-null  int64         \n",
      " 6   Model              334664 non-null  object        \n",
      " 7   Kilometer          354369 non-null  int64         \n",
      " 8   RegistrationMonth  354369 non-null  int64         \n",
      " 9   FuelType           321474 non-null  object        \n",
      " 10  Brand              354369 non-null  object        \n",
      " 11  Repaired           283215 non-null  object        \n",
      " 12  DateCreated        354369 non-null  datetime64[ns]\n",
      " 13  NumberOfPictures   354369 non-null  int64         \n",
      " 14  PostalCode         354369 non-null  int64         \n",
      " 15  LastSeen           354369 non-null  datetime64[ns]\n",
      "dtypes: datetime64[ns](3), int64(7), object(6)\n",
      "memory usage: 43.3+ MB\n"
     ]
    }
   ],
   "source": [
    "data.info()"
   ]
  },
  {
   "cell_type": "markdown",
   "metadata": {},
   "source": [
    "Данные загружены в датафрейм pandas. Загруженные данные соответствуют описанию, изменение типов данных не требуется. В столбцах VehicleType, Gearbox, Model, FuelType и Repaired есть пропущенные значения. Пропуски будут заполнены в пайплайне."
   ]
  },
  {
   "cell_type": "code",
   "execution_count": 4,
   "metadata": {
    "scrolled": true
   },
   "outputs": [
    {
     "data": {
      "text/plain": [
       "4"
      ]
     },
     "execution_count": 4,
     "metadata": {},
     "output_type": "execute_result"
    }
   ],
   "source": [
    "data.duplicated().sum()"
   ]
  },
  {
   "cell_type": "code",
   "execution_count": 5,
   "metadata": {},
   "outputs": [],
   "source": [
    "data = data.drop_duplicates()"
   ]
  },
  {
   "cell_type": "code",
   "execution_count": 6,
   "metadata": {},
   "outputs": [
    {
     "data": {
      "image/png": "[encoded data removed]",
      "text/plain": [
       "<Figure size 504x360 with 1 Axes>"
      ]
     },
     "metadata": {},
     "output_type": "display_data"
    }
   ],
   "source": [
    "sns.set(rc={'figure.figsize':(7,5)})\n",
    "\n",
    "data['Price'].plot(kind='hist')\n",
    "plt.xlabel('Price')\n",
    "plt.ylabel('Количество записей')\n",
    "plt.title('Распределение целевого признака', size=17)\n",
    "plt.show()"
   ]
  },
  {
   "cell_type": "code",
   "execution_count": 7,
   "metadata": {},
   "outputs": [],
   "source": [
    "data = data.loc[data['Price'] != 0]"
   ]
  },
  {
   "cell_type": "markdown",
   "metadata": {},
   "source": [
    "Целевая переменная Price принимает значения от 0 до 20000. Однако, значение, равное нулю, не подходит для анализа цен на рынке автомобилей. Возможно, оно было установлено по ошибке или в результате технического сбоя."
   ]
  },
  {
   "cell_type": "code",
   "execution_count": 8,
   "metadata": {},
   "outputs": [
    {
     "data": {
      "image/png": "[encoded data removed]",
      "text/plain": [
       "<Figure size 360x432 with 1 Axes>"
      ]
     },
     "metadata": {},
     "output_type": "display_data"
    }
   ],
   "source": [
    "sns.set(rc={'figure.figsize':(5,6)})\n",
    "\n",
    "plt.boxplot(x = data['RegistrationYear'])\n",
    "plt.xlabel('RegistrationYear')\n",
    "plt.title('Распределение признака RegistrationYear', size=17)\n",
    "plt.show()"
   ]
  },
  {
   "cell_type": "code",
   "execution_count": 9,
   "metadata": {},
   "outputs": [
    {
     "data": {
      "text/plain": [
       "1980.0"
      ]
     },
     "execution_count": 9,
     "metadata": {},
     "output_type": "execute_result"
    }
   ],
   "source": [
    "data['RegistrationYear'].quantile(0.01)"
   ]
  },
  {
   "cell_type": "code",
   "execution_count": 10,
   "metadata": {},
   "outputs": [],
   "source": [
    "data = data.loc[(data['RegistrationYear'] <= data['DateCreated'].dt.year) & (data['RegistrationYear'] >= 1980)]"
   ]
  },
  {
   "cell_type": "markdown",
   "metadata": {},
   "source": [
    "Признак RegistrationYear имеет очень большой разброс значений. Ограничим выборку путем удаления 1% минимальных значений (записи до 1980 г). Также учтем, что значение RegistrationYear не должено быть больше года в DateCreated. "
   ]
  },
  {
   "cell_type": "code",
   "execution_count": 11,
   "metadata": {},
   "outputs": [
    {
     "data": {
      "image/png": "[encoded data removed]",
      "text/plain": [
       "<Figure size 504x360 with 1 Axes>"
      ]
     },
     "metadata": {},
     "output_type": "display_data"
    }
   ],
   "source": [
    "sns.set(rc={'figure.figsize':(7,5)})\n",
    "\n",
    "data['Kilometer'].plot(kind='hist')\n",
    "plt.xlabel('Kilometer')\n",
    "plt.ylabel('Количество записей')\n",
    "plt.title('Распределение признака Kilometer', size=17)\n",
    "plt.show()"
   ]
  },
  {
   "cell_type": "markdown",
   "metadata": {},
   "source": [
    "Данный признак оставим без изменений."
   ]
  },
  {
   "cell_type": "code",
   "execution_count": 12,
   "metadata": {},
   "outputs": [
    {
     "data": {
      "image/png": "[encoded data removed]",
      "text/plain": [
       "<Figure size 504x360 with 1 Axes>"
      ]
     },
     "metadata": {},
     "output_type": "display_data"
    }
   ],
   "source": [
    "data.loc[data['Power'] < 500, 'Power'].plot(kind='hist')\n",
    "plt.xlabel('Power')\n",
    "plt.ylabel('Количество записей')\n",
    "plt.title('Распределение признака Power', size=17)\n",
    "plt.show()"
   ]
  },
  {
   "cell_type": "code",
   "execution_count": 13,
   "metadata": {},
   "outputs": [],
   "source": [
    "data = data.loc[(data['Power'] < 500) & (data['Power'] > 0)]"
   ]
  },
  {
   "cell_type": "markdown",
   "metadata": {},
   "source": [
    "По графику выбрана верхняя граница мощности 500 л.с., выше которой располагаются менее 0.2% значений. Значения, больше данной границы и значения, равные нулю, будут удалены."
   ]
  },
  {
   "cell_type": "code",
   "execution_count": 14,
   "metadata": {},
   "outputs": [],
   "source": [
    "data['DateCrawled'] = data['DateCrawled'].dt.date"
   ]
  },
  {
   "cell_type": "code",
   "execution_count": 15,
   "metadata": {},
   "outputs": [],
   "source": [
    "data['LastSeen'] = data['LastSeen'].dt.date"
   ]
  },
  {
   "cell_type": "code",
   "execution_count": 16,
   "metadata": {},
   "outputs": [
    {
     "data": {
      "text/plain": [
       "0    294261\n",
       "Name: NumberOfPictures, dtype: int64"
      ]
     },
     "execution_count": 16,
     "metadata": {},
     "output_type": "execute_result"
    }
   ],
   "source": [
    "data['NumberOfPictures'].value_counts()"
   ]
  },
  {
   "cell_type": "markdown",
   "metadata": {},
   "source": [
    "Параметр NumberOfPictures для всех записей равен 0. Возможно, фотографии не выгружались, либо произошла ошибка при выгрузке данных. Данный параметр неинформативен и его можно удалить."
   ]
  },
  {
   "cell_type": "code",
   "execution_count": 17,
   "metadata": {},
   "outputs": [
    {
     "data": {
      "text/plain": [
       "10115    798\n",
       "65428    504\n",
       "66333    273\n",
       "60311    261\n",
       "78224    246\n",
       "        ... \n",
       "21782      1\n",
       "91744      1\n",
       "25599      1\n",
       "25996      1\n",
       "29578      1\n",
       "Name: PostalCode, Length: 8114, dtype: int64"
      ]
     },
     "execution_count": 17,
     "metadata": {},
     "output_type": "execute_result"
    }
   ],
   "source": [
    "data['PostalCode'].value_counts()"
   ]
  },
  {
   "cell_type": "code",
   "execution_count": 18,
   "metadata": {},
   "outputs": [
    {
     "data": {
      "text/plain": [
       "0.0642164751876454"
      ]
     },
     "execution_count": 18,
     "metadata": {},
     "output_type": "execute_result"
    }
   ],
   "source": [
    "data['Price'].corr(data['PostalCode'])"
   ]
  },
  {
   "cell_type": "markdown",
   "metadata": {},
   "source": [
    "Параметр PostalCode имеет 8132 уникальных значения, и имеет низкую корреляцию с ценой. Данный признак также удалим."
   ]
  },
  {
   "cell_type": "code",
   "execution_count": 19,
   "metadata": {},
   "outputs": [],
   "source": [
    "data = data.drop(['NumberOfPictures', 'PostalCode'], axis=1)"
   ]
  },
  {
   "cell_type": "code",
   "execution_count": 20,
   "metadata": {},
   "outputs": [],
   "source": [
    "data = data.dropna(subset=['Model'])"
   ]
  },
  {
   "cell_type": "markdown",
   "metadata": {},
   "source": [
    "При предсказании цены важно учитывать модель автомобиля. Восстановить модель по имеющимся данным не представляется возможным, поэтому из датафрейма удалены строки с пропусками в поле Model."
   ]
  },
  {
   "cell_type": "code",
   "execution_count": 21,
   "metadata": {},
   "outputs": [],
   "source": [
    "interval_cols = ['Price', 'Power']"
   ]
  },
  {
   "cell_type": "code",
   "execution_count": 22,
   "metadata": {},
   "outputs": [],
   "source": [
    "data = data.drop(['DateCrawled', 'DateCreated', 'LastSeen'], axis=1)"
   ]
  },
  {
   "cell_type": "code",
   "execution_count": 23,
   "metadata": {},
   "outputs": [],
   "source": [
    "warnings.filterwarnings('ignore')"
   ]
  },
  {
   "cell_type": "code",
   "execution_count": 24,
   "metadata": {},
   "outputs": [
    {
     "data": {
      "image/png": "[encoded data removed]",
      "text/plain": [
       "<Figure size 864x648 with 2 Axes>"
      ]
     },
     "metadata": {},
     "output_type": "display_data"
    }
   ],
   "source": [
    "sns.set(rc={'figure.figsize':(12,9)})\n",
    "sns.heatmap(data.phik_matrix(interval_cols = interval_cols), cmap='coolwarm', center=0, annot=True)\n",
    "plt.show()"
   ]
  },
  {
   "cell_type": "markdown",
   "metadata": {},
   "source": [
    "Максимальную корреляцию с целевой переменной имеют признаки: RegistrationYear и Model. Низкая корреляция с признаком RegistrationMonth.\n",
    "\n",
    "Также видна сильная зависимость между признаками Model и Brand.\n",
    "\n",
    "Удалим из датафрейма признак RegistrationMonth, имеющий низкую корреляцию с целевой переменной. А также Brand для устранения мультиколлинеарности."
   ]
  },
  {
   "cell_type": "code",
   "execution_count": 25,
   "metadata": {},
   "outputs": [],
   "source": [
    "data_for_lr = data.drop(['RegistrationMonth', 'Brand'], axis=1)"
   ]
  },
  {
   "cell_type": "code",
   "execution_count": 26,
   "metadata": {},
   "outputs": [],
   "source": [
    "data = data.drop(['RegistrationMonth'], axis=1)"
   ]
  },
  {
   "cell_type": "code",
   "execution_count": 27,
   "metadata": {},
   "outputs": [
    {
     "data": {
      "text/plain": [
       "38592"
      ]
     },
     "execution_count": 27,
     "metadata": {},
     "output_type": "execute_result"
    }
   ],
   "source": [
    "data_for_lr.duplicated().sum()"
   ]
  },
  {
   "cell_type": "code",
   "execution_count": 28,
   "metadata": {},
   "outputs": [],
   "source": [
    "data_for_lr = data_for_lr.drop_duplicates()"
   ]
  },
  {
   "cell_type": "code",
   "execution_count": 29,
   "metadata": {},
   "outputs": [
    {
     "data": {
      "text/plain": [
       "38527"
      ]
     },
     "execution_count": 29,
     "metadata": {},
     "output_type": "execute_result"
    }
   ],
   "source": [
    "data.duplicated().sum()"
   ]
  },
  {
   "cell_type": "code",
   "execution_count": 30,
   "metadata": {},
   "outputs": [],
   "source": [
    "data = data.drop_duplicates()"
   ]
  },
  {
   "cell_type": "markdown",
   "metadata": {},
   "source": [
    "Вполнена проверка на наличие дубликатов, удалены дублирующме строки."
   ]
  },
  {
   "cell_type": "code",
   "execution_count": 31,
   "metadata": {},
   "outputs": [
    {
     "name": "stdout",
     "output_type": "stream",
     "text": [
      "<class 'pandas.core.frame.DataFrame'>\n",
      "Int64Index: 244992 entries, 2 to 354368\n",
      "Data columns (total 10 columns):\n",
      " #   Column            Non-Null Count   Dtype \n",
      "---  ------            --------------   ----- \n",
      " 0   Price             244992 non-null  int64 \n",
      " 1   VehicleType       236040 non-null  object\n",
      " 2   RegistrationYear  244992 non-null  int64 \n",
      " 3   Gearbox           240560 non-null  object\n",
      " 4   Power             244992 non-null  int64 \n",
      " 5   Model             244992 non-null  object\n",
      " 6   Kilometer         244992 non-null  int64 \n",
      " 7   FuelType          232634 non-null  object\n",
      " 8   Brand             244992 non-null  object\n",
      " 9   Repaired          209236 non-null  object\n",
      "dtypes: int64(4), object(6)\n",
      "memory usage: 20.6+ MB\n"
     ]
    }
   ],
   "source": [
    "data.info()"
   ]
  },
  {
   "cell_type": "code",
   "execution_count": 32,
   "metadata": {},
   "outputs": [
    {
     "data": {
      "text/plain": [
       "8"
      ]
     },
     "execution_count": 32,
     "metadata": {},
     "output_type": "execute_result"
    }
   ],
   "source": [
    "data['VehicleType'].nunique()"
   ]
  },
  {
   "cell_type": "code",
   "execution_count": 33,
   "metadata": {},
   "outputs": [
    {
     "data": {
      "text/plain": [
       "2"
      ]
     },
     "execution_count": 33,
     "metadata": {},
     "output_type": "execute_result"
    }
   ],
   "source": [
    "data['Gearbox'].nunique()"
   ]
  },
  {
   "cell_type": "code",
   "execution_count": 34,
   "metadata": {},
   "outputs": [
    {
     "data": {
      "text/plain": [
       "248"
      ]
     },
     "execution_count": 34,
     "metadata": {},
     "output_type": "execute_result"
    }
   ],
   "source": [
    "data['Model'].nunique()"
   ]
  },
  {
   "cell_type": "code",
   "execution_count": 35,
   "metadata": {},
   "outputs": [
    {
     "data": {
      "text/plain": [
       "39"
      ]
     },
     "execution_count": 35,
     "metadata": {},
     "output_type": "execute_result"
    }
   ],
   "source": [
    "data['Brand'].nunique()"
   ]
  },
  {
   "cell_type": "code",
   "execution_count": 36,
   "metadata": {},
   "outputs": [
    {
     "data": {
      "text/plain": [
       "7"
      ]
     },
     "execution_count": 36,
     "metadata": {},
     "output_type": "execute_result"
    }
   ],
   "source": [
    "data['FuelType'].nunique()"
   ]
  },
  {
   "cell_type": "code",
   "execution_count": 37,
   "metadata": {},
   "outputs": [
    {
     "data": {
      "text/plain": [
       "2"
      ]
     },
     "execution_count": 37,
     "metadata": {},
     "output_type": "execute_result"
    }
   ],
   "source": [
    "data['Repaired'].nunique()"
   ]
  },
  {
   "cell_type": "markdown",
   "metadata": {},
   "source": [
    "Были устранены аномалии в данных, удалены неинформативные признаки, устранена мультиколлинеарность признаков."
   ]
  },
  {
   "cell_type": "markdown",
   "metadata": {},
   "source": [
    "## Обучение моделей"
   ]
  },
  {
   "cell_type": "code",
   "execution_count": 38,
   "metadata": {},
   "outputs": [],
   "source": [
    "RANDOM_STATE = 1"
   ]
  },
  {
   "cell_type": "code",
   "execution_count": 39,
   "metadata": {},
   "outputs": [],
   "source": [
    "X = data.drop(['Price'], axis=1)\n",
    "y = data['Price']\n",
    "X_train, X_test, y_train, y_test = train_test_split(X, y, random_state=RANDOM_STATE)"
   ]
  },
  {
   "cell_type": "code",
   "execution_count": 40,
   "metadata": {},
   "outputs": [],
   "source": [
    "X_for_lr = data_for_lr.drop('Price', axis=1)\n",
    "y_for_lr = data_for_lr['Price']\n",
    "X_train_lr, X_test_lr, y_train_lr, y_test_lr = train_test_split(X_for_lr, y_for_lr, random_state=RANDOM_STATE)"
   ]
  },
  {
   "cell_type": "markdown",
   "metadata": {},
   "source": [
    "- Пропуски в VehicleType, Gearbox и FuelType заполним самым частым значением для соответствующей модели. Пропуски в Repaired самым частым значением в датафрейме (предполагаем, что если человек не указал наличие ремонта автомобиля, то он не проводился).\n",
    "- Количественные переменные масштабируем с помощью MinMaxScaler().\n",
    "- Model кодируем с помощью OrdinalEncoder(), так как данный признак имеет 248 вариаций.\n",
    "- VehicleType, Gearbox и FuelType кодируем при помощи OneHotEncoder()."
   ]
  },
  {
   "cell_type": "code",
   "execution_count": 41,
   "metadata": {},
   "outputs": [],
   "source": [
    "cat_columns = ['VehicleType', 'Gearbox', 'FuelType', 'Model', 'Brand']\n",
    "cat_columns_lr = ['VehicleType', 'Gearbox', 'FuelType', 'Model']\n",
    "ohe_columns = ['VehicleType', 'Gearbox', 'FuelType']\n",
    "num_columns = ['RegistrationYear', 'Kilometer', 'Power']\n",
    "\n",
    "def engineer_feature(columns, X):\n",
    "    df = pd.DataFrame(X, columns=columns)\n",
    "    data['VehicleType'] = data.groupby('Model')['VehicleType'].apply(lambda x: x.fillna(x.value_counts().index[0]))\n",
    "    data['Gearbox'] = data.groupby('Model')['Gearbox'].apply(lambda x: x.fillna(x.value_counts().index[0]))\n",
    "    data['FuelType'] = data.groupby('Model')['FuelType'].apply(lambda x: x.fillna(x.value_counts().index[0]))\n",
    "    return df\n",
    "\n",
    "rep_transformer = Pipeline([\n",
    "    ('imputer', SimpleImputer(missing_values=np.nan, strategy='most_frequent')),\n",
    "    ('ohe', OneHotEncoder(drop='first', handle_unknown='ignore'))\n",
    "])\n",
    "\n",
    "encoder_t = ColumnTransformer([\n",
    "    ('ohe', OneHotEncoder(drop='first', handle_unknown='ignore'), ohe_columns),\n",
    "    ('ord', OrdinalEncoder(handle_unknown='use_encoded_value', unknown_value=np.nan), ['Model', 'Brand'])\n",
    "])"
   ]
  },
  {
   "cell_type": "code",
   "execution_count": 42,
   "metadata": {},
   "outputs": [],
   "source": [
    "def get_transformer(columns, model_type):\n",
    "    if model_type == 'not_lr':\n",
    "        transformer = Pipeline([\n",
    "            ('engineer', FunctionTransformer(partial(engineer_feature, columns))),\n",
    "            ('encoder', encoder_t),\n",
    "            ('imputer', SimpleImputer(missing_values=np.nan, strategy='most_frequent'))\n",
    "        ])\n",
    "    else:\n",
    "        transformer = Pipeline([\n",
    "            ('engineer', FunctionTransformer(partial(engineer_feature, columns))),\n",
    "            ('ohe', OneHotEncoder(drop='first', handle_unknown='ignore'))\n",
    "        ])\n",
    "    return ('cat', transformer, columns)\n",
    "\n",
    "preprocessor = ColumnTransformer([\n",
    "    ('rep', rep_transformer, ['Repaired']),\n",
    "    ('num', MinMaxScaler(), num_columns),\n",
    "    get_transformer(cat_columns, 'not_lr')\n",
    "])"
   ]
  },
  {
   "cell_type": "code",
   "execution_count": 43,
   "metadata": {},
   "outputs": [],
   "source": [
    "pipe_final = Pipeline([\n",
    "    ('preprocessor', preprocessor),\n",
    "    ('model', CatBoostRegressor(random_state=RANDOM_STATE, learning_rate=0.15, iterations=1000, verbose=100))\n",
    "])"
   ]
  },
  {
   "cell_type": "markdown",
   "metadata": {},
   "source": [
    "В качестве моделей для обучения выбраны: DecisionTreeRegressor(), LinearRegression(), CatBoostRegressor() и LGBMRegressor()."
   ]
  },
  {
   "cell_type": "code",
   "execution_count": 45,
   "metadata": {},
   "outputs": [],
   "source": [
    "x = get_transformer(cat_columns_lr, 'lr')\n",
    "\n",
    "params = [\n",
    "    {\n",
    "        'model': [DecisionTreeRegressor(random_state=RANDOM_STATE)],\n",
    "        'model__max_depth': [None] + [8, 12],\n",
    "    },\n",
    "         \n",
    "    {\n",
    "        'model': [LinearRegression()],\n",
    "        'preprocessor__cat': [x[1]] #[get_transformer(cat_columns_lr, 'lr')]\n",
    "    },\n",
    "\n",
    "    {\n",
    "        'model': [CatBoostRegressor(random_state=RANDOM_STATE, eval_metric='RMSE', loss_function='RMSE')],\n",
    "        'model__learning_rate': [0.1, 0.15],\n",
    "        'model__iterations': [1000, 1500],\n",
    "        'model__verbose': [1500]\n",
    "    },\n",
    "    \n",
    "    {\n",
    "        'model': [LGBMRegressor(random_state=RANDOM_STATE)],\n",
    "        'model__learning_rate': [0.1, 0.12],\n",
    "        'model__n_estimators': [300, 500],\n",
    "    }\n",
    "]"
   ]
  },
  {
   "cell_type": "code",
   "execution_count": 46,
   "metadata": {},
   "outputs": [
    {
     "name": "stdout",
     "output_type": "stream",
     "text": [
      "0:\tlearn: 4361.6367916\ttotal: 66.3ms\tremaining: 1m 6s\n",
      "999:\tlearn: 1478.2888483\ttotal: 14.1s\tremaining: 0us\n",
      "0:\tlearn: 4354.0060753\ttotal: 15.7ms\tremaining: 15.7s\n",
      "999:\tlearn: 1467.7360611\ttotal: 13.9s\tremaining: 0us\n",
      "0:\tlearn: 4353.4535304\ttotal: 16.3ms\tremaining: 16.2s\n",
      "999:\tlearn: 1474.1549266\ttotal: 14s\tremaining: 0us\n",
      "0:\tlearn: 4213.2357428\ttotal: 14.3ms\tremaining: 14.3s\n",
      "999:\tlearn: 1433.4002292\ttotal: 14s\tremaining: 0us\n",
      "0:\tlearn: 4205.7256947\ttotal: 14.2ms\tremaining: 14.2s\n",
      "999:\tlearn: 1425.1974354\ttotal: 14.2s\tremaining: 0us\n",
      "0:\tlearn: 4205.0745305\ttotal: 14.9ms\tremaining: 14.9s\n",
      "999:\tlearn: 1430.1743381\ttotal: 14.1s\tremaining: 0us\n",
      "0:\tlearn: 4361.6367916\ttotal: 15.1ms\tremaining: 22.6s\n",
      "1499:\tlearn: 1435.8587386\ttotal: 21s\tremaining: 0us\n",
      "0:\tlearn: 4354.0060753\ttotal: 15.4ms\tremaining: 23.1s\n",
      "1499:\tlearn: 1424.5952802\ttotal: 21.6s\tremaining: 0us\n",
      "0:\tlearn: 4353.4535304\ttotal: 16.1ms\tremaining: 24.1s\n",
      "1499:\tlearn: 1430.2831847\ttotal: 21.1s\tremaining: 0us\n",
      "0:\tlearn: 4213.2357428\ttotal: 14.5ms\tremaining: 21.7s\n",
      "1499:\tlearn: 1390.3064168\ttotal: 20.9s\tremaining: 0us\n",
      "0:\tlearn: 4205.7256947\ttotal: 14.4ms\tremaining: 21.6s\n",
      "1499:\tlearn: 1381.1171367\ttotal: 21.2s\tremaining: 0us\n",
      "0:\tlearn: 4205.0745305\ttotal: 14.1ms\tremaining: 21.1s\n",
      "1499:\tlearn: 1384.4640727\ttotal: 20.8s\tremaining: 0us\n",
      "0:\tlearn: 4208.6889958\ttotal: 25.4ms\tremaining: 38.1s\n",
      "1499:\tlearn: 1412.0546632\ttotal: 31.2s\tremaining: 0us\n"
     ]
    },
    {
     "data": {
      "text/html": [
       "<style>#sk-container-id-1 {color: black;}#sk-container-id-1 pre{padding: 0;}#sk-container-id-1 div.sk-toggleable {background-color: white;}#sk-container-id-1 label.sk-toggleable__label {cursor: pointer;display: block;width: 100%;margin-bottom: 0;padding: 0.3em;box-sizing: border-box;text-align: center;}#sk-container-id-1 label.sk-toggleable__label-arrow:before {content: \"▸\";float: left;margin-right: 0.25em;color: #696969;}#sk-container-id-1 label.sk-toggleable__label-arrow:hover:before {color: black;}#sk-container-id-1 div.sk-estimator:hover label.sk-toggleable__label-arrow:before {color: black;}#sk-container-id-1 div.sk-toggleable__content {max-height: 0;max-width: 0;overflow: hidden;text-align: left;background-color: #f0f8ff;}#sk-container-id-1 div.sk-toggleable__content pre {margin: 0.2em;color: black;border-radius: 0.25em;background-color: #f0f8ff;}#sk-container-id-1 input.sk-toggleable__control:checked~div.sk-toggleable__content {max-height: 200px;max-width: 100%;overflow: auto;}#sk-container-id-1 input.sk-toggleable__control:checked~label.sk-toggleable__label-arrow:before {content: \"▾\";}#sk-container-id-1 div.sk-estimator input.sk-toggleable__control:checked~label.sk-toggleable__label {background-color: #d4ebff;}#sk-container-id-1 div.sk-label input.sk-toggleable__control:checked~label.sk-toggleable__label {background-color: #d4ebff;}#sk-container-id-1 input.sk-hidden--visually {border: 0;clip: rect(1px 1px 1px 1px);clip: rect(1px, 1px, 1px, 1px);height: 1px;margin: -1px;overflow: hidden;padding: 0;position: absolute;width: 1px;}#sk-container-id-1 div.sk-estimator {font-family: monospace;background-color: #f0f8ff;border: 1px dotted black;border-radius: 0.25em;box-sizing: border-box;margin-bottom: 0.5em;}#sk-container-id-1 div.sk-estimator:hover {background-color: #d4ebff;}#sk-container-id-1 div.sk-parallel-item::after {content: \"\";width: 100%;border-bottom: 1px solid gray;flex-grow: 1;}#sk-container-id-1 div.sk-label:hover label.sk-toggleable__label {background-color: #d4ebff;}#sk-container-id-1 div.sk-serial::before {content: \"\";position: absolute;border-left: 1px solid gray;box-sizing: border-box;top: 0;bottom: 0;left: 50%;z-index: 0;}#sk-container-id-1 div.sk-serial {display: flex;flex-direction: column;align-items: center;background-color: white;padding-right: 0.2em;padding-left: 0.2em;position: relative;}#sk-container-id-1 div.sk-item {position: relative;z-index: 1;}#sk-container-id-1 div.sk-parallel {display: flex;align-items: stretch;justify-content: center;background-color: white;position: relative;}#sk-container-id-1 div.sk-item::before, #sk-container-id-1 div.sk-parallel-item::before {content: \"\";position: absolute;border-left: 1px solid gray;box-sizing: border-box;top: 0;bottom: 0;left: 50%;z-index: -1;}#sk-container-id-1 div.sk-parallel-item {display: flex;flex-direction: column;z-index: 1;position: relative;background-color: white;}#sk-container-id-1 div.sk-parallel-item:first-child::after {align-self: flex-end;width: 50%;}#sk-container-id-1 div.sk-parallel-item:last-child::after {align-self: flex-start;width: 50%;}#sk-container-id-1 div.sk-parallel-item:only-child::after {width: 0;}#sk-container-id-1 div.sk-dashed-wrapped {border: 1px dashed gray;margin: 0 0.4em 0.5em 0.4em;box-sizing: border-box;padding-bottom: 0.4em;background-color: white;}#sk-container-id-1 div.sk-label label {font-family: monospace;font-weight: bold;display: inline-block;line-height: 1.2em;}#sk-container-id-1 div.sk-label-container {text-align: center;}#sk-container-id-1 div.sk-container {/* jupyter's `normalize.less` sets `[hidden] { display: none; }` but bootstrap.min.css set `[hidden] { display: none !important; }` so we also need the `!important` here to be able to override the default hidden behavior on the sphinx rendered scikit-learn.org. See: https://github.com/scikit-learn/scikit-learn/issues/21755 */display: inline-block !important;position: relative;}#sk-container-id-1 div.sk-text-repr-fallback {display: none;}</style><div id=\"sk-container-id-1\" class=\"sk-top-container\"><div class=\"sk-text-repr-fallback\"><pre>GridSearchCV(cv=3,\n",
       "             estimator=Pipeline(steps=[(&#x27;preprocessor&#x27;,\n",
       "                                        ColumnTransformer(transformers=[(&#x27;rep&#x27;,\n",
       "                                                                         Pipeline(steps=[(&#x27;imputer&#x27;,\n",
       "                                                                                          SimpleImputer(strategy=&#x27;most_frequent&#x27;)),\n",
       "                                                                                         (&#x27;ohe&#x27;,\n",
       "                                                                                          OneHotEncoder(drop=&#x27;first&#x27;,\n",
       "                                                                                                        handle_unknown=&#x27;ignore&#x27;))]),\n",
       "                                                                         [&#x27;Repaired&#x27;]),\n",
       "                                                                        (&#x27;num&#x27;,\n",
       "                                                                         MinMaxScaler(),\n",
       "                                                                         [&#x27;RegistrationYear&#x27;,\n",
       "                                                                          &#x27;Kilometer&#x27;,\n",
       "                                                                          &#x27;Power&#x27;]),\n",
       "                                                                        (&#x27;cat&#x27;,\n",
       "                                                                         Pipeline(steps=[(&#x27;engineer&#x27;,\n",
       "                                                                                          Function...\n",
       "                                                                 OneHotEncoder(drop=&#x27;first&#x27;,\n",
       "                                                                               handle_unknown=&#x27;ignore&#x27;))])]},\n",
       "                         {&#x27;model&#x27;: [&lt;catboost.core.CatBoostRegressor object at 0x7fc1c0281640&gt;],\n",
       "                          &#x27;model__iterations&#x27;: [1000, 1500],\n",
       "                          &#x27;model__learning_rate&#x27;: [0.1, 0.15],\n",
       "                          &#x27;model__verbose&#x27;: [1500]},\n",
       "                         {&#x27;model&#x27;: [LGBMRegressor(random_state=1)],\n",
       "                          &#x27;model__learning_rate&#x27;: [0.1, 0.12],\n",
       "                          &#x27;model__n_estimators&#x27;: [300, 500]}],\n",
       "             scoring=&#x27;neg_root_mean_squared_error&#x27;)</pre><b>In a Jupyter environment, please rerun this cell to show the HTML representation or trust the notebook. <br />On GitHub, the HTML representation is unable to render, please try loading this page with nbviewer.org.</b></div><div class=\"sk-container\" hidden><div class=\"sk-item sk-dashed-wrapped\"><div class=\"sk-label-container\"><div class=\"sk-label sk-toggleable\"><input class=\"sk-toggleable__control sk-hidden--visually\" id=\"sk-estimator-id-1\" type=\"checkbox\" ><label for=\"sk-estimator-id-1\" class=\"sk-toggleable__label sk-toggleable__label-arrow\">GridSearchCV</label><div class=\"sk-toggleable__content\"><pre>GridSearchCV(cv=3,\n",
       "             estimator=Pipeline(steps=[(&#x27;preprocessor&#x27;,\n",
       "                                        ColumnTransformer(transformers=[(&#x27;rep&#x27;,\n",
       "                                                                         Pipeline(steps=[(&#x27;imputer&#x27;,\n",
       "                                                                                          SimpleImputer(strategy=&#x27;most_frequent&#x27;)),\n",
       "                                                                                         (&#x27;ohe&#x27;,\n",
       "                                                                                          OneHotEncoder(drop=&#x27;first&#x27;,\n",
       "                                                                                                        handle_unknown=&#x27;ignore&#x27;))]),\n",
       "                                                                         [&#x27;Repaired&#x27;]),\n",
       "                                                                        (&#x27;num&#x27;,\n",
       "                                                                         MinMaxScaler(),\n",
       "                                                                         [&#x27;RegistrationYear&#x27;,\n",
       "                                                                          &#x27;Kilometer&#x27;,\n",
       "                                                                          &#x27;Power&#x27;]),\n",
       "                                                                        (&#x27;cat&#x27;,\n",
       "                                                                         Pipeline(steps=[(&#x27;engineer&#x27;,\n",
       "                                                                                          Function...\n",
       "                                                                 OneHotEncoder(drop=&#x27;first&#x27;,\n",
       "                                                                               handle_unknown=&#x27;ignore&#x27;))])]},\n",
       "                         {&#x27;model&#x27;: [&lt;catboost.core.CatBoostRegressor object at 0x7fc1c0281640&gt;],\n",
       "                          &#x27;model__iterations&#x27;: [1000, 1500],\n",
       "                          &#x27;model__learning_rate&#x27;: [0.1, 0.15],\n",
       "                          &#x27;model__verbose&#x27;: [1500]},\n",
       "                         {&#x27;model&#x27;: [LGBMRegressor(random_state=1)],\n",
       "                          &#x27;model__learning_rate&#x27;: [0.1, 0.12],\n",
       "                          &#x27;model__n_estimators&#x27;: [300, 500]}],\n",
       "             scoring=&#x27;neg_root_mean_squared_error&#x27;)</pre></div></div></div><div class=\"sk-parallel\"><div class=\"sk-parallel-item\"><div class=\"sk-item\"><div class=\"sk-label-container\"><div class=\"sk-label sk-toggleable\"><input class=\"sk-toggleable__control sk-hidden--visually\" id=\"sk-estimator-id-2\" type=\"checkbox\" ><label for=\"sk-estimator-id-2\" class=\"sk-toggleable__label sk-toggleable__label-arrow\">estimator: Pipeline</label><div class=\"sk-toggleable__content\"><pre>Pipeline(steps=[(&#x27;preprocessor&#x27;,\n",
       "                 ColumnTransformer(transformers=[(&#x27;rep&#x27;,\n",
       "                                                  Pipeline(steps=[(&#x27;imputer&#x27;,\n",
       "                                                                   SimpleImputer(strategy=&#x27;most_frequent&#x27;)),\n",
       "                                                                  (&#x27;ohe&#x27;,\n",
       "                                                                   OneHotEncoder(drop=&#x27;first&#x27;,\n",
       "                                                                                 handle_unknown=&#x27;ignore&#x27;))]),\n",
       "                                                  [&#x27;Repaired&#x27;]),\n",
       "                                                 (&#x27;num&#x27;, MinMaxScaler(),\n",
       "                                                  [&#x27;RegistrationYear&#x27;,\n",
       "                                                   &#x27;Kilometer&#x27;, &#x27;Power&#x27;]),\n",
       "                                                 (&#x27;cat&#x27;,\n",
       "                                                  Pipeline(steps=[(&#x27;engineer&#x27;,\n",
       "                                                                   FunctionTransformer(func=functools.p...\n",
       "                                                                                                    OneHotEncoder(drop=&#x27;first&#x27;,\n",
       "                                                                                                                  handle_unknown=&#x27;ignore&#x27;),\n",
       "                                                                                                    [&#x27;VehicleType&#x27;,\n",
       "                                                                                                     &#x27;Gearbox&#x27;,\n",
       "                                                                                                     &#x27;FuelType&#x27;]),\n",
       "                                                                                                   (&#x27;ord&#x27;,\n",
       "                                                                                                    OrdinalEncoder(handle_unknown=&#x27;use_encoded_value&#x27;,\n",
       "                                                                                                                   unknown_value=nan),\n",
       "                                                                                                    [&#x27;Model&#x27;,\n",
       "                                                                                                     &#x27;Brand&#x27;])])),\n",
       "                                                                  (&#x27;imputer&#x27;,\n",
       "                                                                   SimpleImputer(strategy=&#x27;most_frequent&#x27;))]),\n",
       "                                                  [&#x27;VehicleType&#x27;, &#x27;Gearbox&#x27;,\n",
       "                                                   &#x27;FuelType&#x27;, &#x27;Model&#x27;,\n",
       "                                                   &#x27;Brand&#x27;])])),\n",
       "                (&#x27;model&#x27;,\n",
       "                 &lt;catboost.core.CatBoostRegressor object at 0x7fc204ec0310&gt;)])</pre></div></div></div><div class=\"sk-serial\"><div class=\"sk-item\"><div class=\"sk-serial\"><div class=\"sk-item sk-dashed-wrapped\"><div class=\"sk-label-container\"><div class=\"sk-label sk-toggleable\"><input class=\"sk-toggleable__control sk-hidden--visually\" id=\"sk-estimator-id-3\" type=\"checkbox\" ><label for=\"sk-estimator-id-3\" class=\"sk-toggleable__label sk-toggleable__label-arrow\">preprocessor: ColumnTransformer</label><div class=\"sk-toggleable__content\"><pre>ColumnTransformer(transformers=[(&#x27;rep&#x27;,\n",
       "                                 Pipeline(steps=[(&#x27;imputer&#x27;,\n",
       "                                                  SimpleImputer(strategy=&#x27;most_frequent&#x27;)),\n",
       "                                                 (&#x27;ohe&#x27;,\n",
       "                                                  OneHotEncoder(drop=&#x27;first&#x27;,\n",
       "                                                                handle_unknown=&#x27;ignore&#x27;))]),\n",
       "                                 [&#x27;Repaired&#x27;]),\n",
       "                                (&#x27;num&#x27;, MinMaxScaler(),\n",
       "                                 [&#x27;RegistrationYear&#x27;, &#x27;Kilometer&#x27;, &#x27;Power&#x27;]),\n",
       "                                (&#x27;cat&#x27;,\n",
       "                                 Pipeline(steps=[(&#x27;engineer&#x27;,\n",
       "                                                  FunctionTransformer(func=functools.partial(&lt;function engineer_feature...)),\n",
       "                                                 (&#x27;encoder&#x27;,\n",
       "                                                  ColumnTransformer(transformers=[(&#x27;ohe&#x27;,\n",
       "                                                                                   OneHotEncoder(drop=&#x27;first&#x27;,\n",
       "                                                                                                 handle_unknown=&#x27;ignore&#x27;),\n",
       "                                                                                   [&#x27;VehicleType&#x27;,\n",
       "                                                                                    &#x27;Gearbox&#x27;,\n",
       "                                                                                    &#x27;FuelType&#x27;]),\n",
       "                                                                                  (&#x27;ord&#x27;,\n",
       "                                                                                   OrdinalEncoder(handle_unknown=&#x27;use_encoded_value&#x27;,\n",
       "                                                                                                  unknown_value=nan),\n",
       "                                                                                   [&#x27;Model&#x27;,\n",
       "                                                                                    &#x27;Brand&#x27;])])),\n",
       "                                                 (&#x27;imputer&#x27;,\n",
       "                                                  SimpleImputer(strategy=&#x27;most_frequent&#x27;))]),\n",
       "                                 [&#x27;VehicleType&#x27;, &#x27;Gearbox&#x27;, &#x27;FuelType&#x27;, &#x27;Model&#x27;,\n",
       "                                  &#x27;Brand&#x27;])])</pre></div></div></div><div class=\"sk-parallel\"><div class=\"sk-parallel-item\"><div class=\"sk-item\"><div class=\"sk-label-container\"><div class=\"sk-label sk-toggleable\"><input class=\"sk-toggleable__control sk-hidden--visually\" id=\"sk-estimator-id-4\" type=\"checkbox\" ><label for=\"sk-estimator-id-4\" class=\"sk-toggleable__label sk-toggleable__label-arrow\">rep</label><div class=\"sk-toggleable__content\"><pre>[&#x27;Repaired&#x27;]</pre></div></div></div><div class=\"sk-serial\"><div class=\"sk-item\"><div class=\"sk-serial\"><div class=\"sk-item\"><div class=\"sk-estimator sk-toggleable\"><input class=\"sk-toggleable__control sk-hidden--visually\" id=\"sk-estimator-id-5\" type=\"checkbox\" ><label for=\"sk-estimator-id-5\" class=\"sk-toggleable__label sk-toggleable__label-arrow\">SimpleImputer</label><div class=\"sk-toggleable__content\"><pre>SimpleImputer(strategy=&#x27;most_frequent&#x27;)</pre></div></div></div><div class=\"sk-item\"><div class=\"sk-estimator sk-toggleable\"><input class=\"sk-toggleable__control sk-hidden--visually\" id=\"sk-estimator-id-6\" type=\"checkbox\" ><label for=\"sk-estimator-id-6\" class=\"sk-toggleable__label sk-toggleable__label-arrow\">OneHotEncoder</label><div class=\"sk-toggleable__content\"><pre>OneHotEncoder(drop=&#x27;first&#x27;, handle_unknown=&#x27;ignore&#x27;)</pre></div></div></div></div></div></div></div></div><div class=\"sk-parallel-item\"><div class=\"sk-item\"><div class=\"sk-label-container\"><div class=\"sk-label sk-toggleable\"><input class=\"sk-toggleable__control sk-hidden--visually\" id=\"sk-estimator-id-7\" type=\"checkbox\" ><label for=\"sk-estimator-id-7\" class=\"sk-toggleable__label sk-toggleable__label-arrow\">num</label><div class=\"sk-toggleable__content\"><pre>[&#x27;RegistrationYear&#x27;, &#x27;Kilometer&#x27;, &#x27;Power&#x27;]</pre></div></div></div><div class=\"sk-serial\"><div class=\"sk-item\"><div class=\"sk-estimator sk-toggleable\"><input class=\"sk-toggleable__control sk-hidden--visually\" id=\"sk-estimator-id-8\" type=\"checkbox\" ><label for=\"sk-estimator-id-8\" class=\"sk-toggleable__label sk-toggleable__label-arrow\">MinMaxScaler</label><div class=\"sk-toggleable__content\"><pre>MinMaxScaler()</pre></div></div></div></div></div></div><div class=\"sk-parallel-item\"><div class=\"sk-item\"><div class=\"sk-label-container\"><div class=\"sk-label sk-toggleable\"><input class=\"sk-toggleable__control sk-hidden--visually\" id=\"sk-estimator-id-9\" type=\"checkbox\" ><label for=\"sk-estimator-id-9\" class=\"sk-toggleable__label sk-toggleable__label-arrow\">cat</label><div class=\"sk-toggleable__content\"><pre>[&#x27;VehicleType&#x27;, &#x27;Gearbox&#x27;, &#x27;FuelType&#x27;, &#x27;Model&#x27;, &#x27;Brand&#x27;]</pre></div></div></div><div class=\"sk-serial\"><div class=\"sk-item\"><div class=\"sk-serial\"><div class=\"sk-item\"><div class=\"sk-estimator sk-toggleable\"><input class=\"sk-toggleable__control sk-hidden--visually\" id=\"sk-estimator-id-10\" type=\"checkbox\" ><label for=\"sk-estimator-id-10\" class=\"sk-toggleable__label sk-toggleable__label-arrow\">FunctionTransformer</label><div class=\"sk-toggleable__content\"><pre>FunctionTransformer(func=functools.partial(&lt;function engineer_feature at 0x7fc204eb6a60&gt;, [&#x27;VehicleType&#x27;, &#x27;Gearbox&#x27;, &#x27;FuelType&#x27;, &#x27;Model&#x27;, &#x27;Brand&#x27;]))</pre></div></div></div><div class=\"sk-item sk-dashed-wrapped\"><div class=\"sk-label-container\"><div class=\"sk-label sk-toggleable\"><input class=\"sk-toggleable__control sk-hidden--visually\" id=\"sk-estimator-id-11\" type=\"checkbox\" ><label for=\"sk-estimator-id-11\" class=\"sk-toggleable__label sk-toggleable__label-arrow\">encoder: ColumnTransformer</label><div class=\"sk-toggleable__content\"><pre>ColumnTransformer(transformers=[(&#x27;ohe&#x27;,\n",
       "                                 OneHotEncoder(drop=&#x27;first&#x27;,\n",
       "                                               handle_unknown=&#x27;ignore&#x27;),\n",
       "                                 [&#x27;VehicleType&#x27;, &#x27;Gearbox&#x27;, &#x27;FuelType&#x27;]),\n",
       "                                (&#x27;ord&#x27;,\n",
       "                                 OrdinalEncoder(handle_unknown=&#x27;use_encoded_value&#x27;,\n",
       "                                                unknown_value=nan),\n",
       "                                 [&#x27;Model&#x27;, &#x27;Brand&#x27;])])</pre></div></div></div><div class=\"sk-parallel\"><div class=\"sk-parallel-item\"><div class=\"sk-item\"><div class=\"sk-label-container\"><div class=\"sk-label sk-toggleable\"><input class=\"sk-toggleable__control sk-hidden--visually\" id=\"sk-estimator-id-12\" type=\"checkbox\" ><label for=\"sk-estimator-id-12\" class=\"sk-toggleable__label sk-toggleable__label-arrow\">ohe</label><div class=\"sk-toggleable__content\"><pre>[&#x27;VehicleType&#x27;, &#x27;Gearbox&#x27;, &#x27;FuelType&#x27;]</pre></div></div></div><div class=\"sk-serial\"><div class=\"sk-item\"><div class=\"sk-estimator sk-toggleable\"><input class=\"sk-toggleable__control sk-hidden--visually\" id=\"sk-estimator-id-13\" type=\"checkbox\" ><label for=\"sk-estimator-id-13\" class=\"sk-toggleable__label sk-toggleable__label-arrow\">OneHotEncoder</label><div class=\"sk-toggleable__content\"><pre>OneHotEncoder(drop=&#x27;first&#x27;, handle_unknown=&#x27;ignore&#x27;)</pre></div></div></div></div></div></div><div class=\"sk-parallel-item\"><div class=\"sk-item\"><div class=\"sk-label-container\"><div class=\"sk-label sk-toggleable\"><input class=\"sk-toggleable__control sk-hidden--visually\" id=\"sk-estimator-id-14\" type=\"checkbox\" ><label for=\"sk-estimator-id-14\" class=\"sk-toggleable__label sk-toggleable__label-arrow\">ord</label><div class=\"sk-toggleable__content\"><pre>[&#x27;Model&#x27;, &#x27;Brand&#x27;]</pre></div></div></div><div class=\"sk-serial\"><div class=\"sk-item\"><div class=\"sk-estimator sk-toggleable\"><input class=\"sk-toggleable__control sk-hidden--visually\" id=\"sk-estimator-id-15\" type=\"checkbox\" ><label for=\"sk-estimator-id-15\" class=\"sk-toggleable__label sk-toggleable__label-arrow\">OrdinalEncoder</label><div class=\"sk-toggleable__content\"><pre>OrdinalEncoder(handle_unknown=&#x27;use_encoded_value&#x27;, unknown_value=nan)</pre></div></div></div></div></div></div></div></div><div class=\"sk-item\"><div class=\"sk-estimator sk-toggleable\"><input class=\"sk-toggleable__control sk-hidden--visually\" id=\"sk-estimator-id-16\" type=\"checkbox\" ><label for=\"sk-estimator-id-16\" class=\"sk-toggleable__label sk-toggleable__label-arrow\">SimpleImputer</label><div class=\"sk-toggleable__content\"><pre>SimpleImputer(strategy=&#x27;most_frequent&#x27;)</pre></div></div></div></div></div></div></div></div></div></div><div class=\"sk-item\"><div class=\"sk-estimator sk-toggleable\"><input class=\"sk-toggleable__control sk-hidden--visually\" id=\"sk-estimator-id-17\" type=\"checkbox\" ><label for=\"sk-estimator-id-17\" class=\"sk-toggleable__label sk-toggleable__label-arrow\">CatBoostRegressor</label><div class=\"sk-toggleable__content\"><pre>&lt;catboost.core.CatBoostRegressor object at 0x7fc204ec0310&gt;</pre></div></div></div></div></div></div></div></div></div></div></div></div>"
      ],
      "text/plain": [
       "GridSearchCV(cv=3,\n",
       "             estimator=Pipeline(steps=[('preprocessor',\n",
       "                                        ColumnTransformer(transformers=[('rep',\n",
       "                                                                         Pipeline(steps=[('imputer',\n",
       "                                                                                          SimpleImputer(strategy='most_frequent')),\n",
       "                                                                                         ('ohe',\n",
       "                                                                                          OneHotEncoder(drop='first',\n",
       "                                                                                                        handle_unknown='ignore'))]),\n",
       "                                                                         ['Repaired']),\n",
       "                                                                        ('num',\n",
       "                                                                         MinMaxScaler(),\n",
       "                                                                         ['RegistrationYear',\n",
       "                                                                          'Kilometer',\n",
       "                                                                          'Power']),\n",
       "                                                                        ('cat',\n",
       "                                                                         Pipeline(steps=[('engineer',\n",
       "                                                                                          Function...\n",
       "                                                                 OneHotEncoder(drop='first',\n",
       "                                                                               handle_unknown='ignore'))])]},\n",
       "                         {'model': [<catboost.core.CatBoostRegressor object at 0x7fc1c0281640>],\n",
       "                          'model__iterations': [1000, 1500],\n",
       "                          'model__learning_rate': [0.1, 0.15],\n",
       "                          'model__verbose': [1500]},\n",
       "                         {'model': [LGBMRegressor(random_state=1)],\n",
       "                          'model__learning_rate': [0.1, 0.12],\n",
       "                          'model__n_estimators': [300, 500]}],\n",
       "             scoring='neg_root_mean_squared_error')"
      ]
     },
     "execution_count": 46,
     "metadata": {},
     "output_type": "execute_result"
    }
   ],
   "source": [
    "grid_search = GridSearchCV(\n",
    "    pipe_final, \n",
    "    params, \n",
    "    cv=3,\n",
    "    scoring='neg_root_mean_squared_error',\n",
    "    n_jobs=-1\n",
    ")\n",
    "grid_search.fit(X_train, y_train)"
   ]
  },
  {
   "cell_type": "markdown",
   "metadata": {},
   "source": [
    "## Анализ моделей"
   ]
  },
  {
   "cell_type": "code",
   "execution_count": 47,
   "metadata": {},
   "outputs": [
    {
     "data": {
      "text/html": [
       "<div>\n",
       "<style scoped>\n",
       "    .dataframe tbody tr th:only-of-type {\n",
       "        vertical-align: middle;\n",
       "    }\n",
       "\n",
       "    .dataframe tbody tr th {\n",
       "        vertical-align: top;\n",
       "    }\n",
       "\n",
       "    .dataframe thead th {\n",
       "        text-align: right;\n",
       "    }\n",
       "</style>\n",
       "<table border=\"1\" class=\"dataframe\">\n",
       "  <thead>\n",
       "    <tr style=\"text-align: right;\">\n",
       "      <th></th>\n",
       "      <th>mean_fit_time</th>\n",
       "      <th>mean_score_time</th>\n",
       "      <th>params</th>\n",
       "      <th>mean_test_score</th>\n",
       "      <th>rank_test_score</th>\n",
       "    </tr>\n",
       "  </thead>\n",
       "  <tbody>\n",
       "    <tr>\n",
       "      <th>0</th>\n",
       "      <td>1.440939</td>\n",
       "      <td>0.770945</td>\n",
       "      <td>{'model': DecisionTreeRegressor(random_state=1...</td>\n",
       "      <td>-1985.447081</td>\n",
       "      <td>10</td>\n",
       "    </tr>\n",
       "    <tr>\n",
       "      <th>1</th>\n",
       "      <td>1.116000</td>\n",
       "      <td>0.757310</td>\n",
       "      <td>{'model': DecisionTreeRegressor(random_state=1...</td>\n",
       "      <td>-2082.241350</td>\n",
       "      <td>11</td>\n",
       "    </tr>\n",
       "    <tr>\n",
       "      <th>2</th>\n",
       "      <td>1.242182</td>\n",
       "      <td>0.734461</td>\n",
       "      <td>{'model': DecisionTreeRegressor(random_state=1...</td>\n",
       "      <td>-1898.447019</td>\n",
       "      <td>9</td>\n",
       "    </tr>\n",
       "    <tr>\n",
       "      <th>3</th>\n",
       "      <td>11.001957</td>\n",
       "      <td>0.887591</td>\n",
       "      <td>{'model': LinearRegression(), 'preprocessor__c...</td>\n",
       "      <td>-2460.750411</td>\n",
       "      <td>12</td>\n",
       "    </tr>\n",
       "    <tr>\n",
       "      <th>4</th>\n",
       "      <td>15.817787</td>\n",
       "      <td>0.775142</td>\n",
       "      <td>{'model': &lt;catboost.core.CatBoostRegressor obj...</td>\n",
       "      <td>-1573.078589</td>\n",
       "      <td>6</td>\n",
       "    </tr>\n",
       "    <tr>\n",
       "      <th>5</th>\n",
       "      <td>15.971224</td>\n",
       "      <td>0.787153</td>\n",
       "      <td>{'model': &lt;catboost.core.CatBoostRegressor obj...</td>\n",
       "      <td>-1559.698952</td>\n",
       "      <td>4</td>\n",
       "    </tr>\n",
       "    <tr>\n",
       "      <th>6</th>\n",
       "      <td>23.290503</td>\n",
       "      <td>0.802060</td>\n",
       "      <td>{'model': &lt;catboost.core.CatBoostRegressor obj...</td>\n",
       "      <td>-1558.326314</td>\n",
       "      <td>3</td>\n",
       "    </tr>\n",
       "    <tr>\n",
       "      <th>7</th>\n",
       "      <td>22.980018</td>\n",
       "      <td>0.799115</td>\n",
       "      <td>{'model': &lt;catboost.core.CatBoostRegressor obj...</td>\n",
       "      <td>-1549.214323</td>\n",
       "      <td>1</td>\n",
       "    </tr>\n",
       "    <tr>\n",
       "      <th>8</th>\n",
       "      <td>106.301738</td>\n",
       "      <td>1.942177</td>\n",
       "      <td>{'model': LGBMRegressor(random_state=1), 'mode...</td>\n",
       "      <td>-1583.071878</td>\n",
       "      <td>8</td>\n",
       "    </tr>\n",
       "    <tr>\n",
       "      <th>9</th>\n",
       "      <td>16.800528</td>\n",
       "      <td>2.504563</td>\n",
       "      <td>{'model': LGBMRegressor(random_state=1), 'mode...</td>\n",
       "      <td>-1563.361812</td>\n",
       "      <td>5</td>\n",
       "    </tr>\n",
       "    <tr>\n",
       "      <th>10</th>\n",
       "      <td>9.891776</td>\n",
       "      <td>1.869359</td>\n",
       "      <td>{'model': LGBMRegressor(random_state=1), 'mode...</td>\n",
       "      <td>-1576.229927</td>\n",
       "      <td>7</td>\n",
       "    </tr>\n",
       "    <tr>\n",
       "      <th>11</th>\n",
       "      <td>16.633541</td>\n",
       "      <td>2.473409</td>\n",
       "      <td>{'model': LGBMRegressor(random_state=1), 'mode...</td>\n",
       "      <td>-1557.565100</td>\n",
       "      <td>2</td>\n",
       "    </tr>\n",
       "  </tbody>\n",
       "</table>\n",
       "</div>"
      ],
      "text/plain": [
       "    mean_fit_time  mean_score_time  \\\n",
       "0        1.440939         0.770945   \n",
       "1        1.116000         0.757310   \n",
       "2        1.242182         0.734461   \n",
       "3       11.001957         0.887591   \n",
       "4       15.817787         0.775142   \n",
       "5       15.971224         0.787153   \n",
       "6       23.290503         0.802060   \n",
       "7       22.980018         0.799115   \n",
       "8      106.301738         1.942177   \n",
       "9       16.800528         2.504563   \n",
       "10       9.891776         1.869359   \n",
       "11      16.633541         2.473409   \n",
       "\n",
       "                                               params  mean_test_score  \\\n",
       "0   {'model': DecisionTreeRegressor(random_state=1...     -1985.447081   \n",
       "1   {'model': DecisionTreeRegressor(random_state=1...     -2082.241350   \n",
       "2   {'model': DecisionTreeRegressor(random_state=1...     -1898.447019   \n",
       "3   {'model': LinearRegression(), 'preprocessor__c...     -2460.750411   \n",
       "4   {'model': <catboost.core.CatBoostRegressor obj...     -1573.078589   \n",
       "5   {'model': <catboost.core.CatBoostRegressor obj...     -1559.698952   \n",
       "6   {'model': <catboost.core.CatBoostRegressor obj...     -1558.326314   \n",
       "7   {'model': <catboost.core.CatBoostRegressor obj...     -1549.214323   \n",
       "8   {'model': LGBMRegressor(random_state=1), 'mode...     -1583.071878   \n",
       "9   {'model': LGBMRegressor(random_state=1), 'mode...     -1563.361812   \n",
       "10  {'model': LGBMRegressor(random_state=1), 'mode...     -1576.229927   \n",
       "11  {'model': LGBMRegressor(random_state=1), 'mode...     -1557.565100   \n",
       "\n",
       "    rank_test_score  \n",
       "0                10  \n",
       "1                11  \n",
       "2                 9  \n",
       "3                12  \n",
       "4                 6  \n",
       "5                 4  \n",
       "6                 3  \n",
       "7                 1  \n",
       "8                 8  \n",
       "9                 5  \n",
       "10                7  \n",
       "11                2  "
      ]
     },
     "execution_count": 47,
     "metadata": {},
     "output_type": "execute_result"
    }
   ],
   "source": [
    "pd.DataFrame(grid_search.cv_results_)[['mean_fit_time', 'mean_score_time', 'params', 'mean_test_score', 'rank_test_score']]"
   ]
  },
  {
   "cell_type": "code",
   "execution_count": 48,
   "metadata": {},
   "outputs": [
    {
     "data": {
      "text/plain": [
       "{'model': <catboost.core.CatBoostRegressor at 0x7fc1c0281640>,\n",
       " 'model__iterations': 1000,\n",
       " 'model__learning_rate': 0.15,\n",
       " 'model__verbose': 1500}"
      ]
     },
     "execution_count": 48,
     "metadata": {},
     "output_type": "execute_result"
    }
   ],
   "source": [
    "pd.DataFrame(grid_search.cv_results_).loc[5, 'params']"
   ]
  },
  {
   "cell_type": "markdown",
   "metadata": {},
   "source": [
    "Самыми быстрыми по скорости обучения и скорости предсказания оказались модели DecisionTreeRegressor. Самыми точными - модели градиентного бустинга. \n",
    "\n",
    "Для заказчика важны все 3 параметра. Так как идет разработка приложения, которой поможет пользователям определять рыночную стоимость своего автомобиля, то с точки зрения пользователей достоинствами являются: время предсказания и точность.\n",
    "\n",
    "Оптимальной моделью будет являться CatBoostRegressor(learning_rate=0.15, iterations=1000), rank_test_score = 4. Оценка RMSE на кросс-валидации 1559, что не сильно больше минимальной (1549), время предсказания менее 1 секунды. Модель требует довольно большого времени для обучения, однако оно является средним среди моделей градиентного бустинга (которые являются наиболее точными). А также стоит учитывать, что модель требуется обучать заметно реже, чем выполнять предсказания с ее помощью."
   ]
  },
  {
   "cell_type": "code",
   "execution_count": 49,
   "metadata": {},
   "outputs": [
    {
     "name": "stdout",
     "output_type": "stream",
     "text": [
      "0:\tlearn: 4208.6889958\ttotal: 27.7ms\tremaining: 27.7s\n",
      "100:\tlearn: 1687.2301871\ttotal: 2.1s\tremaining: 18.7s\n",
      "200:\tlearn: 1609.0776779\ttotal: 4.2s\tremaining: 16.7s\n",
      "300:\tlearn: 1569.0971763\ttotal: 6.26s\tremaining: 14.5s\n",
      "400:\tlearn: 1541.2016190\ttotal: 8.39s\tremaining: 12.5s\n",
      "500:\tlearn: 1518.9042598\ttotal: 10.5s\tremaining: 10.4s\n",
      "600:\tlearn: 1501.2005410\ttotal: 12.6s\tremaining: 8.36s\n",
      "700:\tlearn: 1485.7711995\ttotal: 14.7s\tremaining: 6.27s\n",
      "800:\tlearn: 1473.6238229\ttotal: 16.8s\tremaining: 4.17s\n",
      "900:\tlearn: 1461.6022090\ttotal: 19s\tremaining: 2.09s\n",
      "999:\tlearn: 1451.1026657\ttotal: 21.1s\tremaining: 0us\n"
     ]
    },
    {
     "data": {
      "text/html": [
       "<style>#sk-container-id-2 {color: black;}#sk-container-id-2 pre{padding: 0;}#sk-container-id-2 div.sk-toggleable {background-color: white;}#sk-container-id-2 label.sk-toggleable__label {cursor: pointer;display: block;width: 100%;margin-bottom: 0;padding: 0.3em;box-sizing: border-box;text-align: center;}#sk-container-id-2 label.sk-toggleable__label-arrow:before {content: \"▸\";float: left;margin-right: 0.25em;color: #696969;}#sk-container-id-2 label.sk-toggleable__label-arrow:hover:before {color: black;}#sk-container-id-2 div.sk-estimator:hover label.sk-toggleable__label-arrow:before {color: black;}#sk-container-id-2 div.sk-toggleable__content {max-height: 0;max-width: 0;overflow: hidden;text-align: left;background-color: #f0f8ff;}#sk-container-id-2 div.sk-toggleable__content pre {margin: 0.2em;color: black;border-radius: 0.25em;background-color: #f0f8ff;}#sk-container-id-2 input.sk-toggleable__control:checked~div.sk-toggleable__content {max-height: 200px;max-width: 100%;overflow: auto;}#sk-container-id-2 input.sk-toggleable__control:checked~label.sk-toggleable__label-arrow:before {content: \"▾\";}#sk-container-id-2 div.sk-estimator input.sk-toggleable__control:checked~label.sk-toggleable__label {background-color: #d4ebff;}#sk-container-id-2 div.sk-label input.sk-toggleable__control:checked~label.sk-toggleable__label {background-color: #d4ebff;}#sk-container-id-2 input.sk-hidden--visually {border: 0;clip: rect(1px 1px 1px 1px);clip: rect(1px, 1px, 1px, 1px);height: 1px;margin: -1px;overflow: hidden;padding: 0;position: absolute;width: 1px;}#sk-container-id-2 div.sk-estimator {font-family: monospace;background-color: #f0f8ff;border: 1px dotted black;border-radius: 0.25em;box-sizing: border-box;margin-bottom: 0.5em;}#sk-container-id-2 div.sk-estimator:hover {background-color: #d4ebff;}#sk-container-id-2 div.sk-parallel-item::after {content: \"\";width: 100%;border-bottom: 1px solid gray;flex-grow: 1;}#sk-container-id-2 div.sk-label:hover label.sk-toggleable__label {background-color: #d4ebff;}#sk-container-id-2 div.sk-serial::before {content: \"\";position: absolute;border-left: 1px solid gray;box-sizing: border-box;top: 0;bottom: 0;left: 50%;z-index: 0;}#sk-container-id-2 div.sk-serial {display: flex;flex-direction: column;align-items: center;background-color: white;padding-right: 0.2em;padding-left: 0.2em;position: relative;}#sk-container-id-2 div.sk-item {position: relative;z-index: 1;}#sk-container-id-2 div.sk-parallel {display: flex;align-items: stretch;justify-content: center;background-color: white;position: relative;}#sk-container-id-2 div.sk-item::before, #sk-container-id-2 div.sk-parallel-item::before {content: \"\";position: absolute;border-left: 1px solid gray;box-sizing: border-box;top: 0;bottom: 0;left: 50%;z-index: -1;}#sk-container-id-2 div.sk-parallel-item {display: flex;flex-direction: column;z-index: 1;position: relative;background-color: white;}#sk-container-id-2 div.sk-parallel-item:first-child::after {align-self: flex-end;width: 50%;}#sk-container-id-2 div.sk-parallel-item:last-child::after {align-self: flex-start;width: 50%;}#sk-container-id-2 div.sk-parallel-item:only-child::after {width: 0;}#sk-container-id-2 div.sk-dashed-wrapped {border: 1px dashed gray;margin: 0 0.4em 0.5em 0.4em;box-sizing: border-box;padding-bottom: 0.4em;background-color: white;}#sk-container-id-2 div.sk-label label {font-family: monospace;font-weight: bold;display: inline-block;line-height: 1.2em;}#sk-container-id-2 div.sk-label-container {text-align: center;}#sk-container-id-2 div.sk-container {/* jupyter's `normalize.less` sets `[hidden] { display: none; }` but bootstrap.min.css set `[hidden] { display: none !important; }` so we also need the `!important` here to be able to override the default hidden behavior on the sphinx rendered scikit-learn.org. See: https://github.com/scikit-learn/scikit-learn/issues/21755 */display: inline-block !important;position: relative;}#sk-container-id-2 div.sk-text-repr-fallback {display: none;}</style><div id=\"sk-container-id-2\" class=\"sk-top-container\"><div class=\"sk-text-repr-fallback\"><pre>Pipeline(steps=[(&#x27;preprocessor&#x27;,\n",
       "                 ColumnTransformer(transformers=[(&#x27;rep&#x27;,\n",
       "                                                  Pipeline(steps=[(&#x27;imputer&#x27;,\n",
       "                                                                   SimpleImputer(strategy=&#x27;most_frequent&#x27;)),\n",
       "                                                                  (&#x27;ohe&#x27;,\n",
       "                                                                   OneHotEncoder(drop=&#x27;first&#x27;,\n",
       "                                                                                 handle_unknown=&#x27;ignore&#x27;))]),\n",
       "                                                  [&#x27;Repaired&#x27;]),\n",
       "                                                 (&#x27;num&#x27;, MinMaxScaler(),\n",
       "                                                  [&#x27;RegistrationYear&#x27;,\n",
       "                                                   &#x27;Kilometer&#x27;, &#x27;Power&#x27;]),\n",
       "                                                 (&#x27;cat&#x27;,\n",
       "                                                  Pipeline(steps=[(&#x27;engineer&#x27;,\n",
       "                                                                   FunctionTransformer(func=functools.p...\n",
       "                                                                                                    OneHotEncoder(drop=&#x27;first&#x27;,\n",
       "                                                                                                                  handle_unknown=&#x27;ignore&#x27;),\n",
       "                                                                                                    [&#x27;VehicleType&#x27;,\n",
       "                                                                                                     &#x27;Gearbox&#x27;,\n",
       "                                                                                                     &#x27;FuelType&#x27;]),\n",
       "                                                                                                   (&#x27;ord&#x27;,\n",
       "                                                                                                    OrdinalEncoder(handle_unknown=&#x27;use_encoded_value&#x27;,\n",
       "                                                                                                                   unknown_value=nan),\n",
       "                                                                                                    [&#x27;Model&#x27;,\n",
       "                                                                                                     &#x27;Brand&#x27;])])),\n",
       "                                                                  (&#x27;imputer&#x27;,\n",
       "                                                                   SimpleImputer(strategy=&#x27;most_frequent&#x27;))]),\n",
       "                                                  [&#x27;VehicleType&#x27;, &#x27;Gearbox&#x27;,\n",
       "                                                   &#x27;FuelType&#x27;, &#x27;Model&#x27;,\n",
       "                                                   &#x27;Brand&#x27;])])),\n",
       "                (&#x27;model&#x27;,\n",
       "                 &lt;catboost.core.CatBoostRegressor object at 0x7fc204ec0310&gt;)])</pre><b>In a Jupyter environment, please rerun this cell to show the HTML representation or trust the notebook. <br />On GitHub, the HTML representation is unable to render, please try loading this page with nbviewer.org.</b></div><div class=\"sk-container\" hidden><div class=\"sk-item sk-dashed-wrapped\"><div class=\"sk-label-container\"><div class=\"sk-label sk-toggleable\"><input class=\"sk-toggleable__control sk-hidden--visually\" id=\"sk-estimator-id-18\" type=\"checkbox\" ><label for=\"sk-estimator-id-18\" class=\"sk-toggleable__label sk-toggleable__label-arrow\">Pipeline</label><div class=\"sk-toggleable__content\"><pre>Pipeline(steps=[(&#x27;preprocessor&#x27;,\n",
       "                 ColumnTransformer(transformers=[(&#x27;rep&#x27;,\n",
       "                                                  Pipeline(steps=[(&#x27;imputer&#x27;,\n",
       "                                                                   SimpleImputer(strategy=&#x27;most_frequent&#x27;)),\n",
       "                                                                  (&#x27;ohe&#x27;,\n",
       "                                                                   OneHotEncoder(drop=&#x27;first&#x27;,\n",
       "                                                                                 handle_unknown=&#x27;ignore&#x27;))]),\n",
       "                                                  [&#x27;Repaired&#x27;]),\n",
       "                                                 (&#x27;num&#x27;, MinMaxScaler(),\n",
       "                                                  [&#x27;RegistrationYear&#x27;,\n",
       "                                                   &#x27;Kilometer&#x27;, &#x27;Power&#x27;]),\n",
       "                                                 (&#x27;cat&#x27;,\n",
       "                                                  Pipeline(steps=[(&#x27;engineer&#x27;,\n",
       "                                                                   FunctionTransformer(func=functools.p...\n",
       "                                                                                                    OneHotEncoder(drop=&#x27;first&#x27;,\n",
       "                                                                                                                  handle_unknown=&#x27;ignore&#x27;),\n",
       "                                                                                                    [&#x27;VehicleType&#x27;,\n",
       "                                                                                                     &#x27;Gearbox&#x27;,\n",
       "                                                                                                     &#x27;FuelType&#x27;]),\n",
       "                                                                                                   (&#x27;ord&#x27;,\n",
       "                                                                                                    OrdinalEncoder(handle_unknown=&#x27;use_encoded_value&#x27;,\n",
       "                                                                                                                   unknown_value=nan),\n",
       "                                                                                                    [&#x27;Model&#x27;,\n",
       "                                                                                                     &#x27;Brand&#x27;])])),\n",
       "                                                                  (&#x27;imputer&#x27;,\n",
       "                                                                   SimpleImputer(strategy=&#x27;most_frequent&#x27;))]),\n",
       "                                                  [&#x27;VehicleType&#x27;, &#x27;Gearbox&#x27;,\n",
       "                                                   &#x27;FuelType&#x27;, &#x27;Model&#x27;,\n",
       "                                                   &#x27;Brand&#x27;])])),\n",
       "                (&#x27;model&#x27;,\n",
       "                 &lt;catboost.core.CatBoostRegressor object at 0x7fc204ec0310&gt;)])</pre></div></div></div><div class=\"sk-serial\"><div class=\"sk-item sk-dashed-wrapped\"><div class=\"sk-label-container\"><div class=\"sk-label sk-toggleable\"><input class=\"sk-toggleable__control sk-hidden--visually\" id=\"sk-estimator-id-19\" type=\"checkbox\" ><label for=\"sk-estimator-id-19\" class=\"sk-toggleable__label sk-toggleable__label-arrow\">preprocessor: ColumnTransformer</label><div class=\"sk-toggleable__content\"><pre>ColumnTransformer(transformers=[(&#x27;rep&#x27;,\n",
       "                                 Pipeline(steps=[(&#x27;imputer&#x27;,\n",
       "                                                  SimpleImputer(strategy=&#x27;most_frequent&#x27;)),\n",
       "                                                 (&#x27;ohe&#x27;,\n",
       "                                                  OneHotEncoder(drop=&#x27;first&#x27;,\n",
       "                                                                handle_unknown=&#x27;ignore&#x27;))]),\n",
       "                                 [&#x27;Repaired&#x27;]),\n",
       "                                (&#x27;num&#x27;, MinMaxScaler(),\n",
       "                                 [&#x27;RegistrationYear&#x27;, &#x27;Kilometer&#x27;, &#x27;Power&#x27;]),\n",
       "                                (&#x27;cat&#x27;,\n",
       "                                 Pipeline(steps=[(&#x27;engineer&#x27;,\n",
       "                                                  FunctionTransformer(func=functools.partial(&lt;function engineer_feature...)),\n",
       "                                                 (&#x27;encoder&#x27;,\n",
       "                                                  ColumnTransformer(transformers=[(&#x27;ohe&#x27;,\n",
       "                                                                                   OneHotEncoder(drop=&#x27;first&#x27;,\n",
       "                                                                                                 handle_unknown=&#x27;ignore&#x27;),\n",
       "                                                                                   [&#x27;VehicleType&#x27;,\n",
       "                                                                                    &#x27;Gearbox&#x27;,\n",
       "                                                                                    &#x27;FuelType&#x27;]),\n",
       "                                                                                  (&#x27;ord&#x27;,\n",
       "                                                                                   OrdinalEncoder(handle_unknown=&#x27;use_encoded_value&#x27;,\n",
       "                                                                                                  unknown_value=nan),\n",
       "                                                                                   [&#x27;Model&#x27;,\n",
       "                                                                                    &#x27;Brand&#x27;])])),\n",
       "                                                 (&#x27;imputer&#x27;,\n",
       "                                                  SimpleImputer(strategy=&#x27;most_frequent&#x27;))]),\n",
       "                                 [&#x27;VehicleType&#x27;, &#x27;Gearbox&#x27;, &#x27;FuelType&#x27;, &#x27;Model&#x27;,\n",
       "                                  &#x27;Brand&#x27;])])</pre></div></div></div><div class=\"sk-parallel\"><div class=\"sk-parallel-item\"><div class=\"sk-item\"><div class=\"sk-label-container\"><div class=\"sk-label sk-toggleable\"><input class=\"sk-toggleable__control sk-hidden--visually\" id=\"sk-estimator-id-20\" type=\"checkbox\" ><label for=\"sk-estimator-id-20\" class=\"sk-toggleable__label sk-toggleable__label-arrow\">rep</label><div class=\"sk-toggleable__content\"><pre>[&#x27;Repaired&#x27;]</pre></div></div></div><div class=\"sk-serial\"><div class=\"sk-item\"><div class=\"sk-serial\"><div class=\"sk-item\"><div class=\"sk-estimator sk-toggleable\"><input class=\"sk-toggleable__control sk-hidden--visually\" id=\"sk-estimator-id-21\" type=\"checkbox\" ><label for=\"sk-estimator-id-21\" class=\"sk-toggleable__label sk-toggleable__label-arrow\">SimpleImputer</label><div class=\"sk-toggleable__content\"><pre>SimpleImputer(strategy=&#x27;most_frequent&#x27;)</pre></div></div></div><div class=\"sk-item\"><div class=\"sk-estimator sk-toggleable\"><input class=\"sk-toggleable__control sk-hidden--visually\" id=\"sk-estimator-id-22\" type=\"checkbox\" ><label for=\"sk-estimator-id-22\" class=\"sk-toggleable__label sk-toggleable__label-arrow\">OneHotEncoder</label><div class=\"sk-toggleable__content\"><pre>OneHotEncoder(drop=&#x27;first&#x27;, handle_unknown=&#x27;ignore&#x27;)</pre></div></div></div></div></div></div></div></div><div class=\"sk-parallel-item\"><div class=\"sk-item\"><div class=\"sk-label-container\"><div class=\"sk-label sk-toggleable\"><input class=\"sk-toggleable__control sk-hidden--visually\" id=\"sk-estimator-id-23\" type=\"checkbox\" ><label for=\"sk-estimator-id-23\" class=\"sk-toggleable__label sk-toggleable__label-arrow\">num</label><div class=\"sk-toggleable__content\"><pre>[&#x27;RegistrationYear&#x27;, &#x27;Kilometer&#x27;, &#x27;Power&#x27;]</pre></div></div></div><div class=\"sk-serial\"><div class=\"sk-item\"><div class=\"sk-estimator sk-toggleable\"><input class=\"sk-toggleable__control sk-hidden--visually\" id=\"sk-estimator-id-24\" type=\"checkbox\" ><label for=\"sk-estimator-id-24\" class=\"sk-toggleable__label sk-toggleable__label-arrow\">MinMaxScaler</label><div class=\"sk-toggleable__content\"><pre>MinMaxScaler()</pre></div></div></div></div></div></div><div class=\"sk-parallel-item\"><div class=\"sk-item\"><div class=\"sk-label-container\"><div class=\"sk-label sk-toggleable\"><input class=\"sk-toggleable__control sk-hidden--visually\" id=\"sk-estimator-id-25\" type=\"checkbox\" ><label for=\"sk-estimator-id-25\" class=\"sk-toggleable__label sk-toggleable__label-arrow\">cat</label><div class=\"sk-toggleable__content\"><pre>[&#x27;VehicleType&#x27;, &#x27;Gearbox&#x27;, &#x27;FuelType&#x27;, &#x27;Model&#x27;, &#x27;Brand&#x27;]</pre></div></div></div><div class=\"sk-serial\"><div class=\"sk-item\"><div class=\"sk-serial\"><div class=\"sk-item\"><div class=\"sk-estimator sk-toggleable\"><input class=\"sk-toggleable__control sk-hidden--visually\" id=\"sk-estimator-id-26\" type=\"checkbox\" ><label for=\"sk-estimator-id-26\" class=\"sk-toggleable__label sk-toggleable__label-arrow\">FunctionTransformer</label><div class=\"sk-toggleable__content\"><pre>FunctionTransformer(func=functools.partial(&lt;function engineer_feature at 0x7fc204eb6a60&gt;, [&#x27;VehicleType&#x27;, &#x27;Gearbox&#x27;, &#x27;FuelType&#x27;, &#x27;Model&#x27;, &#x27;Brand&#x27;]))</pre></div></div></div><div class=\"sk-item sk-dashed-wrapped\"><div class=\"sk-label-container\"><div class=\"sk-label sk-toggleable\"><input class=\"sk-toggleable__control sk-hidden--visually\" id=\"sk-estimator-id-27\" type=\"checkbox\" ><label for=\"sk-estimator-id-27\" class=\"sk-toggleable__label sk-toggleable__label-arrow\">encoder: ColumnTransformer</label><div class=\"sk-toggleable__content\"><pre>ColumnTransformer(transformers=[(&#x27;ohe&#x27;,\n",
       "                                 OneHotEncoder(drop=&#x27;first&#x27;,\n",
       "                                               handle_unknown=&#x27;ignore&#x27;),\n",
       "                                 [&#x27;VehicleType&#x27;, &#x27;Gearbox&#x27;, &#x27;FuelType&#x27;]),\n",
       "                                (&#x27;ord&#x27;,\n",
       "                                 OrdinalEncoder(handle_unknown=&#x27;use_encoded_value&#x27;,\n",
       "                                                unknown_value=nan),\n",
       "                                 [&#x27;Model&#x27;, &#x27;Brand&#x27;])])</pre></div></div></div><div class=\"sk-parallel\"><div class=\"sk-parallel-item\"><div class=\"sk-item\"><div class=\"sk-label-container\"><div class=\"sk-label sk-toggleable\"><input class=\"sk-toggleable__control sk-hidden--visually\" id=\"sk-estimator-id-28\" type=\"checkbox\" ><label for=\"sk-estimator-id-28\" class=\"sk-toggleable__label sk-toggleable__label-arrow\">ohe</label><div class=\"sk-toggleable__content\"><pre>[&#x27;VehicleType&#x27;, &#x27;Gearbox&#x27;, &#x27;FuelType&#x27;]</pre></div></div></div><div class=\"sk-serial\"><div class=\"sk-item\"><div class=\"sk-estimator sk-toggleable\"><input class=\"sk-toggleable__control sk-hidden--visually\" id=\"sk-estimator-id-29\" type=\"checkbox\" ><label for=\"sk-estimator-id-29\" class=\"sk-toggleable__label sk-toggleable__label-arrow\">OneHotEncoder</label><div class=\"sk-toggleable__content\"><pre>OneHotEncoder(drop=&#x27;first&#x27;, handle_unknown=&#x27;ignore&#x27;)</pre></div></div></div></div></div></div><div class=\"sk-parallel-item\"><div class=\"sk-item\"><div class=\"sk-label-container\"><div class=\"sk-label sk-toggleable\"><input class=\"sk-toggleable__control sk-hidden--visually\" id=\"sk-estimator-id-30\" type=\"checkbox\" ><label for=\"sk-estimator-id-30\" class=\"sk-toggleable__label sk-toggleable__label-arrow\">ord</label><div class=\"sk-toggleable__content\"><pre>[&#x27;Model&#x27;, &#x27;Brand&#x27;]</pre></div></div></div><div class=\"sk-serial\"><div class=\"sk-item\"><div class=\"sk-estimator sk-toggleable\"><input class=\"sk-toggleable__control sk-hidden--visually\" id=\"sk-estimator-id-31\" type=\"checkbox\" ><label for=\"sk-estimator-id-31\" class=\"sk-toggleable__label sk-toggleable__label-arrow\">OrdinalEncoder</label><div class=\"sk-toggleable__content\"><pre>OrdinalEncoder(handle_unknown=&#x27;use_encoded_value&#x27;, unknown_value=nan)</pre></div></div></div></div></div></div></div></div><div class=\"sk-item\"><div class=\"sk-estimator sk-toggleable\"><input class=\"sk-toggleable__control sk-hidden--visually\" id=\"sk-estimator-id-32\" type=\"checkbox\" ><label for=\"sk-estimator-id-32\" class=\"sk-toggleable__label sk-toggleable__label-arrow\">SimpleImputer</label><div class=\"sk-toggleable__content\"><pre>SimpleImputer(strategy=&#x27;most_frequent&#x27;)</pre></div></div></div></div></div></div></div></div></div></div><div class=\"sk-item\"><div class=\"sk-estimator sk-toggleable\"><input class=\"sk-toggleable__control sk-hidden--visually\" id=\"sk-estimator-id-33\" type=\"checkbox\" ><label for=\"sk-estimator-id-33\" class=\"sk-toggleable__label sk-toggleable__label-arrow\">CatBoostRegressor</label><div class=\"sk-toggleable__content\"><pre>&lt;catboost.core.CatBoostRegressor object at 0x7fc204ec0310&gt;</pre></div></div></div></div></div></div></div>"
      ],
      "text/plain": [
       "Pipeline(steps=[('preprocessor',\n",
       "                 ColumnTransformer(transformers=[('rep',\n",
       "                                                  Pipeline(steps=[('imputer',\n",
       "                                                                   SimpleImputer(strategy='most_frequent')),\n",
       "                                                                  ('ohe',\n",
       "                                                                   OneHotEncoder(drop='first',\n",
       "                                                                                 handle_unknown='ignore'))]),\n",
       "                                                  ['Repaired']),\n",
       "                                                 ('num', MinMaxScaler(),\n",
       "                                                  ['RegistrationYear',\n",
       "                                                   'Kilometer', 'Power']),\n",
       "                                                 ('cat',\n",
       "                                                  Pipeline(steps=[('engineer',\n",
       "                                                                   FunctionTransformer(func=functools.p...\n",
       "                                                                                                    OneHotEncoder(drop='first',\n",
       "                                                                                                                  handle_unknown='ignore'),\n",
       "                                                                                                    ['VehicleType',\n",
       "                                                                                                     'Gearbox',\n",
       "                                                                                                     'FuelType']),\n",
       "                                                                                                   ('ord',\n",
       "                                                                                                    OrdinalEncoder(handle_unknown='use_encoded_value',\n",
       "                                                                                                                   unknown_value=nan),\n",
       "                                                                                                    ['Model',\n",
       "                                                                                                     'Brand'])])),\n",
       "                                                                  ('imputer',\n",
       "                                                                   SimpleImputer(strategy='most_frequent'))]),\n",
       "                                                  ['VehicleType', 'Gearbox',\n",
       "                                                   'FuelType', 'Model',\n",
       "                                                   'Brand'])])),\n",
       "                ('model',\n",
       "                 <catboost.core.CatBoostRegressor object at 0x7fc204ec0310>)])"
      ]
     },
     "execution_count": 49,
     "metadata": {},
     "output_type": "execute_result"
    }
   ],
   "source": [
    "pipe_final.fit(X_train, y_train)"
   ]
  },
  {
   "cell_type": "code",
   "execution_count": 50,
   "metadata": {},
   "outputs": [],
   "source": [
    "predictions = pipe_final.predict(X_test)"
   ]
  },
  {
   "cell_type": "code",
   "execution_count": 51,
   "metadata": {},
   "outputs": [
    {
     "data": {
      "text/plain": [
       "1560.5526792144592"
      ]
     },
     "execution_count": 51,
     "metadata": {},
     "output_type": "execute_result"
    }
   ],
   "source": [
    "mean_squared_error(y_test, predictions, squared=False)"
   ]
  },
  {
   "cell_type": "markdown",
   "metadata": {},
   "source": [
    "Оценка RMSE выбранной модели на тестовой выборке 1560."
   ]
  },
  {
   "cell_type": "code",
   "execution_count": 52,
   "metadata": {},
   "outputs": [],
   "source": [
    "dummy_regr = DummyRegressor(strategy=\"mean\")\n",
    "dummy_regr.fit(X_train, y_train)\n",
    "dummy_pred = dummy_regr.predict(X_test)"
   ]
  },
  {
   "cell_type": "code",
   "execution_count": 53,
   "metadata": {},
   "outputs": [
    {
     "data": {
      "text/plain": [
       "4647.897201614091"
      ]
     },
     "execution_count": 53,
     "metadata": {},
     "output_type": "execute_result"
    }
   ],
   "source": [
    "mean_squared_error(y_test, dummy_pred, squared=False)"
   ]
  },
  {
   "cell_type": "markdown",
   "metadata": {},
   "source": [
    "Результат работы выбранной модели заметно лучше, чем при использовании константной."
   ]
  },
  {
   "cell_type": "markdown",
   "metadata": {},
   "source": [
    "## Выводы"
   ]
  },
  {
   "cell_type": "markdown",
   "metadata": {},
   "source": [
    "Данные были загружены в датафрейм pandas и обработаны аномалии в столбцах:\n",
    "- удалены строки с нулевым значением целевой переменной Price;\n",
    "- устранен разброс значений признака RegistrationYear путем удаления 1% минимальных значений (записи до 1980 г) и установкой вехней границы, равной году в DateCreated;\n",
    "- удалены столбцы NumberOfPictures и PostalCode;\n",
    "- удалены строки с пропусками в поле Model.\n",
    "\n",
    "Максимальную корреляцию с целевой переменной имеют признаки: RegistrationYear, Power и Model. Низкая корреляция с признаком RegistrationMonth. Также видна сильная зависимость между признаками Model и Brand.\n",
    "\n",
    "Из датафрейма удалены признаки, имеющие с низкую корреляцию с целевой переменной.\n",
    "\n",
    "Выполнена подготовка данных к обучению:\n",
    "- пропуски в VehicleType, Gearbox и FuelType заполнены самым частым значением для соответствующей модели. Пропуски в Repaired - самым частым значением в датафрейме;\n",
    "- количественные переменные масштабированы с помощью MinMaxScaler();\n",
    "- model закодирован с помощью OrdinalEncoder(), так как данный признак имеет 248 вариаций;\n",
    "- VehicleType, Gearbox и FuelType закодирован при помощи OneHotEncoder().\n",
    "\n",
    "В качестве моделей для обучения выбраны: DecisionTreeRegressor(), LinearRegression(), CatBoostRegressor() и LGBMRegressor().\n",
    "\n",
    "Самыми быстрыми по скорости обучения и скорости предсказания оказались модели DecisionTreeRegressor. Самыми точными - модели градиентного бустинга. \n",
    "\n",
    "Для заказчика важны все 3 параметра. Так как идет разработка приложения, которой поможет пользователям определять рыночную стоимость своего автомобиля, то с точки зрения пользователей достоинствами являются: время предсказания и точность.\n",
    "\n",
    "Оптимальной моделью будет являться CatBoostRegressor(learning_rate=0.15, iterations=1000), rank_test_score = 4. Оценка RMSE на кросс-валидации 1568, что не сильно больше минимальной (1549), время предсказания менее 1 секунды. Модель требует довольно большого времени для обучения, однако оно является средним среди моделей градиентного бустинга (которые являются наиболее точными). А также стоит учитывать, что модель требуется обучать заметно реже, чем выполнять предсказания с ее помощью.\n",
    "\n",
    "Оценка RMSE выбранной модели на тестовой выборке 1550, что намного точнее, чем оценка константной модели 4608."
   ]
  }
 ],
 "metadata": {
  "ExecuteTimeLog": [
   {
    "duration": 49,
    "start_time": "2024-03-04T16:57:05.439Z"
   },
   {
    "duration": 393,
    "start_time": "2024-03-04T16:57:08.926Z"
   },
   {
    "duration": 2927,
    "start_time": "2024-03-04T16:57:09.638Z"
   },
   {
    "duration": 160,
    "start_time": "2024-03-04T16:57:25.509Z"
   },
   {
    "duration": 28,
    "start_time": "2024-03-04T16:59:02.578Z"
   },
   {
    "duration": 976,
    "start_time": "2024-03-04T16:59:21.525Z"
   },
   {
    "duration": 151,
    "start_time": "2024-03-04T16:59:27.619Z"
   },
   {
    "duration": 1024,
    "start_time": "2024-03-04T17:00:53.224Z"
   },
   {
    "duration": 170,
    "start_time": "2024-03-04T17:00:57.944Z"
   },
   {
    "duration": 995,
    "start_time": "2024-03-04T17:02:18.931Z"
   },
   {
    "duration": 134,
    "start_time": "2024-03-04T17:02:24.216Z"
   },
   {
    "duration": 966,
    "start_time": "2024-03-04T17:04:01.164Z"
   },
   {
    "duration": 1183,
    "start_time": "2024-03-04T17:04:11.629Z"
   },
   {
    "duration": 136,
    "start_time": "2024-03-04T17:04:15.677Z"
   },
   {
    "duration": 1141,
    "start_time": "2024-03-04T17:04:24.304Z"
   },
   {
    "duration": 107,
    "start_time": "2024-03-04T17:04:28.392Z"
   },
   {
    "duration": 6,
    "start_time": "2024-03-04T17:05:44.159Z"
   },
   {
    "duration": 8,
    "start_time": "2024-03-04T17:07:15.886Z"
   },
   {
    "duration": 138,
    "start_time": "2024-03-04T17:07:35.221Z"
   },
   {
    "duration": 467,
    "start_time": "2024-03-04T17:08:52.022Z"
   },
   {
    "duration": 1172,
    "start_time": "2024-03-04T17:08:52.830Z"
   },
   {
    "duration": 117,
    "start_time": "2024-03-04T17:08:54.004Z"
   },
   {
    "duration": 37,
    "start_time": "2024-03-04T17:08:55.031Z"
   },
   {
    "duration": 418,
    "start_time": "2024-03-04T17:08:56.271Z"
   },
   {
    "duration": 52,
    "start_time": "2024-03-04T17:10:03.755Z"
   },
   {
    "duration": 39,
    "start_time": "2024-03-04T17:11:32.142Z"
   },
   {
    "duration": 39,
    "start_time": "2024-03-04T17:12:01.471Z"
   },
   {
    "duration": 827,
    "start_time": "2024-03-04T17:15:03.325Z"
   },
   {
    "duration": 4047,
    "start_time": "2024-03-04T17:15:38.851Z"
   },
   {
    "duration": 171710,
    "start_time": "2024-03-04T17:18:11.494Z"
   },
   {
    "duration": 10,
    "start_time": "2024-03-04T17:21:32.728Z"
   },
   {
    "duration": 3,
    "start_time": "2024-03-04T17:21:36.456Z"
   },
   {
    "duration": 898,
    "start_time": "2024-03-04T17:21:36.971Z"
   },
   {
    "duration": 3,
    "start_time": "2024-03-04T17:21:55.431Z"
   },
   {
    "duration": 4113,
    "start_time": "2024-03-04T17:23:41.554Z"
   },
   {
    "duration": 3165,
    "start_time": "2024-03-04T17:23:45.669Z"
   },
   {
    "duration": 115,
    "start_time": "2024-03-04T17:23:48.836Z"
   },
   {
    "duration": 52,
    "start_time": "2024-03-04T17:23:48.953Z"
   },
   {
    "duration": 225,
    "start_time": "2024-03-04T17:23:49.006Z"
   },
   {
    "duration": 47,
    "start_time": "2024-03-04T17:23:49.233Z"
   },
   {
    "duration": 39,
    "start_time": "2024-03-04T17:23:49.282Z"
   },
   {
    "duration": 15,
    "start_time": "2024-03-04T17:23:49.323Z"
   },
   {
    "duration": 129,
    "start_time": "2024-03-04T17:23:49.340Z"
   },
   {
    "duration": 0,
    "start_time": "2024-03-04T17:23:49.471Z"
   },
   {
    "duration": 32,
    "start_time": "2024-03-04T17:24:08.842Z"
   },
   {
    "duration": 127381,
    "start_time": "2024-03-04T17:24:09.624Z"
   },
   {
    "duration": 307,
    "start_time": "2024-03-04T17:31:19.023Z"
   },
   {
    "duration": 315,
    "start_time": "2024-03-04T17:31:47.492Z"
   },
   {
    "duration": 39,
    "start_time": "2024-03-04T17:33:23.373Z"
   },
   {
    "duration": 1672,
    "start_time": "2024-03-04T17:33:54.382Z"
   },
   {
    "duration": 40,
    "start_time": "2024-03-04T17:34:06.625Z"
   },
   {
    "duration": 40,
    "start_time": "2024-03-04T17:35:08.283Z"
   },
   {
    "duration": 4098,
    "start_time": "2024-03-04T17:37:50.169Z"
   },
   {
    "duration": 1184,
    "start_time": "2024-03-04T17:37:54.269Z"
   },
   {
    "duration": 112,
    "start_time": "2024-03-04T17:37:55.455Z"
   },
   {
    "duration": 345,
    "start_time": "2024-03-04T17:37:55.569Z"
   },
   {
    "duration": 374,
    "start_time": "2024-03-04T17:37:55.915Z"
   },
   {
    "duration": 39,
    "start_time": "2024-03-04T17:37:56.291Z"
   },
   {
    "duration": 243,
    "start_time": "2024-03-04T17:37:56.332Z"
   },
   {
    "duration": 47,
    "start_time": "2024-03-04T17:37:56.576Z"
   },
   {
    "duration": 56,
    "start_time": "2024-03-04T17:37:56.625Z"
   },
   {
    "duration": 39,
    "start_time": "2024-03-04T17:37:56.683Z"
   },
   {
    "duration": 50,
    "start_time": "2024-03-04T17:37:56.723Z"
   },
   {
    "duration": 12,
    "start_time": "2024-03-04T17:37:56.774Z"
   },
   {
    "duration": 100,
    "start_time": "2024-03-04T17:37:56.788Z"
   },
   {
    "duration": 0,
    "start_time": "2024-03-04T17:37:56.889Z"
   },
   {
    "duration": 1793,
    "start_time": "2024-03-04T17:38:09.234Z"
   },
   {
    "duration": 6,
    "start_time": "2024-03-04T17:38:23.936Z"
   },
   {
    "duration": 5848,
    "start_time": "2024-03-04T17:38:27.909Z"
   },
   {
    "duration": 3182,
    "start_time": "2024-03-04T17:38:54.158Z"
   },
   {
    "duration": 10,
    "start_time": "2024-03-04T17:39:44.183Z"
   },
   {
    "duration": 3224,
    "start_time": "2024-03-04T17:39:47.461Z"
   },
   {
    "duration": 15,
    "start_time": "2024-03-04T17:41:08.288Z"
   },
   {
    "duration": 2980,
    "start_time": "2024-03-04T17:41:09.025Z"
   },
   {
    "duration": 181,
    "start_time": "2024-03-04T18:05:43.416Z"
   },
   {
    "duration": 287,
    "start_time": "2024-03-04T18:06:14.104Z"
   },
   {
    "duration": 5,
    "start_time": "2024-03-04T18:06:56.438Z"
   },
   {
    "duration": 267,
    "start_time": "2024-03-04T18:08:19.788Z"
   },
   {
    "duration": 19,
    "start_time": "2024-03-04T18:17:24.586Z"
   },
   {
    "duration": 59,
    "start_time": "2024-03-04T18:17:30.746Z"
   },
   {
    "duration": 44,
    "start_time": "2024-03-04T18:18:18.219Z"
   },
   {
    "duration": 712,
    "start_time": "2024-03-04T18:20:03.236Z"
   },
   {
    "duration": 349,
    "start_time": "2024-03-04T18:20:48.216Z"
   },
   {
    "duration": 82,
    "start_time": "2024-03-04T18:21:10.641Z"
   },
   {
    "duration": 39,
    "start_time": "2024-03-04T18:22:30.306Z"
   },
   {
    "duration": 77,
    "start_time": "2024-03-04T18:22:39.601Z"
   },
   {
    "duration": 322,
    "start_time": "2024-03-04T18:22:47.697Z"
   },
   {
    "duration": 29,
    "start_time": "2024-03-04T18:24:12.690Z"
   },
   {
    "duration": 109,
    "start_time": "2024-03-04T18:25:15.263Z"
   },
   {
    "duration": 338,
    "start_time": "2024-03-04T18:26:34.708Z"
   },
   {
    "duration": 120,
    "start_time": "2024-03-04T18:26:37.871Z"
   },
   {
    "duration": 5162,
    "start_time": "2024-03-06T16:36:46.471Z"
   },
   {
    "duration": 3154,
    "start_time": "2024-03-06T16:36:51.635Z"
   },
   {
    "duration": 114,
    "start_time": "2024-03-06T16:36:54.790Z"
   },
   {
    "duration": 311,
    "start_time": "2024-03-06T16:36:54.906Z"
   },
   {
    "duration": 365,
    "start_time": "2024-03-06T16:36:55.219Z"
   },
   {
    "duration": 43,
    "start_time": "2024-03-06T16:36:55.585Z"
   },
   {
    "duration": 215,
    "start_time": "2024-03-06T16:36:55.629Z"
   },
   {
    "duration": 50,
    "start_time": "2024-03-06T16:36:55.846Z"
   },
   {
    "duration": 38,
    "start_time": "2024-03-06T16:36:55.898Z"
   },
   {
    "duration": 48,
    "start_time": "2024-03-06T16:36:55.938Z"
   },
   {
    "duration": 45,
    "start_time": "2024-03-06T16:36:55.988Z"
   },
   {
    "duration": 12,
    "start_time": "2024-03-06T16:36:56.035Z"
   },
   {
    "duration": 42,
    "start_time": "2024-03-06T16:36:56.048Z"
   },
   {
    "duration": 353,
    "start_time": "2024-03-06T16:36:56.091Z"
   },
   {
    "duration": 105,
    "start_time": "2024-03-06T16:36:56.445Z"
   },
   {
    "duration": 134,
    "start_time": "2024-03-06T16:36:56.551Z"
   },
   {
    "duration": 0,
    "start_time": "2024-03-06T16:36:56.686Z"
   },
   {
    "duration": 0,
    "start_time": "2024-03-06T16:36:56.688Z"
   },
   {
    "duration": 0,
    "start_time": "2024-03-06T16:36:56.688Z"
   },
   {
    "duration": 0,
    "start_time": "2024-03-06T16:36:56.690Z"
   },
   {
    "duration": 11,
    "start_time": "2024-03-06T16:37:15.887Z"
   },
   {
    "duration": 9,
    "start_time": "2024-03-06T16:38:07.177Z"
   },
   {
    "duration": 13,
    "start_time": "2024-03-06T16:38:40.954Z"
   },
   {
    "duration": 1213,
    "start_time": "2024-03-06T16:39:15.908Z"
   },
   {
    "duration": 9,
    "start_time": "2024-03-06T16:39:25.177Z"
   },
   {
    "duration": 2707,
    "start_time": "2024-03-06T16:39:32.297Z"
   },
   {
    "duration": 117,
    "start_time": "2024-03-06T16:40:11.630Z"
   },
   {
    "duration": 107,
    "start_time": "2024-03-06T16:40:18.094Z"
   },
   {
    "duration": 277,
    "start_time": "2024-03-06T16:41:29.728Z"
   },
   {
    "duration": 268,
    "start_time": "2024-03-06T16:41:40.981Z"
   },
   {
    "duration": 54,
    "start_time": "2024-03-06T16:42:59.595Z"
   },
   {
    "duration": 11,
    "start_time": "2024-03-06T16:46:40.359Z"
   },
   {
    "duration": 27,
    "start_time": "2024-03-06T16:47:59.738Z"
   },
   {
    "duration": 49,
    "start_time": "2024-03-06T16:48:07.070Z"
   },
   {
    "duration": 11824,
    "start_time": "2024-03-06T16:50:41.621Z"
   },
   {
    "duration": 16,
    "start_time": "2024-03-06T16:51:20.582Z"
   },
   {
    "duration": 5288,
    "start_time": "2024-03-06T16:51:23.659Z"
   },
   {
    "duration": 16,
    "start_time": "2024-03-06T16:53:16.681Z"
   },
   {
    "duration": 24897,
    "start_time": "2024-03-06T16:53:30.143Z"
   },
   {
    "duration": 16,
    "start_time": "2024-03-06T16:54:32.046Z"
   },
   {
    "duration": 18391,
    "start_time": "2024-03-06T16:54:36.974Z"
   },
   {
    "duration": 108,
    "start_time": "2024-03-06T16:56:12.931Z"
   },
   {
    "duration": 105,
    "start_time": "2024-03-06T16:56:16.823Z"
   },
   {
    "duration": 126,
    "start_time": "2024-03-06T16:56:56.059Z"
   },
   {
    "duration": 145,
    "start_time": "2024-03-06T16:57:00.263Z"
   },
   {
    "duration": 293311,
    "start_time": "2024-03-06T16:57:54.671Z"
   },
   {
    "duration": 0,
    "start_time": "2024-03-06T17:02:47.984Z"
   },
   {
    "duration": 9,
    "start_time": "2024-03-06T17:03:46.184Z"
   },
   {
    "duration": 33,
    "start_time": "2024-03-06T17:04:46.913Z"
   },
   {
    "duration": 3942,
    "start_time": "2024-03-06T17:07:59.830Z"
   },
   {
    "duration": 3204,
    "start_time": "2024-03-06T17:08:03.774Z"
   },
   {
    "duration": 115,
    "start_time": "2024-03-06T17:08:06.980Z"
   },
   {
    "duration": 117,
    "start_time": "2024-03-06T17:08:07.097Z"
   },
   {
    "duration": 155,
    "start_time": "2024-03-06T17:08:07.215Z"
   },
   {
    "duration": 137,
    "start_time": "2024-03-06T17:08:07.372Z"
   },
   {
    "duration": 49,
    "start_time": "2024-03-06T17:08:07.511Z"
   },
   {
    "duration": 351,
    "start_time": "2024-03-06T17:08:07.570Z"
   },
   {
    "duration": 8,
    "start_time": "2024-03-06T17:08:07.923Z"
   },
   {
    "duration": 376,
    "start_time": "2024-03-06T17:08:07.935Z"
   },
   {
    "duration": 38,
    "start_time": "2024-03-06T17:08:08.313Z"
   },
   {
    "duration": 219,
    "start_time": "2024-03-06T17:08:08.359Z"
   },
   {
    "duration": 47,
    "start_time": "2024-03-06T17:08:08.580Z"
   },
   {
    "duration": 51,
    "start_time": "2024-03-06T17:08:08.629Z"
   },
   {
    "duration": 53,
    "start_time": "2024-03-06T17:08:08.682Z"
   },
   {
    "duration": 45,
    "start_time": "2024-03-06T17:08:08.737Z"
   },
   {
    "duration": 18,
    "start_time": "2024-03-06T17:08:08.784Z"
   },
   {
    "duration": 56,
    "start_time": "2024-03-06T17:08:08.803Z"
   },
   {
    "duration": 329,
    "start_time": "2024-03-06T17:08:08.861Z"
   },
   {
    "duration": 133,
    "start_time": "2024-03-06T17:08:09.192Z"
   },
   {
    "duration": 121,
    "start_time": "2024-03-06T17:08:09.326Z"
   },
   {
    "duration": 0,
    "start_time": "2024-03-06T17:08:09.448Z"
   },
   {
    "duration": 0,
    "start_time": "2024-03-06T17:08:09.450Z"
   },
   {
    "duration": 0,
    "start_time": "2024-03-06T17:08:09.451Z"
   },
   {
    "duration": 0,
    "start_time": "2024-03-06T17:08:09.452Z"
   },
   {
    "duration": 0,
    "start_time": "2024-03-06T17:08:09.453Z"
   },
   {
    "duration": 24,
    "start_time": "2024-03-06T17:08:14.629Z"
   },
   {
    "duration": 52830,
    "start_time": "2024-03-06T17:08:18.578Z"
   },
   {
    "duration": 8,
    "start_time": "2024-03-06T17:09:11.410Z"
   },
   {
    "duration": 160,
    "start_time": "2024-03-06T17:10:07.562Z"
   },
   {
    "duration": 28,
    "start_time": "2024-03-06T17:11:09.432Z"
   },
   {
    "duration": 36,
    "start_time": "2024-03-06T17:11:37.591Z"
   },
   {
    "duration": 163,
    "start_time": "2024-03-06T17:11:47.457Z"
   },
   {
    "duration": 42,
    "start_time": "2024-03-06T17:12:48.184Z"
   },
   {
    "duration": 166,
    "start_time": "2024-03-06T17:12:50.886Z"
   },
   {
    "duration": 22,
    "start_time": "2024-03-06T17:15:29.011Z"
   },
   {
    "duration": 16,
    "start_time": "2024-03-06T17:17:36.871Z"
   },
   {
    "duration": 17,
    "start_time": "2024-03-06T17:18:17.851Z"
   },
   {
    "duration": 11,
    "start_time": "2024-03-06T17:19:08.921Z"
   },
   {
    "duration": 12875,
    "start_time": "2024-03-06T17:20:08.418Z"
   },
   {
    "duration": 369,
    "start_time": "2024-03-06T17:21:30.559Z"
   },
   {
    "duration": 12,
    "start_time": "2024-03-06T17:21:50.264Z"
   },
   {
    "duration": 435,
    "start_time": "2024-03-06T17:22:04.240Z"
   },
   {
    "duration": 4,
    "start_time": "2024-03-06T17:24:29.087Z"
   },
   {
    "duration": 2081,
    "start_time": "2024-03-06T17:24:30.589Z"
   },
   {
    "duration": 4,
    "start_time": "2024-03-06T17:25:27.279Z"
   },
   {
    "duration": 1054,
    "start_time": "2024-03-06T17:25:29.572Z"
   },
   {
    "duration": 4,
    "start_time": "2024-03-06T17:26:28.475Z"
   },
   {
    "duration": 1257,
    "start_time": "2024-03-06T17:26:37.005Z"
   },
   {
    "duration": 4,
    "start_time": "2024-03-06T17:26:58.437Z"
   },
   {
    "duration": 479,
    "start_time": "2024-03-06T17:27:00.766Z"
   },
   {
    "duration": 5,
    "start_time": "2024-03-06T17:27:42.893Z"
   },
   {
    "duration": 3867,
    "start_time": "2024-03-06T17:28:11.413Z"
   },
   {
    "duration": 1133,
    "start_time": "2024-03-06T17:28:15.282Z"
   },
   {
    "duration": 203,
    "start_time": "2024-03-06T17:28:16.417Z"
   },
   {
    "duration": 50,
    "start_time": "2024-03-06T17:28:16.621Z"
   },
   {
    "duration": 111,
    "start_time": "2024-03-06T17:28:16.673Z"
   },
   {
    "duration": 120,
    "start_time": "2024-03-06T17:28:16.785Z"
   },
   {
    "duration": 132,
    "start_time": "2024-03-06T17:28:16.907Z"
   },
   {
    "duration": 135,
    "start_time": "2024-03-06T17:28:17.040Z"
   },
   {
    "duration": 48,
    "start_time": "2024-03-06T17:28:17.176Z"
   },
   {
    "duration": 317,
    "start_time": "2024-03-06T17:28:17.226Z"
   },
   {
    "duration": 7,
    "start_time": "2024-03-06T17:28:17.545Z"
   },
   {
    "duration": 350,
    "start_time": "2024-03-06T17:28:17.553Z"
   },
   {
    "duration": 35,
    "start_time": "2024-03-06T17:28:17.904Z"
   },
   {
    "duration": 197,
    "start_time": "2024-03-06T17:28:17.941Z"
   },
   {
    "duration": 52,
    "start_time": "2024-03-06T17:28:18.140Z"
   },
   {
    "duration": 36,
    "start_time": "2024-03-06T17:28:18.194Z"
   },
   {
    "duration": 43,
    "start_time": "2024-03-06T17:28:18.231Z"
   },
   {
    "duration": 48,
    "start_time": "2024-03-06T17:28:18.275Z"
   },
   {
    "duration": 7,
    "start_time": "2024-03-06T17:28:18.325Z"
   },
   {
    "duration": 41,
    "start_time": "2024-03-06T17:28:18.333Z"
   },
   {
    "duration": 326,
    "start_time": "2024-03-06T17:28:18.376Z"
   },
   {
    "duration": 126,
    "start_time": "2024-03-06T17:28:18.703Z"
   },
   {
    "duration": 123,
    "start_time": "2024-03-06T17:28:18.831Z"
   },
   {
    "duration": 0,
    "start_time": "2024-03-06T17:28:18.956Z"
   },
   {
    "duration": 0,
    "start_time": "2024-03-06T17:28:18.957Z"
   },
   {
    "duration": 0,
    "start_time": "2024-03-06T17:28:18.958Z"
   },
   {
    "duration": 0,
    "start_time": "2024-03-06T17:28:18.959Z"
   },
   {
    "duration": 0,
    "start_time": "2024-03-06T17:28:18.960Z"
   },
   {
    "duration": 0,
    "start_time": "2024-03-06T17:28:18.969Z"
   },
   {
    "duration": 0,
    "start_time": "2024-03-06T17:28:18.970Z"
   },
   {
    "duration": 0,
    "start_time": "2024-03-06T17:28:18.971Z"
   },
   {
    "duration": 0,
    "start_time": "2024-03-06T17:28:18.972Z"
   },
   {
    "duration": 0,
    "start_time": "2024-03-06T17:28:18.973Z"
   },
   {
    "duration": 0,
    "start_time": "2024-03-06T17:28:18.974Z"
   },
   {
    "duration": 3,
    "start_time": "2024-03-06T17:29:15.349Z"
   },
   {
    "duration": 3904,
    "start_time": "2024-03-06T17:29:51.877Z"
   },
   {
    "duration": 1121,
    "start_time": "2024-03-06T17:29:55.783Z"
   },
   {
    "duration": 196,
    "start_time": "2024-03-06T17:29:56.906Z"
   },
   {
    "duration": 40,
    "start_time": "2024-03-06T17:29:57.104Z"
   },
   {
    "duration": 115,
    "start_time": "2024-03-06T17:29:57.146Z"
   },
   {
    "duration": 117,
    "start_time": "2024-03-06T17:29:57.262Z"
   },
   {
    "duration": 128,
    "start_time": "2024-03-06T17:29:57.381Z"
   },
   {
    "duration": 128,
    "start_time": "2024-03-06T17:29:57.510Z"
   },
   {
    "duration": 52,
    "start_time": "2024-03-06T17:29:57.640Z"
   },
   {
    "duration": 323,
    "start_time": "2024-03-06T17:29:57.694Z"
   },
   {
    "duration": 7,
    "start_time": "2024-03-06T17:29:58.019Z"
   },
   {
    "duration": 370,
    "start_time": "2024-03-06T17:29:58.027Z"
   },
   {
    "duration": 36,
    "start_time": "2024-03-06T17:29:58.398Z"
   },
   {
    "duration": 193,
    "start_time": "2024-03-06T17:29:58.436Z"
   },
   {
    "duration": 52,
    "start_time": "2024-03-06T17:29:58.631Z"
   },
   {
    "duration": 37,
    "start_time": "2024-03-06T17:29:58.684Z"
   },
   {
    "duration": 50,
    "start_time": "2024-03-06T17:29:58.722Z"
   },
   {
    "duration": 39,
    "start_time": "2024-03-06T17:29:58.774Z"
   },
   {
    "duration": 12,
    "start_time": "2024-03-06T17:29:58.815Z"
   },
   {
    "duration": 45,
    "start_time": "2024-03-06T17:29:58.828Z"
   },
   {
    "duration": 322,
    "start_time": "2024-03-06T17:29:58.875Z"
   },
   {
    "duration": 121,
    "start_time": "2024-03-06T17:29:59.198Z"
   },
   {
    "duration": 126,
    "start_time": "2024-03-06T17:29:59.321Z"
   },
   {
    "duration": 0,
    "start_time": "2024-03-06T17:29:59.448Z"
   },
   {
    "duration": 0,
    "start_time": "2024-03-06T17:29:59.449Z"
   },
   {
    "duration": 0,
    "start_time": "2024-03-06T17:29:59.450Z"
   },
   {
    "duration": 0,
    "start_time": "2024-03-06T17:29:59.452Z"
   },
   {
    "duration": 0,
    "start_time": "2024-03-06T17:29:59.453Z"
   },
   {
    "duration": 0,
    "start_time": "2024-03-06T17:29:59.454Z"
   },
   {
    "duration": 0,
    "start_time": "2024-03-06T17:29:59.455Z"
   },
   {
    "duration": 0,
    "start_time": "2024-03-06T17:29:59.456Z"
   },
   {
    "duration": 0,
    "start_time": "2024-03-06T17:29:59.457Z"
   },
   {
    "duration": 0,
    "start_time": "2024-03-06T17:29:59.470Z"
   },
   {
    "duration": 0,
    "start_time": "2024-03-06T17:29:59.471Z"
   },
   {
    "duration": 2,
    "start_time": "2024-03-06T17:30:06.639Z"
   },
   {
    "duration": 21,
    "start_time": "2024-03-06T17:30:14.135Z"
   },
   {
    "duration": 50047,
    "start_time": "2024-03-06T17:30:22.712Z"
   },
   {
    "duration": 2511,
    "start_time": "2024-03-06T17:32:53.377Z"
   },
   {
    "duration": 1054,
    "start_time": "2024-03-06T17:32:55.890Z"
   },
   {
    "duration": 223,
    "start_time": "2024-03-06T17:32:56.946Z"
   },
   {
    "duration": 29,
    "start_time": "2024-03-06T17:32:58.214Z"
   },
   {
    "duration": 1030,
    "start_time": "2024-03-06T17:33:06.137Z"
   },
   {
    "duration": 9,
    "start_time": "2024-03-06T17:33:38.830Z"
   },
   {
    "duration": 9,
    "start_time": "2024-03-06T17:33:56.545Z"
   },
   {
    "duration": 9,
    "start_time": "2024-03-06T17:34:32.004Z"
   },
   {
    "duration": 1001,
    "start_time": "2024-03-06T17:38:33.998Z"
   },
   {
    "duration": 981,
    "start_time": "2024-03-06T17:39:42.893Z"
   },
   {
    "duration": 256,
    "start_time": "2024-03-06T17:39:48.687Z"
   },
   {
    "duration": 270,
    "start_time": "2024-03-06T17:39:52.638Z"
   },
   {
    "duration": 3889,
    "start_time": "2024-03-06T17:43:42.967Z"
   },
   {
    "duration": 1084,
    "start_time": "2024-03-06T17:43:46.858Z"
   },
   {
    "duration": 330,
    "start_time": "2024-03-06T17:43:47.944Z"
   },
   {
    "duration": 306,
    "start_time": "2024-03-06T17:43:48.276Z"
   },
   {
    "duration": 194,
    "start_time": "2024-03-06T17:43:48.584Z"
   },
   {
    "duration": 39,
    "start_time": "2024-03-06T17:43:48.780Z"
   },
   {
    "duration": 172,
    "start_time": "2024-03-06T17:43:48.820Z"
   },
   {
    "duration": 8,
    "start_time": "2024-03-06T17:43:48.994Z"
   },
   {
    "duration": 82,
    "start_time": "2024-03-06T17:43:49.003Z"
   },
   {
    "duration": 111,
    "start_time": "2024-03-06T17:43:49.088Z"
   },
   {
    "duration": 112,
    "start_time": "2024-03-06T17:43:49.201Z"
   },
   {
    "duration": 120,
    "start_time": "2024-03-06T17:43:49.315Z"
   },
   {
    "duration": 125,
    "start_time": "2024-03-06T17:43:49.437Z"
   },
   {
    "duration": 50,
    "start_time": "2024-03-06T17:43:49.563Z"
   },
   {
    "duration": 7,
    "start_time": "2024-03-06T17:43:49.614Z"
   },
   {
    "duration": 59,
    "start_time": "2024-03-06T17:43:49.623Z"
   },
   {
    "duration": 35,
    "start_time": "2024-03-06T17:43:49.684Z"
   },
   {
    "duration": 53,
    "start_time": "2024-03-06T17:43:49.721Z"
   },
   {
    "duration": 37,
    "start_time": "2024-03-06T17:43:49.775Z"
   },
   {
    "duration": 5,
    "start_time": "2024-03-06T17:43:49.814Z"
   },
   {
    "duration": 52,
    "start_time": "2024-03-06T17:43:49.820Z"
   },
   {
    "duration": 325,
    "start_time": "2024-03-06T17:43:49.874Z"
   },
   {
    "duration": 121,
    "start_time": "2024-03-06T17:43:50.201Z"
   },
   {
    "duration": 132,
    "start_time": "2024-03-06T17:43:50.324Z"
   },
   {
    "duration": 0,
    "start_time": "2024-03-06T17:43:50.458Z"
   },
   {
    "duration": 0,
    "start_time": "2024-03-06T17:43:50.461Z"
   },
   {
    "duration": 0,
    "start_time": "2024-03-06T17:43:50.461Z"
   },
   {
    "duration": 0,
    "start_time": "2024-03-06T17:43:50.469Z"
   },
   {
    "duration": 0,
    "start_time": "2024-03-06T17:43:50.470Z"
   },
   {
    "duration": 0,
    "start_time": "2024-03-06T17:43:50.471Z"
   },
   {
    "duration": 0,
    "start_time": "2024-03-06T17:43:50.473Z"
   },
   {
    "duration": 0,
    "start_time": "2024-03-06T17:43:50.474Z"
   },
   {
    "duration": 0,
    "start_time": "2024-03-06T17:43:50.475Z"
   },
   {
    "duration": 0,
    "start_time": "2024-03-06T17:43:50.477Z"
   },
   {
    "duration": 0,
    "start_time": "2024-03-06T17:43:50.478Z"
   },
   {
    "duration": 10,
    "start_time": "2024-03-06T17:44:11.783Z"
   },
   {
    "duration": 61,
    "start_time": "2024-03-06T17:44:20.633Z"
   },
   {
    "duration": 251,
    "start_time": "2024-03-06T17:44:28.553Z"
   },
   {
    "duration": 166,
    "start_time": "2024-03-06T17:46:18.238Z"
   },
   {
    "duration": 28,
    "start_time": "2024-03-06T17:46:52.187Z"
   },
   {
    "duration": 9,
    "start_time": "2024-03-06T17:46:54.541Z"
   },
   {
    "duration": 3,
    "start_time": "2024-03-06T17:46:59.382Z"
   },
   {
    "duration": 48169,
    "start_time": "2024-03-06T17:47:02.131Z"
   },
   {
    "duration": 221,
    "start_time": "2024-03-06T17:50:07.904Z"
   },
   {
    "duration": 1621,
    "start_time": "2024-03-06T17:53:56.026Z"
   },
   {
    "duration": 229,
    "start_time": "2024-03-06T18:00:40.928Z"
   },
   {
    "duration": 1003,
    "start_time": "2024-03-06T18:01:38.147Z"
   },
   {
    "duration": 278,
    "start_time": "2024-03-06T18:01:44.127Z"
   },
   {
    "duration": 280,
    "start_time": "2024-03-06T18:01:44.884Z"
   },
   {
    "duration": 110,
    "start_time": "2024-03-06T18:01:55.650Z"
   },
   {
    "duration": 105,
    "start_time": "2024-03-06T18:01:56.282Z"
   },
   {
    "duration": 3843,
    "start_time": "2024-03-06T18:03:23.355Z"
   },
   {
    "duration": 1117,
    "start_time": "2024-03-06T18:03:27.201Z"
   },
   {
    "duration": 318,
    "start_time": "2024-03-06T18:03:28.767Z"
   },
   {
    "duration": 358,
    "start_time": "2024-03-06T18:03:29.316Z"
   },
   {
    "duration": 111,
    "start_time": "2024-03-06T18:03:35.984Z"
   },
   {
    "duration": 109,
    "start_time": "2024-03-06T18:03:36.517Z"
   },
   {
    "duration": 3,
    "start_time": "2024-03-06T18:03:45.860Z"
   },
   {
    "duration": 127,
    "start_time": "2024-03-06T18:03:46.463Z"
   },
   {
    "duration": 4861,
    "start_time": "2024-03-07T09:09:24.621Z"
   },
   {
    "duration": 3006,
    "start_time": "2024-03-07T09:09:29.484Z"
   },
   {
    "duration": 112,
    "start_time": "2024-03-07T09:09:32.491Z"
   },
   {
    "duration": 320,
    "start_time": "2024-03-07T09:09:32.604Z"
   },
   {
    "duration": 341,
    "start_time": "2024-03-07T09:09:32.925Z"
   },
   {
    "duration": 205,
    "start_time": "2024-03-07T09:09:33.267Z"
   },
   {
    "duration": 44,
    "start_time": "2024-03-07T09:09:33.474Z"
   },
   {
    "duration": 160,
    "start_time": "2024-03-07T09:09:33.520Z"
   },
   {
    "duration": 17,
    "start_time": "2024-03-07T09:09:33.681Z"
   },
   {
    "duration": 62,
    "start_time": "2024-03-07T09:09:33.700Z"
   },
   {
    "duration": 179,
    "start_time": "2024-03-07T09:09:33.765Z"
   },
   {
    "duration": 257,
    "start_time": "2024-03-07T09:09:33.945Z"
   },
   {
    "duration": 97,
    "start_time": "2024-03-07T09:09:34.203Z"
   },
   {
    "duration": 96,
    "start_time": "2024-03-07T09:09:34.302Z"
   },
   {
    "duration": 129,
    "start_time": "2024-03-07T09:09:34.399Z"
   },
   {
    "duration": 6,
    "start_time": "2024-03-07T09:09:34.530Z"
   },
   {
    "duration": 49,
    "start_time": "2024-03-07T09:09:34.537Z"
   },
   {
    "duration": 55,
    "start_time": "2024-03-07T09:09:34.588Z"
   },
   {
    "duration": 54,
    "start_time": "2024-03-07T09:09:34.644Z"
   },
   {
    "duration": 50,
    "start_time": "2024-03-07T09:09:34.699Z"
   },
   {
    "duration": 12,
    "start_time": "2024-03-07T09:09:34.751Z"
   },
   {
    "duration": 57,
    "start_time": "2024-03-07T09:09:34.765Z"
   },
   {
    "duration": 341,
    "start_time": "2024-03-07T09:09:34.823Z"
   },
   {
    "duration": 123,
    "start_time": "2024-03-07T09:09:35.166Z"
   },
   {
    "duration": 112,
    "start_time": "2024-03-07T09:09:35.294Z"
   },
   {
    "duration": 0,
    "start_time": "2024-03-07T09:09:35.408Z"
   },
   {
    "duration": 0,
    "start_time": "2024-03-07T09:09:35.409Z"
   },
   {
    "duration": 0,
    "start_time": "2024-03-07T09:09:35.411Z"
   },
   {
    "duration": 0,
    "start_time": "2024-03-07T09:09:35.412Z"
   },
   {
    "duration": 21,
    "start_time": "2024-03-07T09:11:30.885Z"
   },
   {
    "duration": 729,
    "start_time": "2024-03-07T09:11:54.868Z"
   },
   {
    "duration": 146,
    "start_time": "2024-03-07T09:12:10.066Z"
   },
   {
    "duration": 105,
    "start_time": "2024-03-07T09:12:27.354Z"
   },
   {
    "duration": 30,
    "start_time": "2024-03-07T09:12:35.391Z"
   },
   {
    "duration": 21,
    "start_time": "2024-03-07T09:13:52.984Z"
   },
   {
    "duration": 145,
    "start_time": "2024-03-07T09:14:11.831Z"
   },
   {
    "duration": 3,
    "start_time": "2024-03-07T09:14:37.502Z"
   },
   {
    "duration": 20,
    "start_time": "2024-03-07T09:14:38.703Z"
   },
   {
    "duration": 48407,
    "start_time": "2024-03-07T09:14:39.896Z"
   },
   {
    "duration": 47,
    "start_time": "2024-03-07T09:16:54.328Z"
   },
   {
    "duration": 1550,
    "start_time": "2024-03-07T09:18:36.872Z"
   },
   {
    "duration": 25,
    "start_time": "2024-03-07T09:18:50.695Z"
   },
   {
    "duration": 26,
    "start_time": "2024-03-07T09:19:03.212Z"
   },
   {
    "duration": 26,
    "start_time": "2024-03-07T09:19:19.214Z"
   },
   {
    "duration": 31,
    "start_time": "2024-03-07T09:19:21.731Z"
   },
   {
    "duration": 10,
    "start_time": "2024-03-07T09:19:39.236Z"
   },
   {
    "duration": 33,
    "start_time": "2024-03-07T09:20:18.039Z"
   },
   {
    "duration": 25,
    "start_time": "2024-03-07T09:20:33.032Z"
   },
   {
    "duration": 26,
    "start_time": "2024-03-07T09:21:15.053Z"
   },
   {
    "duration": 3,
    "start_time": "2024-03-07T09:21:50.586Z"
   },
   {
    "duration": 70056,
    "start_time": "2024-03-07T09:21:56.542Z"
   },
   {
    "duration": 14775,
    "start_time": "2024-03-07T09:24:59.094Z"
   },
   {
    "duration": 14,
    "start_time": "2024-03-07T09:25:43.626Z"
   },
   {
    "duration": 25,
    "start_time": "2024-03-07T09:26:19.814Z"
   },
   {
    "duration": 14253,
    "start_time": "2024-03-07T09:26:20.765Z"
   },
   {
    "duration": 14284,
    "start_time": "2024-03-07T09:27:09.055Z"
   },
   {
    "duration": 14283,
    "start_time": "2024-03-07T09:28:25.830Z"
   },
   {
    "duration": 14588,
    "start_time": "2024-03-07T09:28:53.885Z"
   },
   {
    "duration": 10,
    "start_time": "2024-03-07T09:32:00.850Z"
   },
   {
    "duration": 2350,
    "start_time": "2024-03-07T09:32:54.519Z"
   },
   {
    "duration": 13,
    "start_time": "2024-03-07T09:33:09.753Z"
   },
   {
    "duration": 1569,
    "start_time": "2024-03-07T09:33:47.704Z"
   },
   {
    "duration": 938,
    "start_time": "2024-03-07T09:33:57.901Z"
   },
   {
    "duration": 107,
    "start_time": "2024-03-07T09:33:58.841Z"
   },
   {
    "duration": 258,
    "start_time": "2024-03-07T09:33:59.063Z"
   },
   {
    "duration": 265,
    "start_time": "2024-03-07T09:33:59.466Z"
   },
   {
    "duration": 229,
    "start_time": "2024-03-07T09:34:00.081Z"
   },
   {
    "duration": 37,
    "start_time": "2024-03-07T09:34:00.541Z"
   },
   {
    "duration": 194,
    "start_time": "2024-03-07T09:34:01.465Z"
   },
   {
    "duration": 7,
    "start_time": "2024-03-07T09:34:06.537Z"
   },
   {
    "duration": 57,
    "start_time": "2024-03-07T09:34:07.546Z"
   },
   {
    "duration": 321,
    "start_time": "2024-03-07T09:34:08.603Z"
   },
   {
    "duration": 175,
    "start_time": "2024-03-07T09:34:09.762Z"
   },
   {
    "duration": 10,
    "start_time": "2024-03-07T09:34:11.050Z"
   },
   {
    "duration": 91,
    "start_time": "2024-03-07T09:34:12.457Z"
   },
   {
    "duration": 95,
    "start_time": "2024-03-07T09:34:13.060Z"
   },
   {
    "duration": 6,
    "start_time": "2024-03-07T09:34:14.024Z"
   },
   {
    "duration": 8,
    "start_time": "2024-03-07T09:34:16.716Z"
   },
   {
    "duration": 47,
    "start_time": "2024-03-07T09:37:42.652Z"
   },
   {
    "duration": 3660,
    "start_time": "2024-03-07T09:40:11.692Z"
   },
   {
    "duration": 1033,
    "start_time": "2024-03-07T09:40:15.354Z"
   },
   {
    "duration": 100,
    "start_time": "2024-03-07T09:40:16.388Z"
   },
   {
    "duration": 289,
    "start_time": "2024-03-07T09:40:16.493Z"
   },
   {
    "duration": 317,
    "start_time": "2024-03-07T09:40:16.784Z"
   },
   {
    "duration": 192,
    "start_time": "2024-03-07T09:40:17.102Z"
   },
   {
    "duration": 42,
    "start_time": "2024-03-07T09:40:17.295Z"
   },
   {
    "duration": 184,
    "start_time": "2024-03-07T09:40:17.339Z"
   },
   {
    "duration": 8,
    "start_time": "2024-03-07T09:40:17.524Z"
   },
   {
    "duration": 77,
    "start_time": "2024-03-07T09:40:17.534Z"
   },
   {
    "duration": 212,
    "start_time": "2024-03-07T09:40:17.612Z"
   },
   {
    "duration": 145,
    "start_time": "2024-03-07T09:40:17.825Z"
   },
   {
    "duration": 25,
    "start_time": "2024-03-07T09:40:17.971Z"
   },
   {
    "duration": 96,
    "start_time": "2024-03-07T09:40:17.998Z"
   },
   {
    "duration": 99,
    "start_time": "2024-03-07T09:40:18.095Z"
   },
   {
    "duration": 11,
    "start_time": "2024-03-07T09:40:18.196Z"
   },
   {
    "duration": 14,
    "start_time": "2024-03-07T09:40:18.209Z"
   },
   {
    "duration": 117,
    "start_time": "2024-03-07T09:40:18.224Z"
   },
   {
    "duration": 95,
    "start_time": "2024-03-07T09:40:18.343Z"
   },
   {
    "duration": 3,
    "start_time": "2024-03-07T09:40:18.440Z"
   },
   {
    "duration": 63725,
    "start_time": "2024-03-07T09:40:18.444Z"
   },
   {
    "duration": 287,
    "start_time": "2024-03-07T09:41:22.171Z"
   },
   {
    "duration": 124,
    "start_time": "2024-03-07T09:41:22.460Z"
   },
   {
    "duration": 144,
    "start_time": "2024-03-07T09:41:22.586Z"
   },
   {
    "duration": 0,
    "start_time": "2024-03-07T09:41:22.732Z"
   },
   {
    "duration": 63073,
    "start_time": "2024-03-07T09:59:49.426Z"
   },
   {
    "duration": 15,
    "start_time": "2024-03-07T10:03:25.112Z"
   },
   {
    "duration": 8329,
    "start_time": "2024-03-07T10:03:28.640Z"
   },
   {
    "duration": 70,
    "start_time": "2024-03-07T10:04:50.154Z"
   },
   {
    "duration": 968,
    "start_time": "2024-03-07T10:05:02.093Z"
   },
   {
    "duration": 101,
    "start_time": "2024-03-07T10:05:03.063Z"
   },
   {
    "duration": 246,
    "start_time": "2024-03-07T10:05:03.165Z"
   },
   {
    "duration": 280,
    "start_time": "2024-03-07T10:05:03.414Z"
   },
   {
    "duration": 244,
    "start_time": "2024-03-07T10:05:03.695Z"
   },
   {
    "duration": 31,
    "start_time": "2024-03-07T10:05:03.941Z"
   },
   {
    "duration": 277,
    "start_time": "2024-03-07T10:05:03.973Z"
   },
   {
    "duration": 8,
    "start_time": "2024-03-07T10:05:04.252Z"
   },
   {
    "duration": 73,
    "start_time": "2024-03-07T10:05:04.262Z"
   },
   {
    "duration": 205,
    "start_time": "2024-03-07T10:05:04.337Z"
   },
   {
    "duration": 209,
    "start_time": "2024-03-07T10:05:04.544Z"
   },
   {
    "duration": 14,
    "start_time": "2024-03-07T10:05:04.755Z"
   },
   {
    "duration": 106,
    "start_time": "2024-03-07T10:05:04.770Z"
   },
   {
    "duration": 90,
    "start_time": "2024-03-07T10:05:05.089Z"
   },
   {
    "duration": 8,
    "start_time": "2024-03-07T10:05:05.632Z"
   },
   {
    "duration": 15,
    "start_time": "2024-03-07T10:05:06.039Z"
   },
   {
    "duration": 90,
    "start_time": "2024-03-07T10:05:06.520Z"
   },
   {
    "duration": 46,
    "start_time": "2024-03-07T10:05:07.170Z"
   },
   {
    "duration": 3,
    "start_time": "2024-03-07T10:05:07.892Z"
   },
   {
    "duration": 56327,
    "start_time": "2024-03-07T10:05:10.682Z"
   },
   {
    "duration": 92,
    "start_time": "2024-03-07T17:02:21.834Z"
   },
   {
    "duration": 5555,
    "start_time": "2024-03-07T17:02:30.648Z"
   },
   {
    "duration": 3245,
    "start_time": "2024-03-07T17:02:36.205Z"
   },
   {
    "duration": 144,
    "start_time": "2024-03-07T17:02:39.451Z"
   },
   {
    "duration": 344,
    "start_time": "2024-03-07T17:02:39.597Z"
   },
   {
    "duration": 382,
    "start_time": "2024-03-07T17:02:39.943Z"
   },
   {
    "duration": 221,
    "start_time": "2024-03-07T17:02:40.327Z"
   },
   {
    "duration": 65,
    "start_time": "2024-03-07T17:02:40.550Z"
   },
   {
    "duration": 189,
    "start_time": "2024-03-07T17:02:40.618Z"
   },
   {
    "duration": 10,
    "start_time": "2024-03-07T17:02:40.808Z"
   },
   {
    "duration": 78,
    "start_time": "2024-03-07T17:02:40.821Z"
   },
   {
    "duration": 189,
    "start_time": "2024-03-07T17:02:40.900Z"
   },
   {
    "duration": 170,
    "start_time": "2024-03-07T17:02:41.090Z"
   },
   {
    "duration": 17,
    "start_time": "2024-03-07T17:02:41.261Z"
   },
   {
    "duration": 118,
    "start_time": "2024-03-07T17:02:41.279Z"
   },
   {
    "duration": 115,
    "start_time": "2024-03-07T17:02:41.398Z"
   },
   {
    "duration": 7,
    "start_time": "2024-03-07T17:02:41.515Z"
   },
   {
    "duration": 23,
    "start_time": "2024-03-07T17:02:41.523Z"
   },
   {
    "duration": 135,
    "start_time": "2024-03-07T17:02:41.547Z"
   },
   {
    "duration": 57,
    "start_time": "2024-03-07T17:02:41.684Z"
   },
   {
    "duration": 3,
    "start_time": "2024-03-07T17:02:41.743Z"
   },
   {
    "duration": 73905,
    "start_time": "2024-03-07T17:02:41.747Z"
   },
   {
    "duration": 39,
    "start_time": "2024-03-07T17:03:55.654Z"
   },
   {
    "duration": 90,
    "start_time": "2024-03-07T17:03:55.695Z"
   },
   {
    "duration": 269,
    "start_time": "2024-03-07T17:03:55.787Z"
   },
   {
    "duration": 3,
    "start_time": "2024-03-07T17:03:56.058Z"
   },
   {
    "duration": 98,
    "start_time": "2024-03-07T17:03:56.076Z"
   },
   {
    "duration": 333,
    "start_time": "2024-03-07T17:03:56.176Z"
   },
   {
    "duration": 327,
    "start_time": "2024-03-07T17:03:56.513Z"
   },
   {
    "duration": 159,
    "start_time": "2024-03-07T17:03:56.842Z"
   },
   {
    "duration": 36,
    "start_time": "2024-03-07T17:04:52.555Z"
   },
   {
    "duration": 45,
    "start_time": "2024-03-07T17:05:36.951Z"
   },
   {
    "duration": 41,
    "start_time": "2024-03-07T17:05:53.519Z"
   },
   {
    "duration": 39,
    "start_time": "2024-03-07T17:06:13.393Z"
   },
   {
    "duration": 312,
    "start_time": "2024-03-07T17:08:14.125Z"
   },
   {
    "duration": 77,
    "start_time": "2024-03-07T17:08:19.745Z"
   },
   {
    "duration": 327,
    "start_time": "2024-03-07T17:09:03.799Z"
   },
   {
    "duration": 77,
    "start_time": "2024-03-07T17:09:08.245Z"
   },
   {
    "duration": 35,
    "start_time": "2024-03-07T17:10:02.132Z"
   },
   {
    "duration": 10973,
    "start_time": "2024-03-07T17:41:52.958Z"
   },
   {
    "duration": 1112,
    "start_time": "2024-03-07T17:42:03.933Z"
   },
   {
    "duration": 121,
    "start_time": "2024-03-07T17:42:05.046Z"
   },
   {
    "duration": 310,
    "start_time": "2024-03-07T17:42:05.172Z"
   },
   {
    "duration": 347,
    "start_time": "2024-03-07T17:42:05.483Z"
   },
   {
    "duration": 206,
    "start_time": "2024-03-07T17:42:05.832Z"
   },
   {
    "duration": 52,
    "start_time": "2024-03-07T17:42:06.040Z"
   },
   {
    "duration": 190,
    "start_time": "2024-03-07T17:42:06.095Z"
   },
   {
    "duration": 8,
    "start_time": "2024-03-07T17:42:06.286Z"
   },
   {
    "duration": 84,
    "start_time": "2024-03-07T17:42:06.297Z"
   },
   {
    "duration": 170,
    "start_time": "2024-03-07T17:42:06.383Z"
   },
   {
    "duration": 175,
    "start_time": "2024-03-07T17:42:06.555Z"
   },
   {
    "duration": 13,
    "start_time": "2024-03-07T17:42:06.731Z"
   },
   {
    "duration": 119,
    "start_time": "2024-03-07T17:42:06.746Z"
   },
   {
    "duration": 117,
    "start_time": "2024-03-07T17:42:06.866Z"
   },
   {
    "duration": 9,
    "start_time": "2024-03-07T17:42:06.985Z"
   },
   {
    "duration": 31,
    "start_time": "2024-03-07T17:42:06.995Z"
   },
   {
    "duration": 122,
    "start_time": "2024-03-07T17:42:07.028Z"
   },
   {
    "duration": 56,
    "start_time": "2024-03-07T17:42:07.151Z"
   },
   {
    "duration": 3,
    "start_time": "2024-03-07T17:42:07.209Z"
   },
   {
    "duration": 6841,
    "start_time": "2024-03-07T17:42:38.472Z"
   },
   {
    "duration": 1149,
    "start_time": "2024-03-07T17:42:45.315Z"
   },
   {
    "duration": 115,
    "start_time": "2024-03-07T17:42:46.473Z"
   },
   {
    "duration": 324,
    "start_time": "2024-03-07T17:42:46.590Z"
   },
   {
    "duration": 377,
    "start_time": "2024-03-07T17:42:46.916Z"
   },
   {
    "duration": 216,
    "start_time": "2024-03-07T17:42:47.295Z"
   },
   {
    "duration": 42,
    "start_time": "2024-03-07T17:42:47.513Z"
   },
   {
    "duration": 180,
    "start_time": "2024-03-07T17:42:47.557Z"
   },
   {
    "duration": 8,
    "start_time": "2024-03-07T17:42:47.739Z"
   },
   {
    "duration": 82,
    "start_time": "2024-03-07T17:42:47.750Z"
   },
   {
    "duration": 180,
    "start_time": "2024-03-07T17:42:47.833Z"
   },
   {
    "duration": 195,
    "start_time": "2024-03-07T17:42:48.014Z"
   },
   {
    "duration": 12,
    "start_time": "2024-03-07T17:42:48.210Z"
   },
   {
    "duration": 135,
    "start_time": "2024-03-07T17:42:48.224Z"
   },
   {
    "duration": 113,
    "start_time": "2024-03-07T17:42:48.360Z"
   },
   {
    "duration": 7,
    "start_time": "2024-03-07T17:42:48.474Z"
   },
   {
    "duration": 20,
    "start_time": "2024-03-07T17:42:48.483Z"
   },
   {
    "duration": 121,
    "start_time": "2024-03-07T17:42:48.505Z"
   },
   {
    "duration": 64,
    "start_time": "2024-03-07T17:42:48.627Z"
   },
   {
    "duration": 2,
    "start_time": "2024-03-07T17:42:48.693Z"
   },
   {
    "duration": 81577,
    "start_time": "2024-03-07T17:42:48.697Z"
   },
   {
    "duration": 34,
    "start_time": "2024-03-07T17:44:10.276Z"
   },
   {
    "duration": 94,
    "start_time": "2024-03-07T17:44:10.312Z"
   },
   {
    "duration": 36,
    "start_time": "2024-03-07T17:44:10.408Z"
   },
   {
    "duration": 56,
    "start_time": "2024-03-07T17:44:10.445Z"
   },
   {
    "duration": 40,
    "start_time": "2024-03-07T17:44:10.502Z"
   },
   {
    "duration": 64,
    "start_time": "2024-03-07T17:44:10.544Z"
   },
   {
    "duration": 44,
    "start_time": "2024-03-07T17:44:10.611Z"
   },
   {
    "duration": 11,
    "start_time": "2024-03-07T17:44:10.657Z"
   },
   {
    "duration": 96,
    "start_time": "2024-03-07T17:44:10.669Z"
   },
   {
    "duration": 474,
    "start_time": "2024-03-07T17:44:10.766Z"
   },
   {
    "duration": 289,
    "start_time": "2024-03-07T17:44:11.242Z"
   },
   {
    "duration": 0,
    "start_time": "2024-03-07T17:44:11.533Z"
   },
   {
    "duration": 1498,
    "start_time": "2024-03-07T17:49:35.096Z"
   },
   {
    "duration": 5293,
    "start_time": "2024-03-07T18:05:52.596Z"
   },
   {
    "duration": 4,
    "start_time": "2024-03-07T18:06:00.070Z"
   },
   {
    "duration": 14575,
    "start_time": "2024-03-07T18:06:28.137Z"
   },
   {
    "duration": 18,
    "start_time": "2024-03-07T18:07:38.760Z"
   },
   {
    "duration": 1107,
    "start_time": "2024-03-07T18:07:52.735Z"
   },
   {
    "duration": 5253,
    "start_time": "2024-03-07T18:09:28.169Z"
   },
   {
    "duration": 8,
    "start_time": "2024-03-07T18:10:16.307Z"
   },
   {
    "duration": 23,
    "start_time": "2024-03-07T18:26:41.924Z"
   },
   {
    "duration": 33657,
    "start_time": "2024-03-07T18:26:46.074Z"
   },
   {
    "duration": 1163,
    "start_time": "2024-03-07T18:27:26.194Z"
   },
   {
    "duration": 6,
    "start_time": "2024-03-07T18:27:27.358Z"
   },
   {
    "duration": 12385,
    "start_time": "2024-03-08T08:55:57.084Z"
   },
   {
    "duration": 1380,
    "start_time": "2024-03-08T08:56:09.471Z"
   },
   {
    "duration": 119,
    "start_time": "2024-03-08T08:56:10.852Z"
   },
   {
    "duration": 357,
    "start_time": "2024-03-08T08:56:10.973Z"
   },
   {
    "duration": 383,
    "start_time": "2024-03-08T08:56:11.332Z"
   },
   {
    "duration": 234,
    "start_time": "2024-03-08T08:56:11.716Z"
   },
   {
    "duration": 51,
    "start_time": "2024-03-08T08:56:11.951Z"
   },
   {
    "duration": 186,
    "start_time": "2024-03-08T08:56:12.004Z"
   },
   {
    "duration": 9,
    "start_time": "2024-03-08T08:56:12.192Z"
   },
   {
    "duration": 86,
    "start_time": "2024-03-08T08:56:12.205Z"
   },
   {
    "duration": 183,
    "start_time": "2024-03-08T08:56:12.293Z"
   },
   {
    "duration": 193,
    "start_time": "2024-03-08T08:56:12.482Z"
   },
   {
    "duration": 16,
    "start_time": "2024-03-08T08:56:12.677Z"
   },
   {
    "duration": 137,
    "start_time": "2024-03-08T08:56:12.695Z"
   },
   {
    "duration": 117,
    "start_time": "2024-03-08T08:56:12.834Z"
   },
   {
    "duration": 9,
    "start_time": "2024-03-08T08:56:12.953Z"
   },
   {
    "duration": 31,
    "start_time": "2024-03-08T08:56:12.963Z"
   },
   {
    "duration": 127,
    "start_time": "2024-03-08T08:56:12.996Z"
   },
   {
    "duration": 79,
    "start_time": "2024-03-08T08:56:13.125Z"
   },
   {
    "duration": 3,
    "start_time": "2024-03-08T08:56:13.205Z"
   },
   {
    "duration": 22,
    "start_time": "2024-03-08T08:56:16.251Z"
   },
   {
    "duration": 3,
    "start_time": "2024-03-08T08:56:20.578Z"
   },
   {
    "duration": 73,
    "start_time": "2024-03-08T08:56:21.073Z"
   },
   {
    "duration": 9,
    "start_time": "2024-03-08T08:56:21.938Z"
   },
   {
    "duration": 84,
    "start_time": "2024-03-08T08:56:38.050Z"
   },
   {
    "duration": 12,
    "start_time": "2024-03-08T08:56:53.448Z"
   },
   {
    "duration": 3,
    "start_time": "2024-03-08T08:57:01.439Z"
   },
   {
    "duration": 127,
    "start_time": "2024-03-08T08:57:04.836Z"
   },
   {
    "duration": 3,
    "start_time": "2024-03-08T08:57:18.878Z"
   },
   {
    "duration": 16,
    "start_time": "2024-03-08T08:57:21.784Z"
   },
   {
    "duration": 74912,
    "start_time": "2024-03-08T08:57:58.466Z"
   },
   {
    "duration": 20,
    "start_time": "2024-03-08T09:01:06.053Z"
   },
   {
    "duration": 71,
    "start_time": "2024-03-08T09:02:59.263Z"
   },
   {
    "duration": 98,
    "start_time": "2024-03-08T09:03:11.538Z"
   },
   {
    "duration": 8,
    "start_time": "2024-03-08T09:03:15.556Z"
   },
   {
    "duration": 3,
    "start_time": "2024-03-08T09:03:17.572Z"
   },
   {
    "duration": 4,
    "start_time": "2024-03-08T09:03:18.151Z"
   },
   {
    "duration": 73471,
    "start_time": "2024-03-08T09:03:27.695Z"
   },
   {
    "duration": 20,
    "start_time": "2024-03-08T09:06:06.409Z"
   },
   {
    "duration": 7,
    "start_time": "2024-03-08T09:09:55.082Z"
   },
   {
    "duration": 3,
    "start_time": "2024-03-08T09:09:55.754Z"
   },
   {
    "duration": 3,
    "start_time": "2024-03-08T09:09:56.386Z"
   },
   {
    "duration": 73004,
    "start_time": "2024-03-08T09:09:57.402Z"
   },
   {
    "duration": 18,
    "start_time": "2024-03-08T09:11:16.662Z"
   },
   {
    "duration": 71,
    "start_time": "2024-03-08T09:18:21.830Z"
   },
   {
    "duration": 4,
    "start_time": "2024-03-08T09:18:35.600Z"
   },
   {
    "duration": 18,
    "start_time": "2024-03-08T09:18:38.520Z"
   },
   {
    "duration": 3,
    "start_time": "2024-03-08T09:18:59.527Z"
   },
   {
    "duration": 16,
    "start_time": "2024-03-08T09:19:00.901Z"
   },
   {
    "duration": 4,
    "start_time": "2024-03-08T09:19:08.936Z"
   },
   {
    "duration": 15,
    "start_time": "2024-03-08T09:19:09.885Z"
   },
   {
    "duration": 4,
    "start_time": "2024-03-08T09:19:43.313Z"
   },
   {
    "duration": 16,
    "start_time": "2024-03-08T09:19:44.003Z"
   },
   {
    "duration": 4,
    "start_time": "2024-03-08T09:20:02.411Z"
   },
   {
    "duration": 22,
    "start_time": "2024-03-08T09:20:02.860Z"
   },
   {
    "duration": 4,
    "start_time": "2024-03-08T09:21:06.329Z"
   },
   {
    "duration": 422190,
    "start_time": "2024-03-08T09:21:06.836Z"
   },
   {
    "duration": 24,
    "start_time": "2024-03-08T09:28:14.699Z"
   },
   {
    "duration": 5170,
    "start_time": "2024-03-08T09:32:51.593Z"
   },
   {
    "duration": 4,
    "start_time": "2024-03-08T09:36:57.664Z"
   },
   {
    "duration": 42598,
    "start_time": "2024-03-08T09:36:59.516Z"
   },
   {
    "duration": 16,
    "start_time": "2024-03-08T09:38:11.639Z"
   },
   {
    "duration": 12681,
    "start_time": "2024-03-08T16:42:12.962Z"
   },
   {
    "duration": 3104,
    "start_time": "2024-03-08T16:42:25.646Z"
   },
   {
    "duration": 113,
    "start_time": "2024-03-08T16:42:28.752Z"
   },
   {
    "duration": 326,
    "start_time": "2024-03-08T16:42:28.867Z"
   },
   {
    "duration": 336,
    "start_time": "2024-03-08T16:42:29.195Z"
   },
   {
    "duration": 224,
    "start_time": "2024-03-08T16:42:29.533Z"
   },
   {
    "duration": 49,
    "start_time": "2024-03-08T16:42:29.759Z"
   },
   {
    "duration": 193,
    "start_time": "2024-03-08T16:42:29.810Z"
   },
   {
    "duration": 11,
    "start_time": "2024-03-08T16:42:30.005Z"
   },
   {
    "duration": 173,
    "start_time": "2024-03-08T16:42:30.018Z"
   },
   {
    "duration": 181,
    "start_time": "2024-03-08T16:42:30.192Z"
   },
   {
    "duration": 169,
    "start_time": "2024-03-08T16:42:30.375Z"
   },
   {
    "duration": 14,
    "start_time": "2024-03-08T16:42:30.545Z"
   },
   {
    "duration": 239,
    "start_time": "2024-03-08T16:42:30.563Z"
   },
   {
    "duration": 128,
    "start_time": "2024-03-08T16:42:30.804Z"
   },
   {
    "duration": 64,
    "start_time": "2024-03-08T16:42:30.935Z"
   },
   {
    "duration": 77,
    "start_time": "2024-03-08T16:42:31.001Z"
   },
   {
    "duration": 329,
    "start_time": "2024-03-08T16:42:31.080Z"
   },
   {
    "duration": 222,
    "start_time": "2024-03-08T16:42:31.411Z"
   },
   {
    "duration": 286,
    "start_time": "2024-03-08T16:42:31.635Z"
   },
   {
    "duration": 71991,
    "start_time": "2024-03-08T16:42:31.923Z"
   },
   {
    "duration": 33,
    "start_time": "2024-03-08T16:43:43.916Z"
   },
   {
    "duration": 107,
    "start_time": "2024-03-08T16:43:43.951Z"
   },
   {
    "duration": 45,
    "start_time": "2024-03-08T16:43:44.060Z"
   },
   {
    "duration": 41,
    "start_time": "2024-03-08T16:43:44.108Z"
   },
   {
    "duration": 48,
    "start_time": "2024-03-08T16:43:44.151Z"
   },
   {
    "duration": 60,
    "start_time": "2024-03-08T16:43:44.201Z"
   },
   {
    "duration": 36,
    "start_time": "2024-03-08T16:43:44.263Z"
   },
   {
    "duration": 6,
    "start_time": "2024-03-08T16:43:44.301Z"
   },
   {
    "duration": 91,
    "start_time": "2024-03-08T16:43:44.308Z"
   },
   {
    "duration": 8,
    "start_time": "2024-03-08T16:43:44.400Z"
   },
   {
    "duration": 23,
    "start_time": "2024-03-08T16:43:44.410Z"
   },
   {
    "duration": 102,
    "start_time": "2024-03-08T16:43:44.435Z"
   },
   {
    "duration": 0,
    "start_time": "2024-03-08T16:43:44.539Z"
   },
   {
    "duration": 0,
    "start_time": "2024-03-08T16:43:44.540Z"
   },
   {
    "duration": 0,
    "start_time": "2024-03-08T16:43:44.541Z"
   },
   {
    "duration": 0,
    "start_time": "2024-03-08T16:43:44.542Z"
   },
   {
    "duration": 0,
    "start_time": "2024-03-08T16:43:44.543Z"
   },
   {
    "duration": 4,
    "start_time": "2024-03-08T16:44:15.481Z"
   },
   {
    "duration": 78682,
    "start_time": "2024-03-08T16:44:19.420Z"
   },
   {
    "duration": 17,
    "start_time": "2024-03-08T16:45:45.621Z"
   },
   {
    "duration": 3,
    "start_time": "2024-03-08T16:47:24.047Z"
   },
   {
    "duration": 226432,
    "start_time": "2024-03-08T16:47:26.885Z"
   },
   {
    "duration": 4,
    "start_time": "2024-03-08T16:51:19.129Z"
   },
   {
    "duration": 267702,
    "start_time": "2024-03-08T16:51:22.731Z"
   },
   {
    "duration": 22,
    "start_time": "2024-03-08T16:55:57.332Z"
   },
   {
    "duration": 4,
    "start_time": "2024-03-08T16:57:24.214Z"
   },
   {
    "duration": 690606,
    "start_time": "2024-03-08T16:57:26.648Z"
   },
   {
    "duration": 20,
    "start_time": "2024-03-08T17:09:08.037Z"
   },
   {
    "duration": 1752,
    "start_time": "2024-03-08T17:13:59.066Z"
   },
   {
    "duration": 7,
    "start_time": "2024-03-08T17:14:11.626Z"
   },
   {
    "duration": 3,
    "start_time": "2024-03-08T17:15:03.718Z"
   },
   {
    "duration": 19147,
    "start_time": "2024-03-08T17:15:12.088Z"
   },
   {
    "duration": 2486,
    "start_time": "2024-03-08T17:15:37.616Z"
   },
   {
    "duration": 5,
    "start_time": "2024-03-08T17:15:42.549Z"
   },
   {
    "duration": 241,
    "start_time": "2024-03-08T17:34:59.071Z"
   },
   {
    "duration": 245,
    "start_time": "2024-03-08T17:35:14.781Z"
   },
   {
    "duration": 269,
    "start_time": "2024-03-08T17:35:29.802Z"
   },
   {
    "duration": 245,
    "start_time": "2024-03-08T17:36:09.443Z"
   },
   {
    "duration": 267,
    "start_time": "2024-03-08T17:37:01.519Z"
   },
   {
    "duration": 259,
    "start_time": "2024-03-08T17:37:45.504Z"
   },
   {
    "duration": 268,
    "start_time": "2024-03-08T17:38:04.630Z"
   },
   {
    "duration": 276,
    "start_time": "2024-03-08T17:38:10.943Z"
   },
   {
    "duration": 258,
    "start_time": "2024-03-08T17:38:20.121Z"
   },
   {
    "duration": 206,
    "start_time": "2024-03-08T17:38:51.280Z"
   },
   {
    "duration": 212,
    "start_time": "2024-03-08T17:39:03.511Z"
   },
   {
    "duration": 233,
    "start_time": "2024-03-08T17:39:09.554Z"
   },
   {
    "duration": 11,
    "start_time": "2024-03-08T17:41:00.354Z"
   },
   {
    "duration": 11,
    "start_time": "2024-03-08T17:41:15.317Z"
   },
   {
    "duration": 132,
    "start_time": "2024-03-08T17:41:35.270Z"
   },
   {
    "duration": 1069,
    "start_time": "2024-03-08T17:41:51.330Z"
   },
   {
    "duration": 235,
    "start_time": "2024-03-08T17:42:07.044Z"
   },
   {
    "duration": 115,
    "start_time": "2024-03-08T17:43:03.057Z"
   },
   {
    "duration": 115,
    "start_time": "2024-03-08T17:43:11.614Z"
   },
   {
    "duration": 139,
    "start_time": "2024-03-08T17:43:59.513Z"
   },
   {
    "duration": 319,
    "start_time": "2024-03-08T17:48:43.690Z"
   },
   {
    "duration": 222,
    "start_time": "2024-03-08T17:52:18.189Z"
   },
   {
    "duration": 11,
    "start_time": "2024-03-08T17:54:04.962Z"
   },
   {
    "duration": 9,
    "start_time": "2024-03-08T17:54:10.211Z"
   },
   {
    "duration": 10,
    "start_time": "2024-03-08T17:54:16.180Z"
   },
   {
    "duration": 10,
    "start_time": "2024-03-08T17:54:27.068Z"
   },
   {
    "duration": 10,
    "start_time": "2024-03-08T17:54:54.424Z"
   },
   {
    "duration": 10,
    "start_time": "2024-03-08T17:55:02.569Z"
   },
   {
    "duration": 10,
    "start_time": "2024-03-08T17:55:08.846Z"
   },
   {
    "duration": 10,
    "start_time": "2024-03-08T17:55:14.911Z"
   },
   {
    "duration": 10,
    "start_time": "2024-03-08T17:55:42.869Z"
   },
   {
    "duration": 9,
    "start_time": "2024-03-08T17:55:48.896Z"
   },
   {
    "duration": 80,
    "start_time": "2024-03-08T18:03:10.934Z"
   },
   {
    "duration": 18,
    "start_time": "2024-03-08T18:03:38.515Z"
   },
   {
    "duration": 11,
    "start_time": "2024-03-08T18:04:59.709Z"
   },
   {
    "duration": 11,
    "start_time": "2024-03-08T18:06:05.104Z"
   },
   {
    "duration": 5430,
    "start_time": "2024-03-08T18:09:48.518Z"
   },
   {
    "duration": 4,
    "start_time": "2024-03-08T18:10:20.205Z"
   },
   {
    "duration": 20615,
    "start_time": "2024-03-08T18:10:23.760Z"
   },
   {
    "duration": 0,
    "start_time": "2024-03-08T18:10:44.378Z"
   },
   {
    "duration": 0,
    "start_time": "2024-03-08T18:10:44.380Z"
   },
   {
    "duration": 0,
    "start_time": "2024-03-08T18:10:44.381Z"
   },
   {
    "duration": 0,
    "start_time": "2024-03-08T18:10:44.383Z"
   },
   {
    "duration": 0,
    "start_time": "2024-03-08T18:10:44.391Z"
   },
   {
    "duration": 0,
    "start_time": "2024-03-08T18:10:44.392Z"
   },
   {
    "duration": 0,
    "start_time": "2024-03-08T18:10:44.394Z"
   },
   {
    "duration": 0,
    "start_time": "2024-03-08T18:10:44.395Z"
   },
   {
    "duration": 0,
    "start_time": "2024-03-08T18:10:44.396Z"
   },
   {
    "duration": 0,
    "start_time": "2024-03-08T18:10:44.397Z"
   },
   {
    "duration": 0,
    "start_time": "2024-03-08T18:10:44.398Z"
   },
   {
    "duration": 0,
    "start_time": "2024-03-08T18:10:44.399Z"
   },
   {
    "duration": 0,
    "start_time": "2024-03-08T18:10:44.401Z"
   },
   {
    "duration": 0,
    "start_time": "2024-03-08T18:10:44.402Z"
   },
   {
    "duration": 0,
    "start_time": "2024-03-08T18:10:44.403Z"
   },
   {
    "duration": 0,
    "start_time": "2024-03-08T18:10:44.404Z"
   },
   {
    "duration": 1,
    "start_time": "2024-03-08T18:10:44.405Z"
   },
   {
    "duration": 0,
    "start_time": "2024-03-08T18:10:44.407Z"
   },
   {
    "duration": 0,
    "start_time": "2024-03-08T18:10:44.408Z"
   },
   {
    "duration": 0,
    "start_time": "2024-03-08T18:10:44.409Z"
   },
   {
    "duration": 0,
    "start_time": "2024-03-08T18:10:44.410Z"
   },
   {
    "duration": 0,
    "start_time": "2024-03-08T18:10:44.411Z"
   },
   {
    "duration": 20081,
    "start_time": "2024-03-08T18:10:45.060Z"
   },
   {
    "duration": 5596,
    "start_time": "2024-03-08T18:11:10.525Z"
   },
   {
    "duration": 3082,
    "start_time": "2024-03-08T18:11:16.123Z"
   },
   {
    "duration": 113,
    "start_time": "2024-03-08T18:11:19.207Z"
   },
   {
    "duration": 289,
    "start_time": "2024-03-08T18:11:19.322Z"
   },
   {
    "duration": 296,
    "start_time": "2024-03-08T18:11:19.613Z"
   },
   {
    "duration": 276,
    "start_time": "2024-03-08T18:11:19.910Z"
   },
   {
    "duration": 35,
    "start_time": "2024-03-08T18:11:20.191Z"
   },
   {
    "duration": 142,
    "start_time": "2024-03-08T18:11:20.227Z"
   },
   {
    "duration": 8,
    "start_time": "2024-03-08T18:11:20.371Z"
   },
   {
    "duration": 71,
    "start_time": "2024-03-08T18:11:20.381Z"
   },
   {
    "duration": 219,
    "start_time": "2024-03-08T18:11:20.454Z"
   },
   {
    "duration": 211,
    "start_time": "2024-03-08T18:11:20.675Z"
   },
   {
    "duration": 11,
    "start_time": "2024-03-08T18:11:20.891Z"
   },
   {
    "duration": 120,
    "start_time": "2024-03-08T18:11:20.904Z"
   },
   {
    "duration": 107,
    "start_time": "2024-03-08T18:11:21.026Z"
   },
   {
    "duration": 16,
    "start_time": "2024-03-08T18:11:21.135Z"
   },
   {
    "duration": 12,
    "start_time": "2024-03-08T18:11:21.153Z"
   },
   {
    "duration": 27,
    "start_time": "2024-03-08T18:11:21.167Z"
   },
   {
    "duration": 101,
    "start_time": "2024-03-08T18:11:21.196Z"
   },
   {
    "duration": 49,
    "start_time": "2024-03-08T18:11:21.299Z"
   },
   {
    "duration": 4,
    "start_time": "2024-03-08T18:11:21.349Z"
   },
   {
    "duration": 22,
    "start_time": "2024-03-08T18:11:21.355Z"
   },
   {
    "duration": 72337,
    "start_time": "2024-03-08T18:11:21.379Z"
   },
   {
    "duration": 37,
    "start_time": "2024-03-08T18:19:06.798Z"
   },
   {
    "duration": 39,
    "start_time": "2024-03-08T18:19:07.754Z"
   },
   {
    "duration": 39,
    "start_time": "2024-03-08T18:19:08.299Z"
   },
   {
    "duration": 37,
    "start_time": "2024-03-08T18:19:11.542Z"
   },
   {
    "duration": 35,
    "start_time": "2024-03-08T18:19:12.445Z"
   },
   {
    "duration": 10,
    "start_time": "2024-03-08T18:28:54.801Z"
   },
   {
    "duration": 3,
    "start_time": "2024-03-08T18:35:37.215Z"
   },
   {
    "duration": 33880,
    "start_time": "2024-03-08T18:35:43.520Z"
   },
   {
    "duration": 1190,
    "start_time": "2024-03-08T18:36:27.858Z"
   },
   {
    "duration": 6,
    "start_time": "2024-03-08T18:36:30.029Z"
   },
   {
    "duration": 7450,
    "start_time": "2024-03-08T18:56:38.132Z"
   },
   {
    "duration": 1236,
    "start_time": "2024-03-08T18:56:45.584Z"
   },
   {
    "duration": 123,
    "start_time": "2024-03-08T18:56:46.822Z"
   },
   {
    "duration": 346,
    "start_time": "2024-03-08T18:56:46.947Z"
   },
   {
    "duration": 394,
    "start_time": "2024-03-08T18:56:47.295Z"
   },
   {
    "duration": 279,
    "start_time": "2024-03-08T18:56:47.691Z"
   },
   {
    "duration": 54,
    "start_time": "2024-03-08T18:56:47.972Z"
   },
   {
    "duration": 155,
    "start_time": "2024-03-08T18:56:48.028Z"
   },
   {
    "duration": 9,
    "start_time": "2024-03-08T18:56:48.185Z"
   },
   {
    "duration": 71,
    "start_time": "2024-03-08T18:56:48.196Z"
   },
   {
    "duration": 240,
    "start_time": "2024-03-08T18:56:48.268Z"
   },
   {
    "duration": 211,
    "start_time": "2024-03-08T18:56:48.509Z"
   },
   {
    "duration": 11,
    "start_time": "2024-03-08T18:56:48.722Z"
   },
   {
    "duration": 119,
    "start_time": "2024-03-08T18:56:48.736Z"
   },
   {
    "duration": 119,
    "start_time": "2024-03-08T18:56:48.857Z"
   },
   {
    "duration": 15,
    "start_time": "2024-03-08T18:56:48.977Z"
   },
   {
    "duration": 17,
    "start_time": "2024-03-08T18:56:48.994Z"
   },
   {
    "duration": 10,
    "start_time": "2024-03-08T18:56:49.012Z"
   },
   {
    "duration": 129,
    "start_time": "2024-03-08T18:56:49.024Z"
   },
   {
    "duration": 70,
    "start_time": "2024-03-08T18:56:49.155Z"
   },
   {
    "duration": 3,
    "start_time": "2024-03-08T18:56:49.227Z"
   },
   {
    "duration": 4,
    "start_time": "2024-03-08T18:56:49.232Z"
   },
   {
    "duration": 75100,
    "start_time": "2024-03-08T18:56:49.238Z"
   },
   {
    "duration": 31,
    "start_time": "2024-03-08T18:58:04.340Z"
   },
   {
    "duration": 92,
    "start_time": "2024-03-08T18:58:04.373Z"
   },
   {
    "duration": 44,
    "start_time": "2024-03-08T18:58:04.467Z"
   },
   {
    "duration": 35,
    "start_time": "2024-03-08T18:58:04.513Z"
   },
   {
    "duration": 56,
    "start_time": "2024-03-08T18:58:04.549Z"
   },
   {
    "duration": 35,
    "start_time": "2024-03-08T18:58:04.607Z"
   },
   {
    "duration": 48,
    "start_time": "2024-03-08T18:58:04.644Z"
   },
   {
    "duration": 2,
    "start_time": "2024-03-08T18:58:04.694Z"
   },
   {
    "duration": 80,
    "start_time": "2024-03-08T18:58:04.698Z"
   },
   {
    "duration": 16,
    "start_time": "2024-03-08T18:58:04.780Z"
   },
   {
    "duration": 10,
    "start_time": "2024-03-08T18:58:04.797Z"
   },
   {
    "duration": 7,
    "start_time": "2024-03-08T18:58:04.809Z"
   },
   {
    "duration": 710902,
    "start_time": "2024-03-08T18:58:04.817Z"
   },
   {
    "duration": 20,
    "start_time": "2024-03-08T19:09:55.721Z"
   },
   {
    "duration": 22,
    "start_time": "2024-03-08T19:09:55.743Z"
   },
   {
    "duration": 33722,
    "start_time": "2024-03-08T19:09:55.766Z"
   },
   {
    "duration": 1302,
    "start_time": "2024-03-08T19:10:29.491Z"
   },
   {
    "duration": 6,
    "start_time": "2024-03-08T19:10:30.796Z"
   },
   {
    "duration": 40,
    "start_time": "2024-03-09T12:54:30.998Z"
   },
   {
    "duration": 11526,
    "start_time": "2024-03-09T12:54:37.173Z"
   },
   {
    "duration": 1032,
    "start_time": "2024-03-09T12:54:48.701Z"
   },
   {
    "duration": 71,
    "start_time": "2024-03-09T12:54:49.734Z"
   },
   {
    "duration": 234,
    "start_time": "2024-03-09T12:54:49.807Z"
   },
   {
    "duration": 265,
    "start_time": "2024-03-09T12:54:50.042Z"
   },
   {
    "duration": 255,
    "start_time": "2024-03-09T12:54:50.308Z"
   },
   {
    "duration": 45,
    "start_time": "2024-03-09T12:54:50.564Z"
   },
   {
    "duration": 108,
    "start_time": "2024-03-09T12:54:50.711Z"
   },
   {
    "duration": 8,
    "start_time": "2024-03-09T12:54:53.948Z"
   },
   {
    "duration": 49,
    "start_time": "2024-03-09T12:54:55.775Z"
   },
   {
    "duration": 168,
    "start_time": "2024-03-09T12:54:57.966Z"
   },
   {
    "duration": 155,
    "start_time": "2024-03-09T12:55:03.498Z"
   },
   {
    "duration": 31,
    "start_time": "2024-03-09T12:55:04.216Z"
   },
   {
    "duration": 6119,
    "start_time": "2024-03-09T12:56:42.377Z"
   },
   {
    "duration": 839,
    "start_time": "2024-03-09T12:56:48.497Z"
   },
   {
    "duration": 77,
    "start_time": "2024-03-09T12:56:49.337Z"
   },
   {
    "duration": 236,
    "start_time": "2024-03-09T12:56:49.415Z"
   },
   {
    "duration": 278,
    "start_time": "2024-03-09T12:56:49.652Z"
   },
   {
    "duration": 227,
    "start_time": "2024-03-09T12:56:49.931Z"
   },
   {
    "duration": 43,
    "start_time": "2024-03-09T12:56:50.159Z"
   },
   {
    "duration": 110,
    "start_time": "2024-03-09T12:56:50.204Z"
   },
   {
    "duration": 8,
    "start_time": "2024-03-09T12:56:50.315Z"
   },
   {
    "duration": 80,
    "start_time": "2024-03-09T12:56:50.325Z"
   },
   {
    "duration": 175,
    "start_time": "2024-03-09T12:56:50.407Z"
   },
   {
    "duration": 167,
    "start_time": "2024-03-09T12:56:50.583Z"
   },
   {
    "duration": 31,
    "start_time": "2024-03-09T12:56:50.751Z"
   },
   {
    "duration": 70,
    "start_time": "2024-03-09T12:56:50.784Z"
   },
   {
    "duration": 80,
    "start_time": "2024-03-09T12:56:50.855Z"
   },
   {
    "duration": 30,
    "start_time": "2024-03-09T12:56:50.936Z"
   },
   {
    "duration": 33,
    "start_time": "2024-03-09T12:56:50.967Z"
   },
   {
    "duration": 7,
    "start_time": "2024-03-09T12:56:51.001Z"
   },
   {
    "duration": 99,
    "start_time": "2024-03-09T12:56:51.009Z"
   },
   {
    "duration": 43,
    "start_time": "2024-03-09T12:56:51.109Z"
   },
   {
    "duration": 3,
    "start_time": "2024-03-09T12:56:51.153Z"
   },
   {
    "duration": 37,
    "start_time": "2024-03-09T12:56:51.157Z"
   },
   {
    "duration": 2,
    "start_time": "2024-03-09T12:56:51.195Z"
   },
   {
    "duration": 28114,
    "start_time": "2024-03-09T12:56:51.199Z"
   },
   {
    "duration": 136,
    "start_time": "2024-03-09T12:57:19.315Z"
   },
   {
    "duration": 0,
    "start_time": "2024-03-09T12:57:19.460Z"
   },
   {
    "duration": 0,
    "start_time": "2024-03-09T12:57:19.462Z"
   },
   {
    "duration": 0,
    "start_time": "2024-03-09T12:57:19.464Z"
   },
   {
    "duration": 0,
    "start_time": "2024-03-09T12:57:19.465Z"
   },
   {
    "duration": 0,
    "start_time": "2024-03-09T12:57:19.466Z"
   },
   {
    "duration": 0,
    "start_time": "2024-03-09T12:57:19.467Z"
   },
   {
    "duration": 0,
    "start_time": "2024-03-09T12:57:19.469Z"
   },
   {
    "duration": 0,
    "start_time": "2024-03-09T12:57:19.470Z"
   },
   {
    "duration": 1,
    "start_time": "2024-03-09T12:57:19.470Z"
   },
   {
    "duration": 0,
    "start_time": "2024-03-09T12:57:19.471Z"
   },
   {
    "duration": 0,
    "start_time": "2024-03-09T12:57:19.472Z"
   },
   {
    "duration": 0,
    "start_time": "2024-03-09T12:57:19.473Z"
   },
   {
    "duration": 0,
    "start_time": "2024-03-09T12:57:19.474Z"
   },
   {
    "duration": 0,
    "start_time": "2024-03-09T12:57:19.475Z"
   },
   {
    "duration": 0,
    "start_time": "2024-03-09T12:57:19.476Z"
   },
   {
    "duration": 0,
    "start_time": "2024-03-09T12:57:19.477Z"
   },
   {
    "duration": 0,
    "start_time": "2024-03-09T12:57:19.478Z"
   },
   {
    "duration": 0,
    "start_time": "2024-03-09T12:57:19.479Z"
   },
   {
    "duration": 2,
    "start_time": "2024-03-09T12:58:08.566Z"
   },
   {
    "duration": 10890,
    "start_time": "2024-03-09T12:58:12.890Z"
   },
   {
    "duration": 7,
    "start_time": "2024-03-09T13:02:14.753Z"
   },
   {
    "duration": 15,
    "start_time": "2024-03-09T13:02:20.070Z"
   },
   {
    "duration": 18,
    "start_time": "2024-03-09T13:02:22.652Z"
   },
   {
    "duration": 110,
    "start_time": "2024-03-09T13:02:26.304Z"
   },
   {
    "duration": 100,
    "start_time": "2024-03-09T13:03:06.905Z"
   },
   {
    "duration": 134,
    "start_time": "2024-03-09T13:03:19.659Z"
   },
   {
    "duration": 2,
    "start_time": "2024-03-09T13:05:36.006Z"
   },
   {
    "duration": 52,
    "start_time": "2024-03-09T13:05:36.440Z"
   },
   {
    "duration": 49,
    "start_time": "2024-03-09T13:05:36.908Z"
   },
   {
    "duration": 28,
    "start_time": "2024-03-09T13:11:59.881Z"
   },
   {
    "duration": 92,
    "start_time": "2024-03-09T13:13:20.467Z"
   },
   {
    "duration": 4,
    "start_time": "2024-03-09T13:13:21.069Z"
   },
   {
    "duration": 4,
    "start_time": "2024-03-09T13:13:27.124Z"
   },
   {
    "duration": 3,
    "start_time": "2024-03-09T13:13:37.313Z"
   },
   {
    "duration": 2,
    "start_time": "2024-03-09T13:14:44.128Z"
   },
   {
    "duration": 70,
    "start_time": "2024-03-09T13:14:46.951Z"
   },
   {
    "duration": 9,
    "start_time": "2024-03-09T13:17:08.478Z"
   },
   {
    "duration": 3,
    "start_time": "2024-03-09T13:17:13.527Z"
   },
   {
    "duration": 82,
    "start_time": "2024-03-09T13:17:16.354Z"
   },
   {
    "duration": 3,
    "start_time": "2024-03-09T13:17:38.282Z"
   },
   {
    "duration": 79,
    "start_time": "2024-03-09T13:17:40.000Z"
   },
   {
    "duration": 4,
    "start_time": "2024-03-09T13:23:02.059Z"
   },
   {
    "duration": 3,
    "start_time": "2024-03-09T13:23:10.066Z"
   },
   {
    "duration": 3,
    "start_time": "2024-03-09T13:23:29.948Z"
   },
   {
    "duration": 70,
    "start_time": "2024-03-09T13:23:32.730Z"
   },
   {
    "duration": 2,
    "start_time": "2024-03-09T13:24:04.601Z"
   },
   {
    "duration": 57614,
    "start_time": "2024-03-09T13:24:06.693Z"
   },
   {
    "duration": 10,
    "start_time": "2024-03-09T13:25:22.101Z"
   },
   {
    "duration": 3,
    "start_time": "2024-03-09T13:27:05.468Z"
   },
   {
    "duration": 70,
    "start_time": "2024-03-09T13:27:08.537Z"
   },
   {
    "duration": 4,
    "start_time": "2024-03-09T13:27:14.144Z"
   },
   {
    "duration": 815,
    "start_time": "2024-03-09T13:27:20.385Z"
   },
   {
    "duration": 61,
    "start_time": "2024-03-09T13:27:32.968Z"
   },
   {
    "duration": 72,
    "start_time": "2024-03-09T13:28:22.177Z"
   },
   {
    "duration": 2,
    "start_time": "2024-03-09T13:28:34.880Z"
   },
   {
    "duration": 3,
    "start_time": "2024-03-09T13:28:51.763Z"
   },
   {
    "duration": 22,
    "start_time": "2024-03-09T13:28:59.145Z"
   },
   {
    "duration": 5,
    "start_time": "2024-03-09T13:29:34.190Z"
   },
   {
    "duration": 3,
    "start_time": "2024-03-09T13:29:34.924Z"
   },
   {
    "duration": 3,
    "start_time": "2024-03-09T13:29:35.549Z"
   },
   {
    "duration": 3,
    "start_time": "2024-03-09T13:29:38.116Z"
   },
   {
    "duration": 56,
    "start_time": "2024-03-09T13:29:38.487Z"
   },
   {
    "duration": 3,
    "start_time": "2024-03-09T13:30:31.726Z"
   },
   {
    "duration": 58793,
    "start_time": "2024-03-09T13:30:34.916Z"
   },
   {
    "duration": 69,
    "start_time": "2024-03-09T13:34:03.233Z"
   },
   {
    "duration": 5211,
    "start_time": "2024-03-09T13:39:13.038Z"
   },
   {
    "duration": 48425,
    "start_time": "2024-03-09T13:42:22.420Z"
   },
   {
    "duration": 3,
    "start_time": "2024-03-09T13:43:10.846Z"
   },
   {
    "duration": 29146,
    "start_time": "2024-03-09T13:44:33.168Z"
   },
   {
    "duration": 12,
    "start_time": "2024-03-09T13:45:19.799Z"
   },
   {
    "duration": 7,
    "start_time": "2024-03-09T13:45:54.876Z"
   },
   {
    "duration": 5053,
    "start_time": "2024-03-09T13:47:29.102Z"
   },
   {
    "duration": 35709,
    "start_time": "2024-03-09T13:47:38.021Z"
   },
   {
    "duration": 4,
    "start_time": "2024-03-09T13:48:41.089Z"
   },
   {
    "duration": 5,
    "start_time": "2024-03-09T13:49:31.026Z"
   },
   {
    "duration": 13,
    "start_time": "2024-03-09T13:49:38.848Z"
   },
   {
    "duration": 5,
    "start_time": "2024-03-09T13:49:43.718Z"
   },
   {
    "duration": 4,
    "start_time": "2024-03-09T13:50:12.561Z"
   },
   {
    "duration": 4,
    "start_time": "2024-03-09T13:50:34.036Z"
   },
   {
    "duration": 4,
    "start_time": "2024-03-09T13:50:41.728Z"
   },
   {
    "duration": 3,
    "start_time": "2024-03-09T13:50:44.572Z"
   },
   {
    "duration": 30763,
    "start_time": "2024-03-09T13:52:00.389Z"
   },
   {
    "duration": 4,
    "start_time": "2024-03-09T13:53:26.315Z"
   },
   {
    "duration": 6,
    "start_time": "2024-03-09T13:53:27.034Z"
   },
   {
    "duration": 4,
    "start_time": "2024-03-09T13:53:28.898Z"
   },
   {
    "duration": 58941,
    "start_time": "2024-03-09T13:56:25.551Z"
   },
   {
    "duration": 27,
    "start_time": "2024-03-09T13:57:40.512Z"
   },
   {
    "duration": 3,
    "start_time": "2024-03-09T13:57:47.016Z"
   },
   {
    "duration": 657,
    "start_time": "2024-03-09T13:58:03.892Z"
   },
   {
    "duration": 4,
    "start_time": "2024-03-09T13:58:51.784Z"
   },
   {
    "duration": 4,
    "start_time": "2024-03-09T13:58:54.776Z"
   },
   {
    "duration": 627,
    "start_time": "2024-03-09T13:58:58.424Z"
   },
   {
    "duration": 5,
    "start_time": "2024-03-09T13:59:06.124Z"
   },
   {
    "duration": 3,
    "start_time": "2024-03-09T13:59:06.793Z"
   },
   {
    "duration": 3,
    "start_time": "2024-03-09T13:59:08.190Z"
   },
   {
    "duration": 3,
    "start_time": "2024-03-09T13:59:09.850Z"
   },
   {
    "duration": 2,
    "start_time": "2024-03-09T13:59:12.068Z"
   },
   {
    "duration": 3,
    "start_time": "2024-03-09T13:59:14.242Z"
   },
   {
    "duration": 1415282,
    "start_time": "2024-03-09T13:59:20.366Z"
   },
   {
    "duration": 8,
    "start_time": "2024-03-09T14:28:00.673Z"
   },
   {
    "duration": 6,
    "start_time": "2024-03-09T14:28:08.967Z"
   },
   {
    "duration": 14,
    "start_time": "2024-03-09T14:28:15.640Z"
   },
   {
    "duration": 48,
    "start_time": "2024-03-09T14:55:16.175Z"
   },
   {
    "duration": 47,
    "start_time": "2024-03-09T14:55:16.736Z"
   },
   {
    "duration": 6,
    "start_time": "2024-03-09T14:55:18.672Z"
   },
   {
    "duration": 3,
    "start_time": "2024-03-09T14:55:19.730Z"
   },
   {
    "duration": 3,
    "start_time": "2024-03-09T14:55:21.708Z"
   },
   {
    "duration": 2,
    "start_time": "2024-03-09T14:55:22.233Z"
   },
   {
    "duration": 3,
    "start_time": "2024-03-09T14:55:23.248Z"
   },
   {
    "duration": 4,
    "start_time": "2024-03-09T14:55:25.885Z"
   },
   {
    "duration": 514729,
    "start_time": "2024-03-09T14:55:34.530Z"
   },
   {
    "duration": 14,
    "start_time": "2024-03-09T15:07:42.638Z"
   },
   {
    "duration": 42,
    "start_time": "2024-03-09T15:08:37.317Z"
   },
   {
    "duration": 5,
    "start_time": "2024-03-09T15:08:40.628Z"
   },
   {
    "duration": 3,
    "start_time": "2024-03-09T15:08:42.823Z"
   },
   {
    "duration": 4,
    "start_time": "2024-03-09T15:08:46.404Z"
   },
   {
    "duration": 3,
    "start_time": "2024-03-09T15:08:47.235Z"
   },
   {
    "duration": 3,
    "start_time": "2024-03-09T15:08:50.844Z"
   },
   {
    "duration": 492964,
    "start_time": "2024-03-09T15:08:55.561Z"
   },
   {
    "duration": 14,
    "start_time": "2024-03-09T15:17:15.473Z"
   },
   {
    "duration": 53,
    "start_time": "2024-03-09T15:18:09.267Z"
   },
   {
    "duration": 6,
    "start_time": "2024-03-09T15:18:17.003Z"
   },
   {
    "duration": 487834,
    "start_time": "2024-03-09T15:18:28.846Z"
   },
   {
    "duration": 14,
    "start_time": "2024-03-09T15:26:36.681Z"
   },
   {
    "duration": 5,
    "start_time": "2024-03-09T16:01:13.730Z"
   },
   {
    "duration": 5,
    "start_time": "2024-03-09T16:02:41.168Z"
   },
   {
    "duration": 12,
    "start_time": "2024-03-09T16:03:00.166Z"
   },
   {
    "duration": 7,
    "start_time": "2024-03-09T16:04:06.012Z"
   },
   {
    "duration": 14,
    "start_time": "2024-03-09T16:04:10.356Z"
   },
   {
    "duration": 26431,
    "start_time": "2024-03-09T16:31:48.853Z"
   },
   {
    "duration": 796,
    "start_time": "2024-03-09T16:32:27.213Z"
   },
   {
    "duration": 5,
    "start_time": "2024-03-09T16:32:28.700Z"
   },
   {
    "duration": 8,
    "start_time": "2024-03-09T16:34:51.392Z"
   },
   {
    "duration": 4970,
    "start_time": "2024-03-09T16:34:58.911Z"
   },
   {
    "duration": 6,
    "start_time": "2024-03-09T16:35:12.963Z"
   },
   {
    "duration": 4,
    "start_time": "2024-03-09T16:36:11.359Z"
   },
   {
    "duration": 5,
    "start_time": "2024-03-09T16:36:12.170Z"
   },
   {
    "duration": 7,
    "start_time": "2024-03-09T16:49:24.333Z"
   },
   {
    "duration": 13,
    "start_time": "2024-03-09T16:49:24.976Z"
   },
   {
    "duration": 3,
    "start_time": "2024-03-09T16:50:42.944Z"
   },
   {
    "duration": 6296,
    "start_time": "2024-03-09T16:51:35.054Z"
   },
   {
    "duration": 922,
    "start_time": "2024-03-09T16:51:41.352Z"
   },
   {
    "duration": 102,
    "start_time": "2024-03-09T16:51:42.276Z"
   },
   {
    "duration": 298,
    "start_time": "2024-03-09T16:51:42.383Z"
   },
   {
    "duration": 281,
    "start_time": "2024-03-09T16:51:42.682Z"
   },
   {
    "duration": 213,
    "start_time": "2024-03-09T16:51:42.964Z"
   },
   {
    "duration": 46,
    "start_time": "2024-03-09T16:51:43.178Z"
   },
   {
    "duration": 109,
    "start_time": "2024-03-09T16:51:43.226Z"
   },
   {
    "duration": 7,
    "start_time": "2024-03-09T16:51:43.336Z"
   },
   {
    "duration": 58,
    "start_time": "2024-03-09T16:51:43.344Z"
   },
   {
    "duration": 174,
    "start_time": "2024-03-09T16:51:43.403Z"
   },
   {
    "duration": 173,
    "start_time": "2024-03-09T16:51:43.578Z"
   },
   {
    "duration": 34,
    "start_time": "2024-03-09T16:51:43.753Z"
   },
   {
    "duration": 90,
    "start_time": "2024-03-09T16:51:43.789Z"
   },
   {
    "duration": 82,
    "start_time": "2024-03-09T16:51:43.881Z"
   },
   {
    "duration": 7,
    "start_time": "2024-03-09T16:51:43.964Z"
   },
   {
    "duration": 10,
    "start_time": "2024-03-09T16:51:43.972Z"
   },
   {
    "duration": 19,
    "start_time": "2024-03-09T16:51:43.983Z"
   },
   {
    "duration": 80,
    "start_time": "2024-03-09T16:51:44.004Z"
   },
   {
    "duration": 43,
    "start_time": "2024-03-09T16:51:44.085Z"
   },
   {
    "duration": 2,
    "start_time": "2024-03-09T16:51:44.129Z"
   },
   {
    "duration": 24,
    "start_time": "2024-03-09T16:51:44.132Z"
   },
   {
    "duration": 2,
    "start_time": "2024-03-09T16:51:44.157Z"
   },
   {
    "duration": 19896,
    "start_time": "2024-03-09T16:51:44.160Z"
   },
   {
    "duration": 18,
    "start_time": "2024-03-09T16:52:04.058Z"
   },
   {
    "duration": 33,
    "start_time": "2024-03-09T16:52:04.078Z"
   },
   {
    "duration": 117,
    "start_time": "2024-03-09T16:52:04.112Z"
   },
   {
    "duration": 118,
    "start_time": "2024-03-09T16:52:04.233Z"
   },
   {
    "duration": 114,
    "start_time": "2024-03-09T16:52:04.353Z"
   },
   {
    "duration": 128,
    "start_time": "2024-03-09T16:52:04.469Z"
   },
   {
    "duration": 51,
    "start_time": "2024-03-09T16:52:04.598Z"
   },
   {
    "duration": 24,
    "start_time": "2024-03-09T16:52:04.651Z"
   },
   {
    "duration": 39,
    "start_time": "2024-03-09T16:52:04.676Z"
   },
   {
    "duration": 28,
    "start_time": "2024-03-09T16:52:04.717Z"
   },
   {
    "duration": 26,
    "start_time": "2024-03-09T16:52:04.746Z"
   },
   {
    "duration": 54,
    "start_time": "2024-03-09T16:52:04.773Z"
   },
   {
    "duration": 28,
    "start_time": "2024-03-09T16:52:04.828Z"
   },
   {
    "duration": 2,
    "start_time": "2024-03-09T16:52:04.857Z"
   },
   {
    "duration": 56,
    "start_time": "2024-03-09T16:52:04.861Z"
   },
   {
    "duration": 53,
    "start_time": "2024-03-09T16:52:04.918Z"
   },
   {
    "duration": 6,
    "start_time": "2024-03-09T16:52:04.973Z"
   },
   {
    "duration": 15,
    "start_time": "2024-03-09T16:52:04.980Z"
   },
   {
    "duration": 23,
    "start_time": "2024-03-09T16:52:04.996Z"
   },
   {
    "duration": 18,
    "start_time": "2024-03-09T16:52:05.021Z"
   },
   {
    "duration": 47,
    "start_time": "2024-03-09T16:52:05.040Z"
   },
   {
    "duration": 6,
    "start_time": "2024-03-09T16:52:05.088Z"
   },
   {
    "duration": 33505,
    "start_time": "2024-03-09T16:52:05.096Z"
   },
   {
    "duration": 206,
    "start_time": "2024-03-09T16:52:38.602Z"
   },
   {
    "duration": 0,
    "start_time": "2024-03-09T16:52:38.810Z"
   },
   {
    "duration": 0,
    "start_time": "2024-03-09T16:52:38.811Z"
   },
   {
    "duration": 0,
    "start_time": "2024-03-09T16:52:38.812Z"
   },
   {
    "duration": 0,
    "start_time": "2024-03-09T16:52:38.813Z"
   },
   {
    "duration": 0,
    "start_time": "2024-03-09T16:52:38.814Z"
   },
   {
    "duration": 0,
    "start_time": "2024-03-09T16:52:38.815Z"
   },
   {
    "duration": 1,
    "start_time": "2024-03-09T16:52:38.815Z"
   },
   {
    "duration": 0,
    "start_time": "2024-03-09T16:52:38.816Z"
   },
   {
    "duration": 0,
    "start_time": "2024-03-09T16:52:38.817Z"
   },
   {
    "duration": 3,
    "start_time": "2024-03-09T16:56:48.540Z"
   },
   {
    "duration": 5,
    "start_time": "2024-03-09T16:56:58.107Z"
   },
   {
    "duration": 3,
    "start_time": "2024-03-09T16:57:01.907Z"
   },
   {
    "duration": 3,
    "start_time": "2024-03-09T16:57:02.311Z"
   },
   {
    "duration": 2,
    "start_time": "2024-03-09T16:57:02.799Z"
   },
   {
    "duration": 3,
    "start_time": "2024-03-09T16:57:05.939Z"
   },
   {
    "duration": 164,
    "start_time": "2024-03-09T16:57:08.870Z"
   },
   {
    "duration": 5,
    "start_time": "2024-03-09T17:09:34.440Z"
   },
   {
    "duration": 3,
    "start_time": "2024-03-09T17:09:35.035Z"
   },
   {
    "duration": 3,
    "start_time": "2024-03-09T17:09:39.435Z"
   },
   {
    "duration": 2,
    "start_time": "2024-03-09T17:09:40.049Z"
   },
   {
    "duration": 2,
    "start_time": "2024-03-09T17:09:41.138Z"
   },
   {
    "duration": 3,
    "start_time": "2024-03-09T17:09:44.529Z"
   },
   {
    "duration": 53091,
    "start_time": "2024-03-09T17:09:47.762Z"
   },
   {
    "duration": 4,
    "start_time": "2024-03-09T17:10:47.707Z"
   },
   {
    "duration": 11,
    "start_time": "2024-03-09T17:10:50.108Z"
   },
   {
    "duration": 3,
    "start_time": "2024-03-09T17:11:40.612Z"
   },
   {
    "duration": 19222,
    "start_time": "2024-03-09T17:11:44.043Z"
   },
   {
    "duration": 5,
    "start_time": "2024-03-09T17:12:10.483Z"
   },
   {
    "duration": 9,
    "start_time": "2024-03-09T17:12:12.937Z"
   },
   {
    "duration": 5,
    "start_time": "2024-03-09T17:19:36.614Z"
   },
   {
    "duration": 26,
    "start_time": "2024-03-09T17:22:00.972Z"
   },
   {
    "duration": 19344,
    "start_time": "2024-03-09T17:23:11.533Z"
   },
   {
    "duration": 4,
    "start_time": "2024-03-09T17:24:00.832Z"
   },
   {
    "duration": 10,
    "start_time": "2024-03-09T17:24:05.664Z"
   },
   {
    "duration": 10,
    "start_time": "2024-03-09T17:24:30.276Z"
   },
   {
    "duration": 19305,
    "start_time": "2024-03-09T17:29:35.467Z"
   },
   {
    "duration": 30,
    "start_time": "2024-03-09T17:31:04.058Z"
   },
   {
    "duration": 52698,
    "start_time": "2024-03-09T17:31:08.358Z"
   },
   {
    "duration": 4,
    "start_time": "2024-03-09T17:32:01.058Z"
   },
   {
    "duration": 88,
    "start_time": "2024-03-09T17:32:01.063Z"
   },
   {
    "duration": 27,
    "start_time": "2024-03-09T17:37:40.131Z"
   },
   {
    "duration": 15,
    "start_time": "2024-03-09T17:37:44.192Z"
   },
   {
    "duration": 30,
    "start_time": "2024-03-09T17:37:58.894Z"
   },
   {
    "duration": 49032,
    "start_time": "2024-03-09T17:38:03.433Z"
   },
   {
    "duration": 4,
    "start_time": "2024-03-09T17:38:52.466Z"
   },
   {
    "duration": 9,
    "start_time": "2024-03-09T17:38:54.686Z"
   },
   {
    "duration": 6294,
    "start_time": "2024-03-09T17:40:44.320Z"
   },
   {
    "duration": 838,
    "start_time": "2024-03-09T17:40:50.616Z"
   },
   {
    "duration": 83,
    "start_time": "2024-03-09T17:40:51.455Z"
   },
   {
    "duration": 243,
    "start_time": "2024-03-09T17:40:51.539Z"
   },
   {
    "duration": 255,
    "start_time": "2024-03-09T17:40:51.784Z"
   },
   {
    "duration": 222,
    "start_time": "2024-03-09T17:40:52.041Z"
   },
   {
    "duration": 40,
    "start_time": "2024-03-09T17:40:52.265Z"
   },
   {
    "duration": 106,
    "start_time": "2024-03-09T17:40:52.307Z"
   },
   {
    "duration": 8,
    "start_time": "2024-03-09T17:40:52.414Z"
   },
   {
    "duration": 55,
    "start_time": "2024-03-09T17:40:52.424Z"
   },
   {
    "duration": 178,
    "start_time": "2024-03-09T17:40:52.480Z"
   },
   {
    "duration": 166,
    "start_time": "2024-03-09T17:40:52.659Z"
   },
   {
    "duration": 31,
    "start_time": "2024-03-09T17:40:52.826Z"
   },
   {
    "duration": 73,
    "start_time": "2024-03-09T17:40:52.858Z"
   },
   {
    "duration": 70,
    "start_time": "2024-03-09T17:40:52.932Z"
   },
   {
    "duration": 5,
    "start_time": "2024-03-09T17:40:53.004Z"
   },
   {
    "duration": 8,
    "start_time": "2024-03-09T17:40:53.010Z"
   },
   {
    "duration": 6,
    "start_time": "2024-03-09T17:40:53.019Z"
   },
   {
    "duration": 94,
    "start_time": "2024-03-09T17:40:53.026Z"
   },
   {
    "duration": 35,
    "start_time": "2024-03-09T17:40:53.121Z"
   },
   {
    "duration": 2,
    "start_time": "2024-03-09T17:40:53.157Z"
   },
   {
    "duration": 25,
    "start_time": "2024-03-09T17:40:53.161Z"
   },
   {
    "duration": 14,
    "start_time": "2024-03-09T17:40:53.188Z"
   },
   {
    "duration": 19609,
    "start_time": "2024-03-09T17:40:53.203Z"
   },
   {
    "duration": 19,
    "start_time": "2024-03-09T17:41:12.814Z"
   },
   {
    "duration": 23,
    "start_time": "2024-03-09T17:41:12.834Z"
   },
   {
    "duration": 120,
    "start_time": "2024-03-09T17:41:12.858Z"
   },
   {
    "duration": 112,
    "start_time": "2024-03-09T17:41:12.981Z"
   },
   {
    "duration": 118,
    "start_time": "2024-03-09T17:41:13.094Z"
   },
   {
    "duration": 124,
    "start_time": "2024-03-09T17:41:13.214Z"
   },
   {
    "duration": 47,
    "start_time": "2024-03-09T17:41:13.339Z"
   },
   {
    "duration": 28,
    "start_time": "2024-03-09T17:41:13.387Z"
   },
   {
    "duration": 21,
    "start_time": "2024-03-09T17:41:13.416Z"
   },
   {
    "duration": 23,
    "start_time": "2024-03-09T17:41:13.438Z"
   },
   {
    "duration": 41,
    "start_time": "2024-03-09T17:41:13.462Z"
   },
   {
    "duration": 22,
    "start_time": "2024-03-09T17:41:13.504Z"
   },
   {
    "duration": 21,
    "start_time": "2024-03-09T17:41:13.527Z"
   },
   {
    "duration": 2,
    "start_time": "2024-03-09T17:41:13.549Z"
   },
   {
    "duration": 53,
    "start_time": "2024-03-09T17:41:13.552Z"
   },
   {
    "duration": 46,
    "start_time": "2024-03-09T17:41:13.606Z"
   },
   {
    "duration": 5,
    "start_time": "2024-03-09T17:41:13.654Z"
   },
   {
    "duration": 14,
    "start_time": "2024-03-09T17:41:13.660Z"
   },
   {
    "duration": 4,
    "start_time": "2024-03-09T17:41:13.675Z"
   },
   {
    "duration": 75,
    "start_time": "2024-03-09T17:41:13.680Z"
   },
   {
    "duration": 0,
    "start_time": "2024-03-09T17:41:13.757Z"
   },
   {
    "duration": 0,
    "start_time": "2024-03-09T17:41:13.758Z"
   },
   {
    "duration": 0,
    "start_time": "2024-03-09T17:41:13.760Z"
   },
   {
    "duration": 0,
    "start_time": "2024-03-09T17:41:13.761Z"
   },
   {
    "duration": 0,
    "start_time": "2024-03-09T17:41:13.762Z"
   },
   {
    "duration": 0,
    "start_time": "2024-03-09T17:41:13.763Z"
   },
   {
    "duration": 0,
    "start_time": "2024-03-09T17:41:13.765Z"
   },
   {
    "duration": 0,
    "start_time": "2024-03-09T17:41:13.766Z"
   },
   {
    "duration": 0,
    "start_time": "2024-03-09T17:41:13.767Z"
   },
   {
    "duration": 4,
    "start_time": "2024-03-09T17:42:44.222Z"
   },
   {
    "duration": 806971,
    "start_time": "2024-03-09T17:42:51.993Z"
   },
   {
    "duration": 17,
    "start_time": "2024-03-09T17:58:52.250Z"
   },
   {
    "duration": 5,
    "start_time": "2024-03-09T18:00:41.623Z"
   },
   {
    "duration": 23216,
    "start_time": "2024-03-09T18:00:46.388Z"
   },
   {
    "duration": 759,
    "start_time": "2024-03-09T18:01:09.606Z"
   },
   {
    "duration": 5,
    "start_time": "2024-03-09T18:01:10.368Z"
   },
   {
    "duration": 13,
    "start_time": "2024-03-09T18:01:10.375Z"
   },
   {
    "duration": 21,
    "start_time": "2024-03-09T18:01:10.390Z"
   }
  ],
  "kernelspec": {
   "display_name": "Python 3 (ipykernel)",
   "language": "python",
   "name": "python3"
  },
  "language_info": {
   "codemirror_mode": {
    "name": "ipython",
    "version": 3
   },
   "file_extension": ".py",
   "mimetype": "text/x-python",
   "name": "python",
   "nbconvert_exporter": "python",
   "pygments_lexer": "ipython3",
   "version": "3.9.5"
  },
  "toc": {
   "base_numbering": 1,
   "nav_menu": {},
   "number_sections": true,
   "sideBar": true,
   "skip_h1_title": true,
   "title_cell": "Table of Contents",
   "title_sidebar": "Contents",
   "toc_cell": false,
   "toc_position": {},
   "toc_section_display": true,
   "toc_window_display": false
  }
 },
 "nbformat": 4,
 "nbformat_minor": 2
}
